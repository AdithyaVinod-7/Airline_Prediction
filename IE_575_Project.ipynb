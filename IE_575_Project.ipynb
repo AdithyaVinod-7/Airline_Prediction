{
  "nbformat": 4,
  "nbformat_minor": 0,
  "metadata": {
    "colab": {
      "provenance": []
    },
    "kernelspec": {
      "name": "python3",
      "display_name": "Python 3"
    },
    "language_info": {
      "name": "python"
    }
  },
  "cells": [
    {
      "cell_type": "code",
      "execution_count": null,
      "metadata": {
        "id": "1xR3KXPP8GJr"
      },
      "outputs": [],
      "source": [
        "# Manipulation\n",
        "import pandas as pd\n",
        "import numpy as np\n",
        "from scipy import stats\n",
        "from statsmodels.stats.outliers_influence import variance_inflation_factor\n",
        "\n",
        "# Visualization\n",
        "import seaborn as sns\n",
        "import statistics as sts\n",
        "import matplotlib.pyplot as plt\n",
        "import plotly.express as px\n",
        "\n",
        "# Stat\n",
        "from scipy.stats import skewtest\n",
        "from scipy import stats\n",
        "from scipy.stats import boxcox\n",
        "\n",
        "# ML\n",
        "from sklearn.ensemble import ExtraTreesRegressor\n",
        "from sklearn.model_selection import train_test_split\n",
        "from sklearn.model_selection import KFold\n",
        "from sklearn.model_selection import cross_val_score\n",
        "from sklearn.preprocessing import StandardScaler\n",
        "\n",
        "\n",
        "from sklearn.linear_model import LinearRegression\n",
        "from sklearn.neighbors import KNeighborsRegressor\n",
        "from sklearn.ensemble import GradientBoostingRegressor\n",
        "from sklearn.ensemble import RandomForestRegressor\n",
        "from xgboost import XGBRegressor\n",
        "from sklearn.svm import SVR\n",
        "from sklearn.tree import DecisionTreeRegressor\n",
        "from sklearn.ensemble import AdaBoostRegressor\n",
        "from sklearn.ensemble import BaggingRegressor\n",
        "import lightgbm as ltb\n",
        "\n",
        "\n",
        "\n",
        "from sklearn import metrics\n",
        "from sklearn.metrics import accuracy_score\n",
        "from sklearn.metrics import mean_absolute_error\n",
        "from sklearn.metrics import mean_squared_error\n",
        "from sklearn.metrics import mean_absolute_percentage_error\n"
      ]
    },
    {
      "cell_type": "code",
      "source": [
        "df = pd.read_excel('Dataset.xlsx')\n",
        "df.head()"
      ],
      "metadata": {
        "colab": {
          "base_uri": "https://localhost:8080/",
          "height": 588
        },
        "id": "0f7YHxIy8O8j",
        "outputId": "2fbe9587-dcd5-4cc1-b5ab-22a4cb816b29"
      },
      "execution_count": null,
      "outputs": [
        {
          "output_type": "execute_result",
          "data": {
            "text/plain": [
              "       Airline Date_of_Journey    Source Destination                  Route  \\\n",
              "0       IndiGo      24/03/2019  Banglore   New Delhi              BLR → DEL   \n",
              "1    Air India       1/05/2019   Kolkata    Banglore  CCU → IXR → BBI → BLR   \n",
              "2  Jet Airways       9/06/2019     Delhi      Cochin  DEL → LKO → BOM → COK   \n",
              "3       IndiGo      12/05/2019   Kolkata    Banglore        CCU → NAG → BLR   \n",
              "4       IndiGo      01/03/2019  Banglore   New Delhi        BLR → NAG → DEL   \n",
              "\n",
              "  Dep_Time  Arrival_Time Duration Total_Stops Additional_Info  Price  \n",
              "0    22:20  01:10 22 Mar   2h 50m    non-stop         No info   3897  \n",
              "1    05:50         13:15   7h 25m     2 stops         No info   7662  \n",
              "2    09:25  04:25 10 Jun      19h     2 stops         No info  13882  \n",
              "3    18:05         23:30   5h 25m      1 stop         No info   6218  \n",
              "4    16:50         21:35   4h 45m      1 stop         No info  13302  "
            ],
            "text/html": [
              "\n",
              "  <div id=\"df-db683a1e-a66c-440a-b3d9-5005e043f442\">\n",
              "    <div class=\"colab-df-container\">\n",
              "      <div>\n",
              "<style scoped>\n",
              "    .dataframe tbody tr th:only-of-type {\n",
              "        vertical-align: middle;\n",
              "    }\n",
              "\n",
              "    .dataframe tbody tr th {\n",
              "        vertical-align: top;\n",
              "    }\n",
              "\n",
              "    .dataframe thead th {\n",
              "        text-align: right;\n",
              "    }\n",
              "</style>\n",
              "<table border=\"1\" class=\"dataframe\">\n",
              "  <thead>\n",
              "    <tr style=\"text-align: right;\">\n",
              "      <th></th>\n",
              "      <th>Airline</th>\n",
              "      <th>Date_of_Journey</th>\n",
              "      <th>Source</th>\n",
              "      <th>Destination</th>\n",
              "      <th>Route</th>\n",
              "      <th>Dep_Time</th>\n",
              "      <th>Arrival_Time</th>\n",
              "      <th>Duration</th>\n",
              "      <th>Total_Stops</th>\n",
              "      <th>Additional_Info</th>\n",
              "      <th>Price</th>\n",
              "    </tr>\n",
              "  </thead>\n",
              "  <tbody>\n",
              "    <tr>\n",
              "      <th>0</th>\n",
              "      <td>IndiGo</td>\n",
              "      <td>24/03/2019</td>\n",
              "      <td>Banglore</td>\n",
              "      <td>New Delhi</td>\n",
              "      <td>BLR → DEL</td>\n",
              "      <td>22:20</td>\n",
              "      <td>01:10 22 Mar</td>\n",
              "      <td>2h 50m</td>\n",
              "      <td>non-stop</td>\n",
              "      <td>No info</td>\n",
              "      <td>3897</td>\n",
              "    </tr>\n",
              "    <tr>\n",
              "      <th>1</th>\n",
              "      <td>Air India</td>\n",
              "      <td>1/05/2019</td>\n",
              "      <td>Kolkata</td>\n",
              "      <td>Banglore</td>\n",
              "      <td>CCU → IXR → BBI → BLR</td>\n",
              "      <td>05:50</td>\n",
              "      <td>13:15</td>\n",
              "      <td>7h 25m</td>\n",
              "      <td>2 stops</td>\n",
              "      <td>No info</td>\n",
              "      <td>7662</td>\n",
              "    </tr>\n",
              "    <tr>\n",
              "      <th>2</th>\n",
              "      <td>Jet Airways</td>\n",
              "      <td>9/06/2019</td>\n",
              "      <td>Delhi</td>\n",
              "      <td>Cochin</td>\n",
              "      <td>DEL → LKO → BOM → COK</td>\n",
              "      <td>09:25</td>\n",
              "      <td>04:25 10 Jun</td>\n",
              "      <td>19h</td>\n",
              "      <td>2 stops</td>\n",
              "      <td>No info</td>\n",
              "      <td>13882</td>\n",
              "    </tr>\n",
              "    <tr>\n",
              "      <th>3</th>\n",
              "      <td>IndiGo</td>\n",
              "      <td>12/05/2019</td>\n",
              "      <td>Kolkata</td>\n",
              "      <td>Banglore</td>\n",
              "      <td>CCU → NAG → BLR</td>\n",
              "      <td>18:05</td>\n",
              "      <td>23:30</td>\n",
              "      <td>5h 25m</td>\n",
              "      <td>1 stop</td>\n",
              "      <td>No info</td>\n",
              "      <td>6218</td>\n",
              "    </tr>\n",
              "    <tr>\n",
              "      <th>4</th>\n",
              "      <td>IndiGo</td>\n",
              "      <td>01/03/2019</td>\n",
              "      <td>Banglore</td>\n",
              "      <td>New Delhi</td>\n",
              "      <td>BLR → NAG → DEL</td>\n",
              "      <td>16:50</td>\n",
              "      <td>21:35</td>\n",
              "      <td>4h 45m</td>\n",
              "      <td>1 stop</td>\n",
              "      <td>No info</td>\n",
              "      <td>13302</td>\n",
              "    </tr>\n",
              "  </tbody>\n",
              "</table>\n",
              "</div>\n",
              "      <button class=\"colab-df-convert\" onclick=\"convertToInteractive('df-db683a1e-a66c-440a-b3d9-5005e043f442')\"\n",
              "              title=\"Convert this dataframe to an interactive table.\"\n",
              "              style=\"display:none;\">\n",
              "        \n",
              "  <svg xmlns=\"http://www.w3.org/2000/svg\" height=\"24px\"viewBox=\"0 0 24 24\"\n",
              "       width=\"24px\">\n",
              "    <path d=\"M0 0h24v24H0V0z\" fill=\"none\"/>\n",
              "    <path d=\"M18.56 5.44l.94 2.06.94-2.06 2.06-.94-2.06-.94-.94-2.06-.94 2.06-2.06.94zm-11 1L8.5 8.5l.94-2.06 2.06-.94-2.06-.94L8.5 2.5l-.94 2.06-2.06.94zm10 10l.94 2.06.94-2.06 2.06-.94-2.06-.94-.94-2.06-.94 2.06-2.06.94z\"/><path d=\"M17.41 7.96l-1.37-1.37c-.4-.4-.92-.59-1.43-.59-.52 0-1.04.2-1.43.59L10.3 9.45l-7.72 7.72c-.78.78-.78 2.05 0 2.83L4 21.41c.39.39.9.59 1.41.59.51 0 1.02-.2 1.41-.59l7.78-7.78 2.81-2.81c.8-.78.8-2.07 0-2.86zM5.41 20L4 18.59l7.72-7.72 1.47 1.35L5.41 20z\"/>\n",
              "  </svg>\n",
              "      </button>\n",
              "      \n",
              "  <style>\n",
              "    .colab-df-container {\n",
              "      display:flex;\n",
              "      flex-wrap:wrap;\n",
              "      gap: 12px;\n",
              "    }\n",
              "\n",
              "    .colab-df-convert {\n",
              "      background-color: #E8F0FE;\n",
              "      border: none;\n",
              "      border-radius: 50%;\n",
              "      cursor: pointer;\n",
              "      display: none;\n",
              "      fill: #1967D2;\n",
              "      height: 32px;\n",
              "      padding: 0 0 0 0;\n",
              "      width: 32px;\n",
              "    }\n",
              "\n",
              "    .colab-df-convert:hover {\n",
              "      background-color: #E2EBFA;\n",
              "      box-shadow: 0px 1px 2px rgba(60, 64, 67, 0.3), 0px 1px 3px 1px rgba(60, 64, 67, 0.15);\n",
              "      fill: #174EA6;\n",
              "    }\n",
              "\n",
              "    [theme=dark] .colab-df-convert {\n",
              "      background-color: #3B4455;\n",
              "      fill: #D2E3FC;\n",
              "    }\n",
              "\n",
              "    [theme=dark] .colab-df-convert:hover {\n",
              "      background-color: #434B5C;\n",
              "      box-shadow: 0px 1px 3px 1px rgba(0, 0, 0, 0.15);\n",
              "      filter: drop-shadow(0px 1px 2px rgba(0, 0, 0, 0.3));\n",
              "      fill: #FFFFFF;\n",
              "    }\n",
              "  </style>\n",
              "\n",
              "      <script>\n",
              "        const buttonEl =\n",
              "          document.querySelector('#df-db683a1e-a66c-440a-b3d9-5005e043f442 button.colab-df-convert');\n",
              "        buttonEl.style.display =\n",
              "          google.colab.kernel.accessAllowed ? 'block' : 'none';\n",
              "\n",
              "        async function convertToInteractive(key) {\n",
              "          const element = document.querySelector('#df-db683a1e-a66c-440a-b3d9-5005e043f442');\n",
              "          const dataTable =\n",
              "            await google.colab.kernel.invokeFunction('convertToInteractive',\n",
              "                                                     [key], {});\n",
              "          if (!dataTable) return;\n",
              "\n",
              "          const docLinkHtml = 'Like what you see? Visit the ' +\n",
              "            '<a target=\"_blank\" href=https://colab.research.google.com/notebooks/data_table.ipynb>data table notebook</a>'\n",
              "            + ' to learn more about interactive tables.';\n",
              "          element.innerHTML = '';\n",
              "          dataTable['output_type'] = 'display_data';\n",
              "          await google.colab.output.renderOutput(dataTable, element);\n",
              "          const docLink = document.createElement('div');\n",
              "          docLink.innerHTML = docLinkHtml;\n",
              "          element.appendChild(docLink);\n",
              "        }\n",
              "      </script>\n",
              "    </div>\n",
              "  </div>\n",
              "  "
            ]
          },
          "metadata": {},
          "execution_count": 2
        }
      ]
    },
    {
      "cell_type": "code",
      "source": [
        "df.columns"
      ],
      "metadata": {
        "colab": {
          "base_uri": "https://localhost:8080/"
        },
        "id": "04ZgxLor8wjm",
        "outputId": "fd8d4e99-cc82-4dda-c23b-4c821998569e"
      },
      "execution_count": null,
      "outputs": [
        {
          "output_type": "execute_result",
          "data": {
            "text/plain": [
              "Index(['Airline', 'Date_of_Journey', 'Source', 'Destination', 'Route',\n",
              "       'Dep_Time', 'Arrival_Time', 'Duration', 'Total_Stops',\n",
              "       'Additional_Info', 'Price'],\n",
              "      dtype='object')"
            ]
          },
          "metadata": {},
          "execution_count": 3
        }
      ]
    },
    {
      "cell_type": "markdown",
      "source": [
        "## Checking for NA"
      ],
      "metadata": {
        "id": "M4zeUmCinPus"
      }
    },
    {
      "cell_type": "code",
      "source": [
        "df.isna().sum()\n",
        "# Just 1 row needs to be removed"
      ],
      "metadata": {
        "colab": {
          "base_uri": "https://localhost:8080/"
        },
        "id": "RqQLMUncDok8",
        "outputId": "24999cfc-da9b-405e-ab78-2a8165b0f6d4"
      },
      "execution_count": null,
      "outputs": [
        {
          "output_type": "execute_result",
          "data": {
            "text/plain": [
              "Airline            0\n",
              "Date_of_Journey    0\n",
              "Source             0\n",
              "Destination        0\n",
              "Route              1\n",
              "Dep_Time           0\n",
              "Arrival_Time       0\n",
              "Duration           0\n",
              "Total_Stops        1\n",
              "Additional_Info    0\n",
              "Price              0\n",
              "dtype: int64"
            ]
          },
          "metadata": {},
          "execution_count": 4
        }
      ]
    },
    {
      "cell_type": "code",
      "source": [
        "df.dropna(inplace=True)\n",
        "df.reset_index(drop=True, inplace=True)"
      ],
      "metadata": {
        "id": "TIM2bksTDuoh"
      },
      "execution_count": null,
      "outputs": []
    },
    {
      "cell_type": "code",
      "source": [
        "df.isna().sum()"
      ],
      "metadata": {
        "colab": {
          "base_uri": "https://localhost:8080/"
        },
        "id": "tca2lXYwDzQf",
        "outputId": "9080b0d2-6f7b-49d2-ed1a-8c84d818f6e1"
      },
      "execution_count": null,
      "outputs": [
        {
          "output_type": "execute_result",
          "data": {
            "text/plain": [
              "Airline            0\n",
              "Date_of_Journey    0\n",
              "Source             0\n",
              "Destination        0\n",
              "Route              0\n",
              "Dep_Time           0\n",
              "Arrival_Time       0\n",
              "Duration           0\n",
              "Total_Stops        0\n",
              "Additional_Info    0\n",
              "Price              0\n",
              "dtype: int64"
            ]
          },
          "metadata": {},
          "execution_count": 6
        }
      ]
    },
    {
      "cell_type": "code",
      "source": [
        "df.dtypes"
      ],
      "metadata": {
        "colab": {
          "base_uri": "https://localhost:8080/"
        },
        "id": "FSxnXQAcGIYd",
        "outputId": "4976ce4a-a44a-4280-d569-af2dc3531346"
      },
      "execution_count": null,
      "outputs": [
        {
          "output_type": "execute_result",
          "data": {
            "text/plain": [
              "Airline            object\n",
              "Date_of_Journey    object\n",
              "Source             object\n",
              "Destination        object\n",
              "Route              object\n",
              "Dep_Time           object\n",
              "Arrival_Time       object\n",
              "Duration           object\n",
              "Total_Stops        object\n",
              "Additional_Info    object\n",
              "Price               int64\n",
              "dtype: object"
            ]
          },
          "metadata": {},
          "execution_count": 7
        }
      ]
    },
    {
      "cell_type": "markdown",
      "source": [
        "## Creating new columns \n"
      ],
      "metadata": {
        "id": "O7XYtYCdnWF3"
      }
    },
    {
      "cell_type": "code",
      "source": [
        "day_of_journey = []\n",
        "month_of_journey = []\n",
        "year_of_journey = []\n",
        "\n",
        "for i in range(len(df)):\n",
        "  day_of_journey.append(int(df['Date_of_Journey'][i].split('/')[0]))\n",
        "  month_of_journey.append(int(df['Date_of_Journey'][i].split('/')[1]))\n",
        "  year_of_journey.append(int(df['Date_of_Journey'][i].split('/')[2]))\n",
        "\n",
        "df['day_of_journey'] = day_of_journey\n",
        "df['month_of_journey'] = month_of_journey\n",
        "df['year_of_journey'] = year_of_journey\n",
        "\n",
        "\n",
        "df = df.drop('Date_of_Journey', axis=1)"
      ],
      "metadata": {
        "id": "lDSEk8TdGnen"
      },
      "execution_count": null,
      "outputs": []
    },
    {
      "cell_type": "code",
      "source": [
        "df['Dep_Time'] = pd.to_datetime(df['Dep_Time'])\n",
        "df['Arrival_Time'] = pd.to_datetime(df['Arrival_Time'])"
      ],
      "metadata": {
        "id": "peuQ4LU5SEGe"
      },
      "execution_count": null,
      "outputs": []
    },
    {
      "cell_type": "code",
      "source": [
        "Dep_Time_hour = []\n",
        "Dep_Time_minute = []\n",
        "\n",
        "Arrival_Time_hour = []\n",
        "Arrival_Time_minute = []\n",
        "\n",
        "for i in range(len(df)):\n",
        "  Dep_Time_hour.append(int(df['Dep_Time'][i].hour)+0.01)\n",
        "  Dep_Time_minute.append(int(df['Dep_Time'][i].minute)+0.01)\n",
        "  Arrival_Time_hour.append(int(df['Arrival_Time'][i].hour)+0.01)\n",
        "  Arrival_Time_minute.append(int(df['Arrival_Time'][i].minute)+0.01)\n",
        "\n",
        "df['Dep_Time_hour'] = Dep_Time_hour\n",
        "df['Dep_Time_minute'] = Dep_Time_minute\n",
        "df['Arrival_Time_hour'] = Arrival_Time_hour\n",
        "df['Arrival_Time_minute'] = Arrival_Time_minute\n",
        "\n",
        "df = df.drop('year_of_journey', axis=1)\n",
        "df = df.drop('Dep_Time', axis=1)\n",
        "df = df.drop('Arrival_Time', axis=1)"
      ],
      "metadata": {
        "id": "clwWJSFSKqAp"
      },
      "execution_count": null,
      "outputs": []
    },
    {
      "cell_type": "code",
      "source": [
        "Duration_hour = []\n",
        "Duration_minute = []\n",
        "\n",
        "for i in range(len(df)):\n",
        "  Duration_hour.append(float(df['Duration'][i].split(' ')[0][0:-1]))\n",
        "  if len(df['Duration'][i].split(' ')) > 1:\n",
        "    Duration_minute.append(int(df['Duration'][i].split(' ')[1][0:-1]))\n",
        "  else:\n",
        "    Duration_minute.append(0.1)\n",
        "\n",
        "df['Duration_hour'] = Duration_hour\n",
        "df['Duration_minute'] = Duration_minute\n",
        "\n",
        "\n",
        "df = df.drop('Duration', axis=1)\n"
      ],
      "metadata": {
        "id": "EGC9yCUQUese"
      },
      "execution_count": null,
      "outputs": []
    },
    {
      "cell_type": "code",
      "source": [
        "cat_col = [col for col in df.columns if df[col].dtypes == 'O']\n",
        "categorical= df[cat_col]"
      ],
      "metadata": {
        "id": "Zj4LSLUCU-bz"
      },
      "execution_count": null,
      "outputs": []
    },
    {
      "cell_type": "code",
      "source": [
        "cont_col = [col for col in df.columns if df[col].dtypes != 'O']\n",
        "continuous = df[cont_col]\n",
        "continuous = continuous[['Price', 'day_of_journey', 'month_of_journey',\n",
        "                         'Dep_Time_hour', 'Dep_Time_minute', 'Arrival_Time_hour',\n",
        "                         'Arrival_Time_minute', 'Duration_hour', 'Duration_minute']]"
      ],
      "metadata": {
        "id": "KPNpzkH2VOJ4"
      },
      "execution_count": null,
      "outputs": []
    },
    {
      "cell_type": "code",
      "source": [
        "df = df.replace({'New Delhi': 'Delhi'})\n"
      ],
      "metadata": {
        "id": "gm1-DGVg2jjX"
      },
      "execution_count": null,
      "outputs": []
    },
    {
      "cell_type": "markdown",
      "source": [
        "## Correlation HeatMap"
      ],
      "metadata": {
        "id": "QeqdyV3knekf"
      }
    },
    {
      "cell_type": "code",
      "source": [
        "# continuous.corr()\n",
        "# plt.figure(figsize=(16, 6))\n",
        "# heatmap = sns.heatmap(continuous.corr(),vmin=-1, vmax=1, annot=True)\n",
        "# heatmap.set_title('Correlation Heatmap', fontdict={'fontsize':12}, pad=14);"
      ],
      "metadata": {
        "id": "r8Ogc9bjYZDo"
      },
      "execution_count": null,
      "outputs": []
    },
    {
      "cell_type": "markdown",
      "source": [
        "## Remove Outliers"
      ],
      "metadata": {
        "id": "_jpijVk8nimt"
      }
    },
    {
      "cell_type": "code",
      "source": [
        "for col in df:\n",
        "  if df[col].dtypes != 'O':\n",
        "    plt.figure()\n",
        "    sns.boxplot(x=col, data=df) \n",
        "    q75,q25 = np.percentile(df[col],[75,25])\n",
        "    \n",
        "    intr_qr = q75-q25\n",
        "    max = q75+(1.5*intr_qr)\n",
        "    min = q25-(1.5*intr_qr)\n",
        "    print(col, max,min )\n",
        "\n",
        "    l = []\n",
        "    for x in df[col]:\n",
        "      if x >= max:\n",
        "        l.append(np.percentile(df[col], 99))\n",
        "      elif x <= min:\n",
        "        l.append(np.percentile(df[col], 1))\n",
        "      else:\n",
        "        l.append(x)\n",
        "\n",
        "    df[col] = l\n"
      ],
      "metadata": {
        "colab": {
          "base_uri": "https://localhost:8080/",
          "height": 1000
        },
        "id": "W-5ZocQFjj97",
        "outputId": "6169cbe7-f510-40a4-b188-b581009322b1"
      },
      "execution_count": null,
      "outputs": [
        {
          "output_type": "stream",
          "name": "stdout",
          "text": [
            "Price 23017.0 -5367.0\n",
            "day_of_journey 43.5 -16.5\n",
            "month_of_journey 10.5 -1.5\n",
            "Dep_Time_hour 33.010000000000005 -6.990000000000004\n",
            "Dep_Time_minute 92.50999999999999 -47.49\n",
            "Arrival_Time_hour 35.510000000000005 -8.490000000000004\n",
            "Arrival_Time_minute 72.50999999999999 -27.490000000000002\n",
            "Duration_hour 34.5 -17.5\n",
            "Duration_minute 90.0 -30.0\n"
          ]
        },
        {
          "output_type": "display_data",
          "data": {
            "text/plain": [
              "<Figure size 432x288 with 1 Axes>"
            ],
            "image/png": "[encoded data removed]"
          },
          "metadata": {
            "needs_background": "light"
          }
        },
        {
          "output_type": "display_data",
          "data": {
            "text/plain": [
              "<Figure size 432x288 with 1 Axes>"
            ],
            "image/png": "[encoded data removed]"
          },
          "metadata": {
            "needs_background": "light"
          }
        },
        {
          "output_type": "display_data",
          "data": {
            "text/plain": [
              "<Figure size 432x288 with 1 Axes>"
            ],
            "image/png": "[encoded data removed]"
          },
          "metadata": {
            "needs_background": "light"
          }
        },
        {
          "output_type": "display_data",
          "data": {
            "text/plain": [
              "<Figure size 432x288 with 1 Axes>"
            ],
            "image/png": "[encoded data removed]"
          },
          "metadata": {
            "needs_background": "light"
          }
        },
        {
          "output_type": "display_data",
          "data": {
            "text/plain": [
              "<Figure size 432x288 with 1 Axes>"
            ],
            "image/png": "[encoded data removed]"
          },
          "metadata": {
            "needs_background": "light"
          }
        },
        {
          "output_type": "display_data",
          "data": {
            "text/plain": [
              "<Figure size 432x288 with 1 Axes>"
            ],
            "image/png": "[encoded data removed]"
          },
          "metadata": {
            "needs_background": "light"
          }
        },
        {
          "output_type": "display_data",
          "data": {
            "text/plain": [
              "<Figure size 432x288 with 1 Axes>"
            ],
            "image/png": "[encoded data removed]"
          },
          "metadata": {
            "needs_background": "light"
          }
        },
        {
          "output_type": "display_data",
          "data": {
            "text/plain": [
              "<Figure size 432x288 with 1 Axes>"
            ],
            "image/png": "[encoded data removed]"
          },
          "metadata": {
            "needs_background": "light"
          }
        },
        {
          "output_type": "display_data",
          "data": {
            "text/plain": [
              "<Figure size 432x288 with 1 Axes>"
            ],
            "image/png": "[encoded data removed]"
          },
          "metadata": {
            "needs_background": "light"
          }
        }
      ]
    },
    {
      "cell_type": "code",
      "source": [
        "for col in df:\n",
        "  if df[col].dtypes != 'O':\n",
        "    plt.figure()\n",
        "    sns.boxplot(x=col, data=df) \n"
      ],
      "metadata": {
        "colab": {
          "base_uri": "https://localhost:8080/",
          "height": 1000
        },
        "id": "RuiGbTtPpA-E",
        "outputId": "36c617ec-d950-475b-fdd0-124bc0457663"
      },
      "execution_count": null,
      "outputs": [
        {
          "output_type": "display_data",
          "data": {
            "text/plain": [
              "<Figure size 432x288 with 1 Axes>"
            ],
            "image/png": "[encoded data removed]"
          },
          "metadata": {
            "needs_background": "light"
          }
        },
        {
          "output_type": "display_data",
          "data": {
            "text/plain": [
              "<Figure size 432x288 with 1 Axes>"
            ],
            "image/png": "[encoded data removed]"
          },
          "metadata": {
            "needs_background": "light"
          }
        },
        {
          "output_type": "display_data",
          "data": {
            "text/plain": [
              "<Figure size 432x288 with 1 Axes>"
            ],
            "image/png": "[encoded data removed]"
          },
          "metadata": {
            "needs_background": "light"
          }
        },
        {
          "output_type": "display_data",
          "data": {
            "text/plain": [
              "<Figure size 432x288 with 1 Axes>"
            ],
            "image/png": "[encoded data removed]"
          },
          "metadata": {
            "needs_background": "light"
          }
        },
        {
          "output_type": "display_data",
          "data": {
            "text/plain": [
              "<Figure size 432x288 with 1 Axes>"
            ],
            "image/png": "[encoded data removed]"
          },
          "metadata": {
            "needs_background": "light"
          }
        },
        {
          "output_type": "display_data",
          "data": {
            "text/plain": [
              "<Figure size 432x288 with 1 Axes>"
            ],
            "image/png": "[encoded data removed]"
          },
          "metadata": {
            "needs_background": "light"
          }
        },
        {
          "output_type": "display_data",
          "data": {
            "text/plain": [
              "<Figure size 432x288 with 1 Axes>"
            ],
            "image/png": "[encoded data removed]"
          },
          "metadata": {
            "needs_background": "light"
          }
        },
        {
          "output_type": "display_data",
          "data": {
            "text/plain": [
              "<Figure size 432x288 with 1 Axes>"
            ],
            "image/png": "[encoded data removed]"
          },
          "metadata": {
            "needs_background": "light"
          }
        },
        {
          "output_type": "display_data",
          "data": {
            "text/plain": [
              "<Figure size 432x288 with 1 Axes>"
            ],
            "image/png": "[encoded data removed]"
          },
          "metadata": {
            "needs_background": "light"
          }
        }
      ]
    },
    {
      "cell_type": "markdown",
      "source": [
        "## Check and Fix Skewness"
      ],
      "metadata": {
        "id": "VLQRHUrwnlKE"
      }
    },
    {
      "cell_type": "code",
      "source": [
        "df.hist(bins=10, figsize=(15, 10))"
      ],
      "metadata": {
        "colab": {
          "base_uri": "https://localhost:8080/",
          "height": 777
        },
        "id": "EVqEhqseaB4y",
        "outputId": "bb7dab80-e86b-4178-e940-439400415182"
      },
      "execution_count": null,
      "outputs": [
        {
          "output_type": "execute_result",
          "data": {
            "text/plain": [
              "array([[<matplotlib.axes._subplots.AxesSubplot object at 0x7f4b2ebb7e80>,\n",
              "        <matplotlib.axes._subplots.AxesSubplot object at 0x7f4b2e83a4f0>,\n",
              "        <matplotlib.axes._subplots.AxesSubplot object at 0x7f4b2e7e9940>],\n",
              "       [<matplotlib.axes._subplots.AxesSubplot object at 0x7f4b2e79d430>,\n",
              "        <matplotlib.axes._subplots.AxesSubplot object at 0x7f4b2e7c7b80>,\n",
              "        <matplotlib.axes._subplots.AxesSubplot object at 0x7f4b2e77e220>],\n",
              "       [<matplotlib.axes._subplots.AxesSubplot object at 0x7f4b2e77e310>,\n",
              "        <matplotlib.axes._subplots.AxesSubplot object at 0x7f4b2e726a90>,\n",
              "        <matplotlib.axes._subplots.AxesSubplot object at 0x7f4b2e706880>]],\n",
              "      dtype=object)"
            ]
          },
          "metadata": {},
          "execution_count": 19
        },
        {
          "output_type": "display_data",
          "data": {
            "text/plain": [
              "<Figure size 1080x720 with 9 Axes>"
            ],
            "image/png": "[encoded data removed]"
          },
          "metadata": {
            "needs_background": "light"
          }
        }
      ]
    },
    {
      "cell_type": "code",
      "source": [
        "for i in df:\n",
        "  if df[i].dtypes != 'O':\n",
        "    print(i,' with skewness of',continuous[i].skew())"
      ],
      "metadata": {
        "colab": {
          "base_uri": "https://localhost:8080/"
        },
        "id": "SZ65ziFFZacs",
        "outputId": "223b89b1-5e90-4457-99c3-14c33eb91478"
      },
      "execution_count": null,
      "outputs": [
        {
          "output_type": "stream",
          "name": "stdout",
          "text": [
            "Price  with skewness of 1.812404554693161\n",
            "day_of_journey  with skewness of 0.11817431340418634\n",
            "month_of_journey  with skewness of -0.3874094918617097\n",
            "Dep_Time_hour  with skewness of 0.11292375090347503\n",
            "Dep_Time_minute  with skewness of 0.16723399826716723\n",
            "Arrival_Time_hour  with skewness of -0.37014605289011415\n",
            "Arrival_Time_minute  with skewness of 0.11094494001142394\n",
            "Duration_hour  with skewness of 0.8513019572218887\n",
            "Duration_minute  with skewness of -0.08797438539988665\n"
          ]
        }
      ]
    },
    {
      "cell_type": "code",
      "source": [
        "for i in df:\n",
        "  if df[i].dtypes != 'O':\n",
        "    if df[i].skew() > 0.5 or df[i].skew() < -0.5:\n",
        "        df[i],lmbda = boxcox(df[i],lmbda=None )\n",
        "  "
      ],
      "metadata": {
        "id": "EgSa_c0XbJNz"
      },
      "execution_count": null,
      "outputs": []
    },
    {
      "cell_type": "code",
      "source": [
        "for i in df:\n",
        "  if df[i].dtypes != 'O':\n",
        "    print(i,' with skewness of',df[i].skew())"
      ],
      "metadata": {
        "colab": {
          "base_uri": "https://localhost:8080/"
        },
        "id": "Kaql8Tl3fD7f",
        "outputId": "33fc9b43-3e5d-4812-abd8-fe334f53bf8b"
      },
      "execution_count": null,
      "outputs": [
        {
          "output_type": "stream",
          "name": "stdout",
          "text": [
            "Price  with skewness of -0.04510744433628858\n",
            "day_of_journey  with skewness of 0.11817431340418634\n",
            "month_of_journey  with skewness of -0.3874094918617097\n",
            "Dep_Time_hour  with skewness of 0.11292375090347503\n",
            "Dep_Time_minute  with skewness of 0.16723399826716723\n",
            "Arrival_Time_hour  with skewness of -0.37014605289011415\n",
            "Arrival_Time_minute  with skewness of 0.11094494001142394\n",
            "Duration_hour  with skewness of -0.07936265026347422\n",
            "Duration_minute  with skewness of -0.08797438539988665\n"
          ]
        }
      ]
    },
    {
      "cell_type": "code",
      "source": [
        "df = df[df['Airline'] != 'Trujet']"
      ],
      "metadata": {
        "id": "uVSdLUaNipq5"
      },
      "execution_count": null,
      "outputs": []
    },
    {
      "cell_type": "code",
      "source": [
        "df.Airline.value_counts()"
      ],
      "metadata": {
        "colab": {
          "base_uri": "https://localhost:8080/"
        },
        "id": "HZ_EW4pxidxx",
        "outputId": "d9276ced-345a-4829-9e4a-9aff372ad3bd"
      },
      "execution_count": null,
      "outputs": [
        {
          "output_type": "execute_result",
          "data": {
            "text/plain": [
              "Jet Airways                          3849\n",
              "IndiGo                               2053\n",
              "Air India                            1751\n",
              "Multiple carriers                    1196\n",
              "SpiceJet                              818\n",
              "Vistara                               479\n",
              "Air Asia                              319\n",
              "GoAir                                 194\n",
              "Multiple carriers Premium economy      13\n",
              "Jet Airways Business                    6\n",
              "Vistara Premium economy                 3\n",
              "Name: Airline, dtype: int64"
            ]
          },
          "metadata": {},
          "execution_count": 25
        }
      ]
    },
    {
      "cell_type": "code",
      "source": [
        "X = df.drop(columns='Price') \n",
        "Y = df['Price']\n",
        "\n",
        "X_train, X_test, Y_train, Y_test = train_test_split(X, Y, test_size=0.3, random_state=18, stratify=X.Airline)"
      ],
      "metadata": {
        "id": "sLdBW-rUS6Nx"
      },
      "execution_count": null,
      "outputs": []
    },
    {
      "cell_type": "code",
      "source": [
        "X_train.shape, X_test.shape, Y_train.shape, Y_test.shape"
      ],
      "metadata": {
        "colab": {
          "base_uri": "https://localhost:8080/"
        },
        "id": "FHjTYKhOVWlN",
        "outputId": "2efa56b6-5237-46f6-bd51-d71b5ceca515"
      },
      "execution_count": null,
      "outputs": [
        {
          "output_type": "execute_result",
          "data": {
            "text/plain": [
              "((7476, 14), (3205, 14), (7476,), (3205,))"
            ]
          },
          "metadata": {},
          "execution_count": 27
        }
      ]
    },
    {
      "cell_type": "code",
      "source": [
        "# Average Source Price Graph\n",
        "\n",
        "# Plot\n",
        "plt.figure(figsize = (4,4))\n",
        "sns.barplot(x = 'Price', y = 'Source', orient = \"h\", data=df, palette = \"tab20\", order = df.groupby([\"Source\"])[\"Price\"].mean().sort_values(ascending=False).index)\n",
        "sns.despine()\n",
        "plt.title('SOURCE VS. AVERAGE PRICE', fontsize = 10, color ='dimgrey', fontweight = 'bold')\n",
        "plt.xlabel('PRICE', color = 'dimgrey', labelpad = 20, fontweight = 'bold', fontsize = 7)\n",
        "plt.ylabel('SOURCE', color = 'dimgrey', labelpad = 20, fontweight = 'bold', fontsize = 7);\n",
        "plt.show()"
      ],
      "metadata": {
        "colab": {
          "base_uri": "https://localhost:8080/",
          "height": 305
        },
        "outputId": "6704742e-c5de-409d-ce4c-1b39eb627b02",
        "id": "bPWT7jrYeci1"
      },
      "execution_count": null,
      "outputs": [
        {
          "output_type": "display_data",
          "data": {
            "text/plain": [
              "<Figure size 288x288 with 1 Axes>"
            ],
            "image/png": "[encoded data removed]"
          },
          "metadata": {
            "needs_background": "light"
          }
        }
      ]
    },
    {
      "cell_type": "code",
      "source": [
        "# Average Destination Price Graph\n",
        "\n",
        "# Plot\n",
        "plt.figure(figsize = (4,4))\n",
        "sns.barplot(x = 'Price', y = 'Destination', orient = \"h\", data=df, palette = \"Set2\", order = df.groupby([\"Destination\"])[\"Price\"].mean().sort_values(ascending=False).index)\n",
        "sns.despine()\n",
        "plt.title('DESTINATION VS. AVERAGE PRICE', fontsize = 10, color ='dimgrey', fontweight = 'bold')\n",
        "plt.xlabel('PRICE', color = 'dimgrey', labelpad = 20, fontweight = 'bold', fontsize = 7)\n",
        "plt.ylabel('DESTINATION', color = 'dimgrey', labelpad = 20, fontweight = 'bold', fontsize = 7);\n",
        "plt.show()"
      ],
      "metadata": {
        "colab": {
          "base_uri": "https://localhost:8080/",
          "height": 305
        },
        "outputId": "de6ebbb3-b176-4727-deb1-92dc8fa4422f",
        "id": "1DvuvPFweci2"
      },
      "execution_count": null,
      "outputs": [
        {
          "output_type": "display_data",
          "data": {
            "text/plain": [
              "<Figure size 288x288 with 1 Axes>"
            ],
            "image/png": "[encoded data removed]"
          },
          "metadata": {
            "needs_background": "light"
          }
        }
      ]
    },
    {
      "cell_type": "code",
      "source": [
        "# Average Ariline Price Graph\n",
        "\n",
        "# Plot\n",
        "plt.figure(figsize = (4,4))\n",
        "sns.barplot(x = 'Price', y = 'Airline', orient = \"h\", data=df, palette = \"Set2\", order = df.groupby([\"Airline\"])[\"Price\"].median().sort_values(ascending=False).index)\n",
        "sns.despine()\n",
        "plt.title('AIRLINE VS. AVERAGE PRICE', fontsize = 10, color ='dimgrey', fontweight = 'bold')\n",
        "plt.xlabel('PRICE', color = 'dimgrey', labelpad = 20, fontweight = 'bold', fontsize = 7)\n",
        "plt.ylabel('AIRLINE', color = 'dimgrey', labelpad = 20, fontweight = 'bold', fontsize = 7);\n",
        "plt.show()"
      ],
      "metadata": {
        "colab": {
          "base_uri": "https://localhost:8080/",
          "height": 305
        },
        "id": "FhOj3FCbd3fW",
        "outputId": "b1238d7c-21e6-4ee4-8936-1265716ff8c8"
      },
      "execution_count": null,
      "outputs": [
        {
          "output_type": "display_data",
          "data": {
            "text/plain": [
              "<Figure size 288x288 with 1 Axes>"
            ],
            "image/png": "[encoded data removed]"
          },
          "metadata": {
            "needs_background": "light"
          }
        }
      ]
    },
    {
      "cell_type": "code",
      "source": [
        "airline = pd.get_dummies(X_train.Airline, prefix='Airline_')\n",
        "df1 = pd.concat([X_train, airline], axis=1)\n",
        "\n",
        "airline = pd.get_dummies(X_test.Airline, prefix='Airline_')\n",
        "df2 = pd.concat([X_test, airline], axis=1)\n"
      ],
      "metadata": {
        "id": "8ecg-0uuVmyd"
      },
      "execution_count": null,
      "outputs": []
    },
    {
      "cell_type": "code",
      "source": [
        "source = pd.get_dummies(X_train.Source, prefix='Source_')\n",
        "df1 = pd.concat([df1, source], axis=1)\n",
        "destination = pd.get_dummies(X_train.Destination, prefix='Destination_')\n",
        "df1 = pd.concat([df1, destination], axis=1)\n",
        "\n",
        "source = pd.get_dummies(X_test.Source, prefix='Source_')\n",
        "df2 = pd.concat([df2, source], axis=1)\n",
        "destination = pd.get_dummies(X_test.Destination, prefix='Destination_')\n",
        "df2 = pd.concat([df2, destination], axis=1)\n"
      ],
      "metadata": {
        "id": "Ms5fjBwrWcJu"
      },
      "execution_count": null,
      "outputs": []
    },
    {
      "cell_type": "code",
      "source": [
        "df1.head()"
      ],
      "metadata": {
        "id": "81DK6Vb5zGYo",
        "colab": {
          "base_uri": "https://localhost:8080/",
          "height": 603
        },
        "outputId": "5c8c2dec-0916-46ae-87f3-28e36a0e998a"
      },
      "execution_count": null,
      "outputs": [
        {
          "output_type": "execute_result",
          "data": {
            "text/plain": [
              "                Airline    Source Destination            Route Total_Stops  \\\n",
              "5186  Multiple carriers     Delhi      Cochin  DEL → BOM → COK      1 stop   \n",
              "8190        Jet Airways     Delhi      Cochin  DEL → BOM → COK      1 stop   \n",
              "1454        Jet Airways  Banglore       Delhi  BLR → BOM → DEL      1 stop   \n",
              "3360             IndiGo     Delhi      Cochin  DEL → HYD → COK      1 stop   \n",
              "3494        Jet Airways  Banglore       Delhi        BLR → DEL    non-stop   \n",
              "\n",
              "                  Additional_Info  day_of_journey  month_of_journey  \\\n",
              "5186                      No info               3                 6   \n",
              "8190  In-flight meal not included               6                 6   \n",
              "1454  In-flight meal not included              15                 3   \n",
              "3360                      No info               9                 6   \n",
              "3494  In-flight meal not included               6                 5   \n",
              "\n",
              "      Dep_Time_hour  Dep_Time_minute  ...  Source__Banglore  Source__Chennai  \\\n",
              "5186           8.01             0.01  ...                 0                0   \n",
              "8190           9.01             0.01  ...                 0                0   \n",
              "1454           5.01            45.01  ...                 1                0   \n",
              "3360           7.01            35.01  ...                 0                0   \n",
              "3494           8.01            20.01  ...                 1                0   \n",
              "\n",
              "      Source__Delhi  Source__Kolkata  Source__Mumbai  Destination__Banglore  \\\n",
              "5186              1                0               0                      0   \n",
              "8190              1                0               0                      0   \n",
              "1454              0                0               0                      0   \n",
              "3360              1                0               0                      0   \n",
              "3494              0                0               0                      0   \n",
              "\n",
              "      Destination__Cochin  Destination__Delhi  Destination__Hyderabad  \\\n",
              "5186                    1                   0                       0   \n",
              "8190                    1                   0                       0   \n",
              "1454                    0                   1                       0   \n",
              "3360                    1                   0                       0   \n",
              "3494                    0                   1                       0   \n",
              "\n",
              "      Destination__Kolkata  \n",
              "5186                     0  \n",
              "8190                     0  \n",
              "1454                     0  \n",
              "3360                     0  \n",
              "3494                     0  \n",
              "\n",
              "[5 rows x 35 columns]"
            ],
            "text/html": [
              "\n",
              "  <div id=\"df-733b96af-0cef-4c23-8507-fc88f72c2e00\">\n",
              "    <div class=\"colab-df-container\">\n",
              "      <div>\n",
              "<style scoped>\n",
              "    .dataframe tbody tr th:only-of-type {\n",
              "        vertical-align: middle;\n",
              "    }\n",
              "\n",
              "    .dataframe tbody tr th {\n",
              "        vertical-align: top;\n",
              "    }\n",
              "\n",
              "    .dataframe thead th {\n",
              "        text-align: right;\n",
              "    }\n",
              "</style>\n",
              "<table border=\"1\" class=\"dataframe\">\n",
              "  <thead>\n",
              "    <tr style=\"text-align: right;\">\n",
              "      <th></th>\n",
              "      <th>Airline</th>\n",
              "      <th>Source</th>\n",
              "      <th>Destination</th>\n",
              "      <th>Route</th>\n",
              "      <th>Total_Stops</th>\n",
              "      <th>Additional_Info</th>\n",
              "      <th>day_of_journey</th>\n",
              "      <th>month_of_journey</th>\n",
              "      <th>Dep_Time_hour</th>\n",
              "      <th>Dep_Time_minute</th>\n",
              "      <th>...</th>\n",
              "      <th>Source__Banglore</th>\n",
              "      <th>Source__Chennai</th>\n",
              "      <th>Source__Delhi</th>\n",
              "      <th>Source__Kolkata</th>\n",
              "      <th>Source__Mumbai</th>\n",
              "      <th>Destination__Banglore</th>\n",
              "      <th>Destination__Cochin</th>\n",
              "      <th>Destination__Delhi</th>\n",
              "      <th>Destination__Hyderabad</th>\n",
              "      <th>Destination__Kolkata</th>\n",
              "    </tr>\n",
              "  </thead>\n",
              "  <tbody>\n",
              "    <tr>\n",
              "      <th>5186</th>\n",
              "      <td>Multiple carriers</td>\n",
              "      <td>Delhi</td>\n",
              "      <td>Cochin</td>\n",
              "      <td>DEL → BOM → COK</td>\n",
              "      <td>1 stop</td>\n",
              "      <td>No info</td>\n",
              "      <td>3</td>\n",
              "      <td>6</td>\n",
              "      <td>8.01</td>\n",
              "      <td>0.01</td>\n",
              "      <td>...</td>\n",
              "      <td>0</td>\n",
              "      <td>0</td>\n",
              "      <td>1</td>\n",
              "      <td>0</td>\n",
              "      <td>0</td>\n",
              "      <td>0</td>\n",
              "      <td>1</td>\n",
              "      <td>0</td>\n",
              "      <td>0</td>\n",
              "      <td>0</td>\n",
              "    </tr>\n",
              "    <tr>\n",
              "      <th>8190</th>\n",
              "      <td>Jet Airways</td>\n",
              "      <td>Delhi</td>\n",
              "      <td>Cochin</td>\n",
              "      <td>DEL → BOM → COK</td>\n",
              "      <td>1 stop</td>\n",
              "      <td>In-flight meal not included</td>\n",
              "      <td>6</td>\n",
              "      <td>6</td>\n",
              "      <td>9.01</td>\n",
              "      <td>0.01</td>\n",
              "      <td>...</td>\n",
              "      <td>0</td>\n",
              "      <td>0</td>\n",
              "      <td>1</td>\n",
              "      <td>0</td>\n",
              "      <td>0</td>\n",
              "      <td>0</td>\n",
              "      <td>1</td>\n",
              "      <td>0</td>\n",
              "      <td>0</td>\n",
              "      <td>0</td>\n",
              "    </tr>\n",
              "    <tr>\n",
              "      <th>1454</th>\n",
              "      <td>Jet Airways</td>\n",
              "      <td>Banglore</td>\n",
              "      <td>Delhi</td>\n",
              "      <td>BLR → BOM → DEL</td>\n",
              "      <td>1 stop</td>\n",
              "      <td>In-flight meal not included</td>\n",
              "      <td>15</td>\n",
              "      <td>3</td>\n",
              "      <td>5.01</td>\n",
              "      <td>45.01</td>\n",
              "      <td>...</td>\n",
              "      <td>1</td>\n",
              "      <td>0</td>\n",
              "      <td>0</td>\n",
              "      <td>0</td>\n",
              "      <td>0</td>\n",
              "      <td>0</td>\n",
              "      <td>0</td>\n",
              "      <td>1</td>\n",
              "      <td>0</td>\n",
              "      <td>0</td>\n",
              "    </tr>\n",
              "    <tr>\n",
              "      <th>3360</th>\n",
              "      <td>IndiGo</td>\n",
              "      <td>Delhi</td>\n",
              "      <td>Cochin</td>\n",
              "      <td>DEL → HYD → COK</td>\n",
              "      <td>1 stop</td>\n",
              "      <td>No info</td>\n",
              "      <td>9</td>\n",
              "      <td>6</td>\n",
              "      <td>7.01</td>\n",
              "      <td>35.01</td>\n",
              "      <td>...</td>\n",
              "      <td>0</td>\n",
              "      <td>0</td>\n",
              "      <td>1</td>\n",
              "      <td>0</td>\n",
              "      <td>0</td>\n",
              "      <td>0</td>\n",
              "      <td>1</td>\n",
              "      <td>0</td>\n",
              "      <td>0</td>\n",
              "      <td>0</td>\n",
              "    </tr>\n",
              "    <tr>\n",
              "      <th>3494</th>\n",
              "      <td>Jet Airways</td>\n",
              "      <td>Banglore</td>\n",
              "      <td>Delhi</td>\n",
              "      <td>BLR → DEL</td>\n",
              "      <td>non-stop</td>\n",
              "      <td>In-flight meal not included</td>\n",
              "      <td>6</td>\n",
              "      <td>5</td>\n",
              "      <td>8.01</td>\n",
              "      <td>20.01</td>\n",
              "      <td>...</td>\n",
              "      <td>1</td>\n",
              "      <td>0</td>\n",
              "      <td>0</td>\n",
              "      <td>0</td>\n",
              "      <td>0</td>\n",
              "      <td>0</td>\n",
              "      <td>0</td>\n",
              "      <td>1</td>\n",
              "      <td>0</td>\n",
              "      <td>0</td>\n",
              "    </tr>\n",
              "  </tbody>\n",
              "</table>\n",
              "<p>5 rows × 35 columns</p>\n",
              "</div>\n",
              "      <button class=\"colab-df-convert\" onclick=\"convertToInteractive('df-733b96af-0cef-4c23-8507-fc88f72c2e00')\"\n",
              "              title=\"Convert this dataframe to an interactive table.\"\n",
              "              style=\"display:none;\">\n",
              "        \n",
              "  <svg xmlns=\"http://www.w3.org/2000/svg\" height=\"24px\"viewBox=\"0 0 24 24\"\n",
              "       width=\"24px\">\n",
              "    <path d=\"M0 0h24v24H0V0z\" fill=\"none\"/>\n",
              "    <path d=\"M18.56 5.44l.94 2.06.94-2.06 2.06-.94-2.06-.94-.94-2.06-.94 2.06-2.06.94zm-11 1L8.5 8.5l.94-2.06 2.06-.94-2.06-.94L8.5 2.5l-.94 2.06-2.06.94zm10 10l.94 2.06.94-2.06 2.06-.94-2.06-.94-.94-2.06-.94 2.06-2.06.94z\"/><path d=\"M17.41 7.96l-1.37-1.37c-.4-.4-.92-.59-1.43-.59-.52 0-1.04.2-1.43.59L10.3 9.45l-7.72 7.72c-.78.78-.78 2.05 0 2.83L4 21.41c.39.39.9.59 1.41.59.51 0 1.02-.2 1.41-.59l7.78-7.78 2.81-2.81c.8-.78.8-2.07 0-2.86zM5.41 20L4 18.59l7.72-7.72 1.47 1.35L5.41 20z\"/>\n",
              "  </svg>\n",
              "      </button>\n",
              "      \n",
              "  <style>\n",
              "    .colab-df-container {\n",
              "      display:flex;\n",
              "      flex-wrap:wrap;\n",
              "      gap: 12px;\n",
              "    }\n",
              "\n",
              "    .colab-df-convert {\n",
              "      background-color: #E8F0FE;\n",
              "      border: none;\n",
              "      border-radius: 50%;\n",
              "      cursor: pointer;\n",
              "      display: none;\n",
              "      fill: #1967D2;\n",
              "      height: 32px;\n",
              "      padding: 0 0 0 0;\n",
              "      width: 32px;\n",
              "    }\n",
              "\n",
              "    .colab-df-convert:hover {\n",
              "      background-color: #E2EBFA;\n",
              "      box-shadow: 0px 1px 2px rgba(60, 64, 67, 0.3), 0px 1px 3px 1px rgba(60, 64, 67, 0.15);\n",
              "      fill: #174EA6;\n",
              "    }\n",
              "\n",
              "    [theme=dark] .colab-df-convert {\n",
              "      background-color: #3B4455;\n",
              "      fill: #D2E3FC;\n",
              "    }\n",
              "\n",
              "    [theme=dark] .colab-df-convert:hover {\n",
              "      background-color: #434B5C;\n",
              "      box-shadow: 0px 1px 3px 1px rgba(0, 0, 0, 0.15);\n",
              "      filter: drop-shadow(0px 1px 2px rgba(0, 0, 0, 0.3));\n",
              "      fill: #FFFFFF;\n",
              "    }\n",
              "  </style>\n",
              "\n",
              "      <script>\n",
              "        const buttonEl =\n",
              "          document.querySelector('#df-733b96af-0cef-4c23-8507-fc88f72c2e00 button.colab-df-convert');\n",
              "        buttonEl.style.display =\n",
              "          google.colab.kernel.accessAllowed ? 'block' : 'none';\n",
              "\n",
              "        async function convertToInteractive(key) {\n",
              "          const element = document.querySelector('#df-733b96af-0cef-4c23-8507-fc88f72c2e00');\n",
              "          const dataTable =\n",
              "            await google.colab.kernel.invokeFunction('convertToInteractive',\n",
              "                                                     [key], {});\n",
              "          if (!dataTable) return;\n",
              "\n",
              "          const docLinkHtml = 'Like what you see? Visit the ' +\n",
              "            '<a target=\"_blank\" href=https://colab.research.google.com/notebooks/data_table.ipynb>data table notebook</a>'\n",
              "            + ' to learn more about interactive tables.';\n",
              "          element.innerHTML = '';\n",
              "          dataTable['output_type'] = 'display_data';\n",
              "          await google.colab.output.renderOutput(dataTable, element);\n",
              "          const docLink = document.createElement('div');\n",
              "          docLink.innerHTML = docLinkHtml;\n",
              "          element.appendChild(docLink);\n",
              "        }\n",
              "      </script>\n",
              "    </div>\n",
              "  </div>\n",
              "  "
            ]
          },
          "metadata": {},
          "execution_count": 34
        }
      ]
    },
    {
      "cell_type": "code",
      "source": [
        "df1 = df1.replace({'1 stop':1, 'non-stop':0, '2 stops':2, '3 stops':3, '4 stops':4})\n",
        "df2 = df2.replace({'1 stop':1, 'non-stop':0, '2 stops':2, '3 stops':3, '4 stops':4})\n",
        "df1.head()"
      ],
      "metadata": {
        "colab": {
          "base_uri": "https://localhost:8080/",
          "height": 603
        },
        "id": "BqHJWXmUSu_V",
        "outputId": "6fa93d51-493b-457c-8f66-50e9fe123653"
      },
      "execution_count": null,
      "outputs": [
        {
          "output_type": "execute_result",
          "data": {
            "text/plain": [
              "                Airline    Source Destination            Route  Total_Stops  \\\n",
              "5186  Multiple carriers     Delhi      Cochin  DEL → BOM → COK            1   \n",
              "8190        Jet Airways     Delhi      Cochin  DEL → BOM → COK            1   \n",
              "1454        Jet Airways  Banglore       Delhi  BLR → BOM → DEL            1   \n",
              "3360             IndiGo     Delhi      Cochin  DEL → HYD → COK            1   \n",
              "3494        Jet Airways  Banglore       Delhi        BLR → DEL            0   \n",
              "\n",
              "                  Additional_Info  day_of_journey  month_of_journey  \\\n",
              "5186                      No info               3                 6   \n",
              "8190  In-flight meal not included               6                 6   \n",
              "1454  In-flight meal not included              15                 3   \n",
              "3360                      No info               9                 6   \n",
              "3494  In-flight meal not included               6                 5   \n",
              "\n",
              "      Dep_Time_hour  Dep_Time_minute  ...  Source__Banglore  Source__Chennai  \\\n",
              "5186           8.01             0.01  ...                 0                0   \n",
              "8190           9.01             0.01  ...                 0                0   \n",
              "1454           5.01            45.01  ...                 1                0   \n",
              "3360           7.01            35.01  ...                 0                0   \n",
              "3494           8.01            20.01  ...                 1                0   \n",
              "\n",
              "      Source__Delhi  Source__Kolkata  Source__Mumbai  Destination__Banglore  \\\n",
              "5186              1                0               0                      0   \n",
              "8190              1                0               0                      0   \n",
              "1454              0                0               0                      0   \n",
              "3360              1                0               0                      0   \n",
              "3494              0                0               0                      0   \n",
              "\n",
              "      Destination__Cochin  Destination__Delhi  Destination__Hyderabad  \\\n",
              "5186                    1                   0                       0   \n",
              "8190                    1                   0                       0   \n",
              "1454                    0                   1                       0   \n",
              "3360                    1                   0                       0   \n",
              "3494                    0                   1                       0   \n",
              "\n",
              "      Destination__Kolkata  \n",
              "5186                     0  \n",
              "8190                     0  \n",
              "1454                     0  \n",
              "3360                     0  \n",
              "3494                     0  \n",
              "\n",
              "[5 rows x 35 columns]"
            ],
            "text/html": [
              "\n",
              "  <div id=\"df-3dd9a5a6-c920-4952-a24a-abefb567569a\">\n",
              "    <div class=\"colab-df-container\">\n",
              "      <div>\n",
              "<style scoped>\n",
              "    .dataframe tbody tr th:only-of-type {\n",
              "        vertical-align: middle;\n",
              "    }\n",
              "\n",
              "    .dataframe tbody tr th {\n",
              "        vertical-align: top;\n",
              "    }\n",
              "\n",
              "    .dataframe thead th {\n",
              "        text-align: right;\n",
              "    }\n",
              "</style>\n",
              "<table border=\"1\" class=\"dataframe\">\n",
              "  <thead>\n",
              "    <tr style=\"text-align: right;\">\n",
              "      <th></th>\n",
              "      <th>Airline</th>\n",
              "      <th>Source</th>\n",
              "      <th>Destination</th>\n",
              "      <th>Route</th>\n",
              "      <th>Total_Stops</th>\n",
              "      <th>Additional_Info</th>\n",
              "      <th>day_of_journey</th>\n",
              "      <th>month_of_journey</th>\n",
              "      <th>Dep_Time_hour</th>\n",
              "      <th>Dep_Time_minute</th>\n",
              "      <th>...</th>\n",
              "      <th>Source__Banglore</th>\n",
              "      <th>Source__Chennai</th>\n",
              "      <th>Source__Delhi</th>\n",
              "      <th>Source__Kolkata</th>\n",
              "      <th>Source__Mumbai</th>\n",
              "      <th>Destination__Banglore</th>\n",
              "      <th>Destination__Cochin</th>\n",
              "      <th>Destination__Delhi</th>\n",
              "      <th>Destination__Hyderabad</th>\n",
              "      <th>Destination__Kolkata</th>\n",
              "    </tr>\n",
              "  </thead>\n",
              "  <tbody>\n",
              "    <tr>\n",
              "      <th>5186</th>\n",
              "      <td>Multiple carriers</td>\n",
              "      <td>Delhi</td>\n",
              "      <td>Cochin</td>\n",
              "      <td>DEL → BOM → COK</td>\n",
              "      <td>1</td>\n",
              "      <td>No info</td>\n",
              "      <td>3</td>\n",
              "      <td>6</td>\n",
              "      <td>8.01</td>\n",
              "      <td>0.01</td>\n",
              "      <td>...</td>\n",
              "      <td>0</td>\n",
              "      <td>0</td>\n",
              "      <td>1</td>\n",
              "      <td>0</td>\n",
              "      <td>0</td>\n",
              "      <td>0</td>\n",
              "      <td>1</td>\n",
              "      <td>0</td>\n",
              "      <td>0</td>\n",
              "      <td>0</td>\n",
              "    </tr>\n",
              "    <tr>\n",
              "      <th>8190</th>\n",
              "      <td>Jet Airways</td>\n",
              "      <td>Delhi</td>\n",
              "      <td>Cochin</td>\n",
              "      <td>DEL → BOM → COK</td>\n",
              "      <td>1</td>\n",
              "      <td>In-flight meal not included</td>\n",
              "      <td>6</td>\n",
              "      <td>6</td>\n",
              "      <td>9.01</td>\n",
              "      <td>0.01</td>\n",
              "      <td>...</td>\n",
              "      <td>0</td>\n",
              "      <td>0</td>\n",
              "      <td>1</td>\n",
              "      <td>0</td>\n",
              "      <td>0</td>\n",
              "      <td>0</td>\n",
              "      <td>1</td>\n",
              "      <td>0</td>\n",
              "      <td>0</td>\n",
              "      <td>0</td>\n",
              "    </tr>\n",
              "    <tr>\n",
              "      <th>1454</th>\n",
              "      <td>Jet Airways</td>\n",
              "      <td>Banglore</td>\n",
              "      <td>Delhi</td>\n",
              "      <td>BLR → BOM → DEL</td>\n",
              "      <td>1</td>\n",
              "      <td>In-flight meal not included</td>\n",
              "      <td>15</td>\n",
              "      <td>3</td>\n",
              "      <td>5.01</td>\n",
              "      <td>45.01</td>\n",
              "      <td>...</td>\n",
              "      <td>1</td>\n",
              "      <td>0</td>\n",
              "      <td>0</td>\n",
              "      <td>0</td>\n",
              "      <td>0</td>\n",
              "      <td>0</td>\n",
              "      <td>0</td>\n",
              "      <td>1</td>\n",
              "      <td>0</td>\n",
              "      <td>0</td>\n",
              "    </tr>\n",
              "    <tr>\n",
              "      <th>3360</th>\n",
              "      <td>IndiGo</td>\n",
              "      <td>Delhi</td>\n",
              "      <td>Cochin</td>\n",
              "      <td>DEL → HYD → COK</td>\n",
              "      <td>1</td>\n",
              "      <td>No info</td>\n",
              "      <td>9</td>\n",
              "      <td>6</td>\n",
              "      <td>7.01</td>\n",
              "      <td>35.01</td>\n",
              "      <td>...</td>\n",
              "      <td>0</td>\n",
              "      <td>0</td>\n",
              "      <td>1</td>\n",
              "      <td>0</td>\n",
              "      <td>0</td>\n",
              "      <td>0</td>\n",
              "      <td>1</td>\n",
              "      <td>0</td>\n",
              "      <td>0</td>\n",
              "      <td>0</td>\n",
              "    </tr>\n",
              "    <tr>\n",
              "      <th>3494</th>\n",
              "      <td>Jet Airways</td>\n",
              "      <td>Banglore</td>\n",
              "      <td>Delhi</td>\n",
              "      <td>BLR → DEL</td>\n",
              "      <td>0</td>\n",
              "      <td>In-flight meal not included</td>\n",
              "      <td>6</td>\n",
              "      <td>5</td>\n",
              "      <td>8.01</td>\n",
              "      <td>20.01</td>\n",
              "      <td>...</td>\n",
              "      <td>1</td>\n",
              "      <td>0</td>\n",
              "      <td>0</td>\n",
              "      <td>0</td>\n",
              "      <td>0</td>\n",
              "      <td>0</td>\n",
              "      <td>0</td>\n",
              "      <td>1</td>\n",
              "      <td>0</td>\n",
              "      <td>0</td>\n",
              "    </tr>\n",
              "  </tbody>\n",
              "</table>\n",
              "<p>5 rows × 35 columns</p>\n",
              "</div>\n",
              "      <button class=\"colab-df-convert\" onclick=\"convertToInteractive('df-3dd9a5a6-c920-4952-a24a-abefb567569a')\"\n",
              "              title=\"Convert this dataframe to an interactive table.\"\n",
              "              style=\"display:none;\">\n",
              "        \n",
              "  <svg xmlns=\"http://www.w3.org/2000/svg\" height=\"24px\"viewBox=\"0 0 24 24\"\n",
              "       width=\"24px\">\n",
              "    <path d=\"M0 0h24v24H0V0z\" fill=\"none\"/>\n",
              "    <path d=\"M18.56 5.44l.94 2.06.94-2.06 2.06-.94-2.06-.94-.94-2.06-.94 2.06-2.06.94zm-11 1L8.5 8.5l.94-2.06 2.06-.94-2.06-.94L8.5 2.5l-.94 2.06-2.06.94zm10 10l.94 2.06.94-2.06 2.06-.94-2.06-.94-.94-2.06-.94 2.06-2.06.94z\"/><path d=\"M17.41 7.96l-1.37-1.37c-.4-.4-.92-.59-1.43-.59-.52 0-1.04.2-1.43.59L10.3 9.45l-7.72 7.72c-.78.78-.78 2.05 0 2.83L4 21.41c.39.39.9.59 1.41.59.51 0 1.02-.2 1.41-.59l7.78-7.78 2.81-2.81c.8-.78.8-2.07 0-2.86zM5.41 20L4 18.59l7.72-7.72 1.47 1.35L5.41 20z\"/>\n",
              "  </svg>\n",
              "      </button>\n",
              "      \n",
              "  <style>\n",
              "    .colab-df-container {\n",
              "      display:flex;\n",
              "      flex-wrap:wrap;\n",
              "      gap: 12px;\n",
              "    }\n",
              "\n",
              "    .colab-df-convert {\n",
              "      background-color: #E8F0FE;\n",
              "      border: none;\n",
              "      border-radius: 50%;\n",
              "      cursor: pointer;\n",
              "      display: none;\n",
              "      fill: #1967D2;\n",
              "      height: 32px;\n",
              "      padding: 0 0 0 0;\n",
              "      width: 32px;\n",
              "    }\n",
              "\n",
              "    .colab-df-convert:hover {\n",
              "      background-color: #E2EBFA;\n",
              "      box-shadow: 0px 1px 2px rgba(60, 64, 67, 0.3), 0px 1px 3px 1px rgba(60, 64, 67, 0.15);\n",
              "      fill: #174EA6;\n",
              "    }\n",
              "\n",
              "    [theme=dark] .colab-df-convert {\n",
              "      background-color: #3B4455;\n",
              "      fill: #D2E3FC;\n",
              "    }\n",
              "\n",
              "    [theme=dark] .colab-df-convert:hover {\n",
              "      background-color: #434B5C;\n",
              "      box-shadow: 0px 1px 3px 1px rgba(0, 0, 0, 0.15);\n",
              "      filter: drop-shadow(0px 1px 2px rgba(0, 0, 0, 0.3));\n",
              "      fill: #FFFFFF;\n",
              "    }\n",
              "  </style>\n",
              "\n",
              "      <script>\n",
              "        const buttonEl =\n",
              "          document.querySelector('#df-3dd9a5a6-c920-4952-a24a-abefb567569a button.colab-df-convert');\n",
              "        buttonEl.style.display =\n",
              "          google.colab.kernel.accessAllowed ? 'block' : 'none';\n",
              "\n",
              "        async function convertToInteractive(key) {\n",
              "          const element = document.querySelector('#df-3dd9a5a6-c920-4952-a24a-abefb567569a');\n",
              "          const dataTable =\n",
              "            await google.colab.kernel.invokeFunction('convertToInteractive',\n",
              "                                                     [key], {});\n",
              "          if (!dataTable) return;\n",
              "\n",
              "          const docLinkHtml = 'Like what you see? Visit the ' +\n",
              "            '<a target=\"_blank\" href=https://colab.research.google.com/notebooks/data_table.ipynb>data table notebook</a>'\n",
              "            + ' to learn more about interactive tables.';\n",
              "          element.innerHTML = '';\n",
              "          dataTable['output_type'] = 'display_data';\n",
              "          await google.colab.output.renderOutput(dataTable, element);\n",
              "          const docLink = document.createElement('div');\n",
              "          docLink.innerHTML = docLinkHtml;\n",
              "          element.appendChild(docLink);\n",
              "        }\n",
              "      </script>\n",
              "    </div>\n",
              "  </div>\n",
              "  "
            ]
          },
          "metadata": {},
          "execution_count": 35
        }
      ]
    },
    {
      "cell_type": "code",
      "source": [
        "df1.drop(['Airline', 'Source', 'Destination', 'Additional_Info', 'Route'], axis=1, inplace=True)\n",
        "df2.drop(['Airline', 'Source', 'Destination', 'Additional_Info', 'Route'], axis=1, inplace=True)"
      ],
      "metadata": {
        "id": "i_PpEkBmZaSo"
      },
      "execution_count": null,
      "outputs": []
    },
    {
      "cell_type": "code",
      "source": [
        "df1.head()"
      ],
      "metadata": {
        "colab": {
          "base_uri": "https://localhost:8080/",
          "height": 314
        },
        "id": "VGdvAhDcZ-yO",
        "outputId": "1987ec41-8451-43ab-c5b5-a42cf46cbf61"
      },
      "execution_count": null,
      "outputs": [
        {
          "output_type": "execute_result",
          "data": {
            "text/plain": [
              "      Total_Stops  day_of_journey  month_of_journey  Dep_Time_hour  \\\n",
              "5186            1               3                 6           8.01   \n",
              "8190            1               6                 6           9.01   \n",
              "1454            1              15                 3           5.01   \n",
              "3360            1               9                 6           7.01   \n",
              "3494            0               6                 5           8.01   \n",
              "\n",
              "      Dep_Time_minute  Arrival_Time_hour  Arrival_Time_minute  Duration_hour  \\\n",
              "5186             0.01              21.01                 0.01       3.264776   \n",
              "8190             0.01              19.01                 0.01       2.857039   \n",
              "1454            45.01              13.01                15.01       2.332912   \n",
              "3360            35.01              12.01                10.01       1.575857   \n",
              "3494            20.01              11.01                20.01       1.215536   \n",
              "\n",
              "      Duration_minute  Airline__Air Asia  ...  Source__Banglore  \\\n",
              "5186              0.1                  0  ...                 0   \n",
              "8190              0.1                  0  ...                 0   \n",
              "1454             30.0                  0  ...                 1   \n",
              "3360             35.0                  0  ...                 0   \n",
              "3494              0.1                  0  ...                 1   \n",
              "\n",
              "      Source__Chennai  Source__Delhi  Source__Kolkata  Source__Mumbai  \\\n",
              "5186                0              1                0               0   \n",
              "8190                0              1                0               0   \n",
              "1454                0              0                0               0   \n",
              "3360                0              1                0               0   \n",
              "3494                0              0                0               0   \n",
              "\n",
              "      Destination__Banglore  Destination__Cochin  Destination__Delhi  \\\n",
              "5186                      0                    1                   0   \n",
              "8190                      0                    1                   0   \n",
              "1454                      0                    0                   1   \n",
              "3360                      0                    1                   0   \n",
              "3494                      0                    0                   1   \n",
              "\n",
              "      Destination__Hyderabad  Destination__Kolkata  \n",
              "5186                       0                     0  \n",
              "8190                       0                     0  \n",
              "1454                       0                     0  \n",
              "3360                       0                     0  \n",
              "3494                       0                     0  \n",
              "\n",
              "[5 rows x 30 columns]"
            ],
            "text/html": [
              "\n",
              "  <div id=\"df-9d45fe88-5789-49c2-9586-86628d87a066\">\n",
              "    <div class=\"colab-df-container\">\n",
              "      <div>\n",
              "<style scoped>\n",
              "    .dataframe tbody tr th:only-of-type {\n",
              "        vertical-align: middle;\n",
              "    }\n",
              "\n",
              "    .dataframe tbody tr th {\n",
              "        vertical-align: top;\n",
              "    }\n",
              "\n",
              "    .dataframe thead th {\n",
              "        text-align: right;\n",
              "    }\n",
              "</style>\n",
              "<table border=\"1\" class=\"dataframe\">\n",
              "  <thead>\n",
              "    <tr style=\"text-align: right;\">\n",
              "      <th></th>\n",
              "      <th>Total_Stops</th>\n",
              "      <th>day_of_journey</th>\n",
              "      <th>month_of_journey</th>\n",
              "      <th>Dep_Time_hour</th>\n",
              "      <th>Dep_Time_minute</th>\n",
              "      <th>Arrival_Time_hour</th>\n",
              "      <th>Arrival_Time_minute</th>\n",
              "      <th>Duration_hour</th>\n",
              "      <th>Duration_minute</th>\n",
              "      <th>Airline__Air Asia</th>\n",
              "      <th>...</th>\n",
              "      <th>Source__Banglore</th>\n",
              "      <th>Source__Chennai</th>\n",
              "      <th>Source__Delhi</th>\n",
              "      <th>Source__Kolkata</th>\n",
              "      <th>Source__Mumbai</th>\n",
              "      <th>Destination__Banglore</th>\n",
              "      <th>Destination__Cochin</th>\n",
              "      <th>Destination__Delhi</th>\n",
              "      <th>Destination__Hyderabad</th>\n",
              "      <th>Destination__Kolkata</th>\n",
              "    </tr>\n",
              "  </thead>\n",
              "  <tbody>\n",
              "    <tr>\n",
              "      <th>5186</th>\n",
              "      <td>1</td>\n",
              "      <td>3</td>\n",
              "      <td>6</td>\n",
              "      <td>8.01</td>\n",
              "      <td>0.01</td>\n",
              "      <td>21.01</td>\n",
              "      <td>0.01</td>\n",
              "      <td>3.264776</td>\n",
              "      <td>0.1</td>\n",
              "      <td>0</td>\n",
              "      <td>...</td>\n",
              "      <td>0</td>\n",
              "      <td>0</td>\n",
              "      <td>1</td>\n",
              "      <td>0</td>\n",
              "      <td>0</td>\n",
              "      <td>0</td>\n",
              "      <td>1</td>\n",
              "      <td>0</td>\n",
              "      <td>0</td>\n",
              "      <td>0</td>\n",
              "    </tr>\n",
              "    <tr>\n",
              "      <th>8190</th>\n",
              "      <td>1</td>\n",
              "      <td>6</td>\n",
              "      <td>6</td>\n",
              "      <td>9.01</td>\n",
              "      <td>0.01</td>\n",
              "      <td>19.01</td>\n",
              "      <td>0.01</td>\n",
              "      <td>2.857039</td>\n",
              "      <td>0.1</td>\n",
              "      <td>0</td>\n",
              "      <td>...</td>\n",
              "      <td>0</td>\n",
              "      <td>0</td>\n",
              "      <td>1</td>\n",
              "      <td>0</td>\n",
              "      <td>0</td>\n",
              "      <td>0</td>\n",
              "      <td>1</td>\n",
              "      <td>0</td>\n",
              "      <td>0</td>\n",
              "      <td>0</td>\n",
              "    </tr>\n",
              "    <tr>\n",
              "      <th>1454</th>\n",
              "      <td>1</td>\n",
              "      <td>15</td>\n",
              "      <td>3</td>\n",
              "      <td>5.01</td>\n",
              "      <td>45.01</td>\n",
              "      <td>13.01</td>\n",
              "      <td>15.01</td>\n",
              "      <td>2.332912</td>\n",
              "      <td>30.0</td>\n",
              "      <td>0</td>\n",
              "      <td>...</td>\n",
              "      <td>1</td>\n",
              "      <td>0</td>\n",
              "      <td>0</td>\n",
              "      <td>0</td>\n",
              "      <td>0</td>\n",
              "      <td>0</td>\n",
              "      <td>0</td>\n",
              "      <td>1</td>\n",
              "      <td>0</td>\n",
              "      <td>0</td>\n",
              "    </tr>\n",
              "    <tr>\n",
              "      <th>3360</th>\n",
              "      <td>1</td>\n",
              "      <td>9</td>\n",
              "      <td>6</td>\n",
              "      <td>7.01</td>\n",
              "      <td>35.01</td>\n",
              "      <td>12.01</td>\n",
              "      <td>10.01</td>\n",
              "      <td>1.575857</td>\n",
              "      <td>35.0</td>\n",
              "      <td>0</td>\n",
              "      <td>...</td>\n",
              "      <td>0</td>\n",
              "      <td>0</td>\n",
              "      <td>1</td>\n",
              "      <td>0</td>\n",
              "      <td>0</td>\n",
              "      <td>0</td>\n",
              "      <td>1</td>\n",
              "      <td>0</td>\n",
              "      <td>0</td>\n",
              "      <td>0</td>\n",
              "    </tr>\n",
              "    <tr>\n",
              "      <th>3494</th>\n",
              "      <td>0</td>\n",
              "      <td>6</td>\n",
              "      <td>5</td>\n",
              "      <td>8.01</td>\n",
              "      <td>20.01</td>\n",
              "      <td>11.01</td>\n",
              "      <td>20.01</td>\n",
              "      <td>1.215536</td>\n",
              "      <td>0.1</td>\n",
              "      <td>0</td>\n",
              "      <td>...</td>\n",
              "      <td>1</td>\n",
              "      <td>0</td>\n",
              "      <td>0</td>\n",
              "      <td>0</td>\n",
              "      <td>0</td>\n",
              "      <td>0</td>\n",
              "      <td>0</td>\n",
              "      <td>1</td>\n",
              "      <td>0</td>\n",
              "      <td>0</td>\n",
              "    </tr>\n",
              "  </tbody>\n",
              "</table>\n",
              "<p>5 rows × 30 columns</p>\n",
              "</div>\n",
              "      <button class=\"colab-df-convert\" onclick=\"convertToInteractive('df-9d45fe88-5789-49c2-9586-86628d87a066')\"\n",
              "              title=\"Convert this dataframe to an interactive table.\"\n",
              "              style=\"display:none;\">\n",
              "        \n",
              "  <svg xmlns=\"http://www.w3.org/2000/svg\" height=\"24px\"viewBox=\"0 0 24 24\"\n",
              "       width=\"24px\">\n",
              "    <path d=\"M0 0h24v24H0V0z\" fill=\"none\"/>\n",
              "    <path d=\"M18.56 5.44l.94 2.06.94-2.06 2.06-.94-2.06-.94-.94-2.06-.94 2.06-2.06.94zm-11 1L8.5 8.5l.94-2.06 2.06-.94-2.06-.94L8.5 2.5l-.94 2.06-2.06.94zm10 10l.94 2.06.94-2.06 2.06-.94-2.06-.94-.94-2.06-.94 2.06-2.06.94z\"/><path d=\"M17.41 7.96l-1.37-1.37c-.4-.4-.92-.59-1.43-.59-.52 0-1.04.2-1.43.59L10.3 9.45l-7.72 7.72c-.78.78-.78 2.05 0 2.83L4 21.41c.39.39.9.59 1.41.59.51 0 1.02-.2 1.41-.59l7.78-7.78 2.81-2.81c.8-.78.8-2.07 0-2.86zM5.41 20L4 18.59l7.72-7.72 1.47 1.35L5.41 20z\"/>\n",
              "  </svg>\n",
              "      </button>\n",
              "      \n",
              "  <style>\n",
              "    .colab-df-container {\n",
              "      display:flex;\n",
              "      flex-wrap:wrap;\n",
              "      gap: 12px;\n",
              "    }\n",
              "\n",
              "    .colab-df-convert {\n",
              "      background-color: #E8F0FE;\n",
              "      border: none;\n",
              "      border-radius: 50%;\n",
              "      cursor: pointer;\n",
              "      display: none;\n",
              "      fill: #1967D2;\n",
              "      height: 32px;\n",
              "      padding: 0 0 0 0;\n",
              "      width: 32px;\n",
              "    }\n",
              "\n",
              "    .colab-df-convert:hover {\n",
              "      background-color: #E2EBFA;\n",
              "      box-shadow: 0px 1px 2px rgba(60, 64, 67, 0.3), 0px 1px 3px 1px rgba(60, 64, 67, 0.15);\n",
              "      fill: #174EA6;\n",
              "    }\n",
              "\n",
              "    [theme=dark] .colab-df-convert {\n",
              "      background-color: #3B4455;\n",
              "      fill: #D2E3FC;\n",
              "    }\n",
              "\n",
              "    [theme=dark] .colab-df-convert:hover {\n",
              "      background-color: #434B5C;\n",
              "      box-shadow: 0px 1px 3px 1px rgba(0, 0, 0, 0.15);\n",
              "      filter: drop-shadow(0px 1px 2px rgba(0, 0, 0, 0.3));\n",
              "      fill: #FFFFFF;\n",
              "    }\n",
              "  </style>\n",
              "\n",
              "      <script>\n",
              "        const buttonEl =\n",
              "          document.querySelector('#df-9d45fe88-5789-49c2-9586-86628d87a066 button.colab-df-convert');\n",
              "        buttonEl.style.display =\n",
              "          google.colab.kernel.accessAllowed ? 'block' : 'none';\n",
              "\n",
              "        async function convertToInteractive(key) {\n",
              "          const element = document.querySelector('#df-9d45fe88-5789-49c2-9586-86628d87a066');\n",
              "          const dataTable =\n",
              "            await google.colab.kernel.invokeFunction('convertToInteractive',\n",
              "                                                     [key], {});\n",
              "          if (!dataTable) return;\n",
              "\n",
              "          const docLinkHtml = 'Like what you see? Visit the ' +\n",
              "            '<a target=\"_blank\" href=https://colab.research.google.com/notebooks/data_table.ipynb>data table notebook</a>'\n",
              "            + ' to learn more about interactive tables.';\n",
              "          element.innerHTML = '';\n",
              "          dataTable['output_type'] = 'display_data';\n",
              "          await google.colab.output.renderOutput(dataTable, element);\n",
              "          const docLink = document.createElement('div');\n",
              "          docLink.innerHTML = docLinkHtml;\n",
              "          element.appendChild(docLink);\n",
              "        }\n",
              "      </script>\n",
              "    </div>\n",
              "  </div>\n",
              "  "
            ]
          },
          "metadata": {},
          "execution_count": 37
        }
      ]
    },
    {
      "cell_type": "code",
      "source": [
        "df1.columns"
      ],
      "metadata": {
        "colab": {
          "base_uri": "https://localhost:8080/"
        },
        "id": "KERt03Ybahc3",
        "outputId": "ab83fa2c-dadf-4e07-a705-295cb8c069e8"
      },
      "execution_count": null,
      "outputs": [
        {
          "output_type": "execute_result",
          "data": {
            "text/plain": [
              "Index(['Total_Stops', 'day_of_journey', 'month_of_journey', 'Dep_Time_hour',\n",
              "       'Dep_Time_minute', 'Arrival_Time_hour', 'Arrival_Time_minute',\n",
              "       'Duration_hour', 'Duration_minute', 'Airline__Air Asia',\n",
              "       'Airline__Air India', 'Airline__GoAir', 'Airline__IndiGo',\n",
              "       'Airline__Jet Airways', 'Airline__Jet Airways Business',\n",
              "       'Airline__Multiple carriers',\n",
              "       'Airline__Multiple carriers Premium economy', 'Airline__SpiceJet',\n",
              "       'Airline__Vistara', 'Airline__Vistara Premium economy',\n",
              "       'Source__Banglore', 'Source__Chennai', 'Source__Delhi',\n",
              "       'Source__Kolkata', 'Source__Mumbai', 'Destination__Banglore',\n",
              "       'Destination__Cochin', 'Destination__Delhi', 'Destination__Hyderabad',\n",
              "       'Destination__Kolkata'],\n",
              "      dtype='object')"
            ]
          },
          "metadata": {},
          "execution_count": 38
        }
      ]
    },
    {
      "cell_type": "code",
      "source": [
        "X_train = df1\n",
        "X_test = df2"
      ],
      "metadata": {
        "id": "OP-Z7NGJjPW8"
      },
      "execution_count": null,
      "outputs": []
    },
    {
      "cell_type": "code",
      "source": [
        "#Check multicollinearity using VIF\n",
        "vif = pd.DataFrame()\n",
        "vif['Features'] = X_train.columns\n",
        "vif['VIF'] = [variance_inflation_factor(X_train.values, i) for i in range(X_train.shape[1])]\n",
        "vif['VIF'] = round(vif['VIF'], 2)\n",
        "vif = vif.sort_values(by = 'VIF', ascending = False)\n",
        "vif"
      ],
      "metadata": {
        "colab": {
          "base_uri": "https://localhost:8080/",
          "height": 1000
        },
        "id": "26e0eh6nVmoK",
        "outputId": "508514d3-308a-4daa-ec92-d9c1b3764613"
      },
      "execution_count": null,
      "outputs": [
        {
          "output_type": "stream",
          "name": "stderr",
          "text": [
            "/usr/local/lib/python3.8/dist-packages/statsmodels/stats/outliers_influence.py:193: RuntimeWarning: divide by zero encountered in double_scalars\n",
            "  vif = 1. / (1. - r_squared_i)\n"
          ]
        },
        {
          "output_type": "execute_result",
          "data": {
            "text/plain": [
              "                                      Features   VIF\n",
              "15                  Airline__Multiple carriers   inf\n",
              "16  Airline__Multiple carriers Premium economy   inf\n",
              "28                      Destination__Hyderabad   inf\n",
              "27                          Destination__Delhi   inf\n",
              "26                         Destination__Cochin   inf\n",
              "25                       Destination__Banglore   inf\n",
              "24                              Source__Mumbai   inf\n",
              "23                             Source__Kolkata   inf\n",
              "22                               Source__Delhi   inf\n",
              "21                             Source__Chennai   inf\n",
              "20                            Source__Banglore   inf\n",
              "19            Airline__Vistara Premium economy   inf\n",
              "18                            Airline__Vistara   inf\n",
              "17                           Airline__SpiceJet   inf\n",
              "29                        Destination__Kolkata   inf\n",
              "14               Airline__Jet Airways Business   inf\n",
              "13                        Airline__Jet Airways   inf\n",
              "12                             Airline__IndiGo   inf\n",
              "11                              Airline__GoAir   inf\n",
              "10                          Airline__Air India   inf\n",
              "9                            Airline__Air Asia   inf\n",
              "7                                Duration_hour  4.32\n",
              "0                                  Total_Stops  3.79\n",
              "8                              Duration_minute  1.15\n",
              "6                          Arrival_Time_minute  1.13\n",
              "2                             month_of_journey  1.12\n",
              "4                              Dep_Time_minute  1.11\n",
              "5                            Arrival_Time_hour  1.09\n",
              "3                                Dep_Time_hour  1.06\n",
              "1                               day_of_journey  1.03"
            ],
            "text/html": [
              "\n",
              "  <div id=\"df-a871f9d6-efaf-4037-b2b0-7726958e9a43\">\n",
              "    <div class=\"colab-df-container\">\n",
              "      <div>\n",
              "<style scoped>\n",
              "    .dataframe tbody tr th:only-of-type {\n",
              "        vertical-align: middle;\n",
              "    }\n",
              "\n",
              "    .dataframe tbody tr th {\n",
              "        vertical-align: top;\n",
              "    }\n",
              "\n",
              "    .dataframe thead th {\n",
              "        text-align: right;\n",
              "    }\n",
              "</style>\n",
              "<table border=\"1\" class=\"dataframe\">\n",
              "  <thead>\n",
              "    <tr style=\"text-align: right;\">\n",
              "      <th></th>\n",
              "      <th>Features</th>\n",
              "      <th>VIF</th>\n",
              "    </tr>\n",
              "  </thead>\n",
              "  <tbody>\n",
              "    <tr>\n",
              "      <th>15</th>\n",
              "      <td>Airline__Multiple carriers</td>\n",
              "      <td>inf</td>\n",
              "    </tr>\n",
              "    <tr>\n",
              "      <th>16</th>\n",
              "      <td>Airline__Multiple carriers Premium economy</td>\n",
              "      <td>inf</td>\n",
              "    </tr>\n",
              "    <tr>\n",
              "      <th>28</th>\n",
              "      <td>Destination__Hyderabad</td>\n",
              "      <td>inf</td>\n",
              "    </tr>\n",
              "    <tr>\n",
              "      <th>27</th>\n",
              "      <td>Destination__Delhi</td>\n",
              "      <td>inf</td>\n",
              "    </tr>\n",
              "    <tr>\n",
              "      <th>26</th>\n",
              "      <td>Destination__Cochin</td>\n",
              "      <td>inf</td>\n",
              "    </tr>\n",
              "    <tr>\n",
              "      <th>25</th>\n",
              "      <td>Destination__Banglore</td>\n",
              "      <td>inf</td>\n",
              "    </tr>\n",
              "    <tr>\n",
              "      <th>24</th>\n",
              "      <td>Source__Mumbai</td>\n",
              "      <td>inf</td>\n",
              "    </tr>\n",
              "    <tr>\n",
              "      <th>23</th>\n",
              "      <td>Source__Kolkata</td>\n",
              "      <td>inf</td>\n",
              "    </tr>\n",
              "    <tr>\n",
              "      <th>22</th>\n",
              "      <td>Source__Delhi</td>\n",
              "      <td>inf</td>\n",
              "    </tr>\n",
              "    <tr>\n",
              "      <th>21</th>\n",
              "      <td>Source__Chennai</td>\n",
              "      <td>inf</td>\n",
              "    </tr>\n",
              "    <tr>\n",
              "      <th>20</th>\n",
              "      <td>Source__Banglore</td>\n",
              "      <td>inf</td>\n",
              "    </tr>\n",
              "    <tr>\n",
              "      <th>19</th>\n",
              "      <td>Airline__Vistara Premium economy</td>\n",
              "      <td>inf</td>\n",
              "    </tr>\n",
              "    <tr>\n",
              "      <th>18</th>\n",
              "      <td>Airline__Vistara</td>\n",
              "      <td>inf</td>\n",
              "    </tr>\n",
              "    <tr>\n",
              "      <th>17</th>\n",
              "      <td>Airline__SpiceJet</td>\n",
              "      <td>inf</td>\n",
              "    </tr>\n",
              "    <tr>\n",
              "      <th>29</th>\n",
              "      <td>Destination__Kolkata</td>\n",
              "      <td>inf</td>\n",
              "    </tr>\n",
              "    <tr>\n",
              "      <th>14</th>\n",
              "      <td>Airline__Jet Airways Business</td>\n",
              "      <td>inf</td>\n",
              "    </tr>\n",
              "    <tr>\n",
              "      <th>13</th>\n",
              "      <td>Airline__Jet Airways</td>\n",
              "      <td>inf</td>\n",
              "    </tr>\n",
              "    <tr>\n",
              "      <th>12</th>\n",
              "      <td>Airline__IndiGo</td>\n",
              "      <td>inf</td>\n",
              "    </tr>\n",
              "    <tr>\n",
              "      <th>11</th>\n",
              "      <td>Airline__GoAir</td>\n",
              "      <td>inf</td>\n",
              "    </tr>\n",
              "    <tr>\n",
              "      <th>10</th>\n",
              "      <td>Airline__Air India</td>\n",
              "      <td>inf</td>\n",
              "    </tr>\n",
              "    <tr>\n",
              "      <th>9</th>\n",
              "      <td>Airline__Air Asia</td>\n",
              "      <td>inf</td>\n",
              "    </tr>\n",
              "    <tr>\n",
              "      <th>7</th>\n",
              "      <td>Duration_hour</td>\n",
              "      <td>4.32</td>\n",
              "    </tr>\n",
              "    <tr>\n",
              "      <th>0</th>\n",
              "      <td>Total_Stops</td>\n",
              "      <td>3.79</td>\n",
              "    </tr>\n",
              "    <tr>\n",
              "      <th>8</th>\n",
              "      <td>Duration_minute</td>\n",
              "      <td>1.15</td>\n",
              "    </tr>\n",
              "    <tr>\n",
              "      <th>6</th>\n",
              "      <td>Arrival_Time_minute</td>\n",
              "      <td>1.13</td>\n",
              "    </tr>\n",
              "    <tr>\n",
              "      <th>2</th>\n",
              "      <td>month_of_journey</td>\n",
              "      <td>1.12</td>\n",
              "    </tr>\n",
              "    <tr>\n",
              "      <th>4</th>\n",
              "      <td>Dep_Time_minute</td>\n",
              "      <td>1.11</td>\n",
              "    </tr>\n",
              "    <tr>\n",
              "      <th>5</th>\n",
              "      <td>Arrival_Time_hour</td>\n",
              "      <td>1.09</td>\n",
              "    </tr>\n",
              "    <tr>\n",
              "      <th>3</th>\n",
              "      <td>Dep_Time_hour</td>\n",
              "      <td>1.06</td>\n",
              "    </tr>\n",
              "    <tr>\n",
              "      <th>1</th>\n",
              "      <td>day_of_journey</td>\n",
              "      <td>1.03</td>\n",
              "    </tr>\n",
              "  </tbody>\n",
              "</table>\n",
              "</div>\n",
              "      <button class=\"colab-df-convert\" onclick=\"convertToInteractive('df-a871f9d6-efaf-4037-b2b0-7726958e9a43')\"\n",
              "              title=\"Convert this dataframe to an interactive table.\"\n",
              "              style=\"display:none;\">\n",
              "        \n",
              "  <svg xmlns=\"http://www.w3.org/2000/svg\" height=\"24px\"viewBox=\"0 0 24 24\"\n",
              "       width=\"24px\">\n",
              "    <path d=\"M0 0h24v24H0V0z\" fill=\"none\"/>\n",
              "    <path d=\"M18.56 5.44l.94 2.06.94-2.06 2.06-.94-2.06-.94-.94-2.06-.94 2.06-2.06.94zm-11 1L8.5 8.5l.94-2.06 2.06-.94-2.06-.94L8.5 2.5l-.94 2.06-2.06.94zm10 10l.94 2.06.94-2.06 2.06-.94-2.06-.94-.94-2.06-.94 2.06-2.06.94z\"/><path d=\"M17.41 7.96l-1.37-1.37c-.4-.4-.92-.59-1.43-.59-.52 0-1.04.2-1.43.59L10.3 9.45l-7.72 7.72c-.78.78-.78 2.05 0 2.83L4 21.41c.39.39.9.59 1.41.59.51 0 1.02-.2 1.41-.59l7.78-7.78 2.81-2.81c.8-.78.8-2.07 0-2.86zM5.41 20L4 18.59l7.72-7.72 1.47 1.35L5.41 20z\"/>\n",
              "  </svg>\n",
              "      </button>\n",
              "      \n",
              "  <style>\n",
              "    .colab-df-container {\n",
              "      display:flex;\n",
              "      flex-wrap:wrap;\n",
              "      gap: 12px;\n",
              "    }\n",
              "\n",
              "    .colab-df-convert {\n",
              "      background-color: #E8F0FE;\n",
              "      border: none;\n",
              "      border-radius: 50%;\n",
              "      cursor: pointer;\n",
              "      display: none;\n",
              "      fill: #1967D2;\n",
              "      height: 32px;\n",
              "      padding: 0 0 0 0;\n",
              "      width: 32px;\n",
              "    }\n",
              "\n",
              "    .colab-df-convert:hover {\n",
              "      background-color: #E2EBFA;\n",
              "      box-shadow: 0px 1px 2px rgba(60, 64, 67, 0.3), 0px 1px 3px 1px rgba(60, 64, 67, 0.15);\n",
              "      fill: #174EA6;\n",
              "    }\n",
              "\n",
              "    [theme=dark] .colab-df-convert {\n",
              "      background-color: #3B4455;\n",
              "      fill: #D2E3FC;\n",
              "    }\n",
              "\n",
              "    [theme=dark] .colab-df-convert:hover {\n",
              "      background-color: #434B5C;\n",
              "      box-shadow: 0px 1px 3px 1px rgba(0, 0, 0, 0.15);\n",
              "      filter: drop-shadow(0px 1px 2px rgba(0, 0, 0, 0.3));\n",
              "      fill: #FFFFFF;\n",
              "    }\n",
              "  </style>\n",
              "\n",
              "      <script>\n",
              "        const buttonEl =\n",
              "          document.querySelector('#df-a871f9d6-efaf-4037-b2b0-7726958e9a43 button.colab-df-convert');\n",
              "        buttonEl.style.display =\n",
              "          google.colab.kernel.accessAllowed ? 'block' : 'none';\n",
              "\n",
              "        async function convertToInteractive(key) {\n",
              "          const element = document.querySelector('#df-a871f9d6-efaf-4037-b2b0-7726958e9a43');\n",
              "          const dataTable =\n",
              "            await google.colab.kernel.invokeFunction('convertToInteractive',\n",
              "                                                     [key], {});\n",
              "          if (!dataTable) return;\n",
              "\n",
              "          const docLinkHtml = 'Like what you see? Visit the ' +\n",
              "            '<a target=\"_blank\" href=https://colab.research.google.com/notebooks/data_table.ipynb>data table notebook</a>'\n",
              "            + ' to learn more about interactive tables.';\n",
              "          element.innerHTML = '';\n",
              "          dataTable['output_type'] = 'display_data';\n",
              "          await google.colab.output.renderOutput(dataTable, element);\n",
              "          const docLink = document.createElement('div');\n",
              "          docLink.innerHTML = docLinkHtml;\n",
              "          element.appendChild(docLink);\n",
              "        }\n",
              "      </script>\n",
              "    </div>\n",
              "  </div>\n",
              "  "
            ]
          },
          "metadata": {},
          "execution_count": 40
        }
      ]
    },
    {
      "cell_type": "markdown",
      "source": [
        "Since there are variables that are one-hot encoded, these variables will have VIF value of inf. Hence, we will be considering just the numerical variables for feature reduction."
      ],
      "metadata": {
        "id": "GFEQeMeJvJCz"
      }
    },
    {
      "cell_type": "code",
      "source": [
        "# Listing categorical and numeric columns:\n",
        "Num_col = list(X_train.select_dtypes(include=['float64', 'int64']).columns)\n",
        "print('Numerical Variables:', Num_col)"
      ],
      "metadata": {
        "colab": {
          "base_uri": "https://localhost:8080/"
        },
        "id": "qiduidexV9yu",
        "outputId": "d6547b1a-5eaf-4b8f-c9dd-cd7435b2fb20"
      },
      "execution_count": null,
      "outputs": [
        {
          "output_type": "stream",
          "name": "stdout",
          "text": [
            "Numerical Variables: ['Total_Stops', 'day_of_journey', 'month_of_journey', 'Dep_Time_hour', 'Dep_Time_minute', 'Arrival_Time_hour', 'Arrival_Time_minute', 'Duration_hour', 'Duration_minute']\n"
          ]
        }
      ]
    },
    {
      "cell_type": "code",
      "source": [
        "X_train_num = pd.DataFrame(X_train, \n",
        "             columns=['Total_Stops', 'day_of_journey', 'month_of_journey', 'Dep_Time_hour', 'Dep_Time_minute', 'Arrival_Time_hour', 'Arrival_Time_minute', 'Duration_hour', 'Duration_minute'])"
      ],
      "metadata": {
        "id": "yW0rR6xpV_yl"
      },
      "execution_count": null,
      "outputs": []
    },
    {
      "cell_type": "code",
      "source": [
        "X_train_num.head()"
      ],
      "metadata": {
        "colab": {
          "base_uri": "https://localhost:8080/",
          "height": 268
        },
        "id": "nvZgM0JKWj83",
        "outputId": "6783cf45-7edf-410b-c7cf-390e4b0d572b"
      },
      "execution_count": null,
      "outputs": [
        {
          "output_type": "execute_result",
          "data": {
            "text/plain": [
              "      Total_Stops  day_of_journey  month_of_journey  Dep_Time_hour  \\\n",
              "5186            1               3                 6           8.01   \n",
              "8190            1               6                 6           9.01   \n",
              "1454            1              15                 3           5.01   \n",
              "3360            1               9                 6           7.01   \n",
              "3494            0               6                 5           8.01   \n",
              "\n",
              "      Dep_Time_minute  Arrival_Time_hour  Arrival_Time_minute  Duration_hour  \\\n",
              "5186             0.01              21.01                 0.01       3.264776   \n",
              "8190             0.01              19.01                 0.01       2.857039   \n",
              "1454            45.01              13.01                15.01       2.332912   \n",
              "3360            35.01              12.01                10.01       1.575857   \n",
              "3494            20.01              11.01                20.01       1.215536   \n",
              "\n",
              "      Duration_minute  \n",
              "5186              0.1  \n",
              "8190              0.1  \n",
              "1454             30.0  \n",
              "3360             35.0  \n",
              "3494              0.1  "
            ],
            "text/html": [
              "\n",
              "  <div id=\"df-199116f4-690a-4932-a694-10f384ab56a5\">\n",
              "    <div class=\"colab-df-container\">\n",
              "      <div>\n",
              "<style scoped>\n",
              "    .dataframe tbody tr th:only-of-type {\n",
              "        vertical-align: middle;\n",
              "    }\n",
              "\n",
              "    .dataframe tbody tr th {\n",
              "        vertical-align: top;\n",
              "    }\n",
              "\n",
              "    .dataframe thead th {\n",
              "        text-align: right;\n",
              "    }\n",
              "</style>\n",
              "<table border=\"1\" class=\"dataframe\">\n",
              "  <thead>\n",
              "    <tr style=\"text-align: right;\">\n",
              "      <th></th>\n",
              "      <th>Total_Stops</th>\n",
              "      <th>day_of_journey</th>\n",
              "      <th>month_of_journey</th>\n",
              "      <th>Dep_Time_hour</th>\n",
              "      <th>Dep_Time_minute</th>\n",
              "      <th>Arrival_Time_hour</th>\n",
              "      <th>Arrival_Time_minute</th>\n",
              "      <th>Duration_hour</th>\n",
              "      <th>Duration_minute</th>\n",
              "    </tr>\n",
              "  </thead>\n",
              "  <tbody>\n",
              "    <tr>\n",
              "      <th>5186</th>\n",
              "      <td>1</td>\n",
              "      <td>3</td>\n",
              "      <td>6</td>\n",
              "      <td>8.01</td>\n",
              "      <td>0.01</td>\n",
              "      <td>21.01</td>\n",
              "      <td>0.01</td>\n",
              "      <td>3.264776</td>\n",
              "      <td>0.1</td>\n",
              "    </tr>\n",
              "    <tr>\n",
              "      <th>8190</th>\n",
              "      <td>1</td>\n",
              "      <td>6</td>\n",
              "      <td>6</td>\n",
              "      <td>9.01</td>\n",
              "      <td>0.01</td>\n",
              "      <td>19.01</td>\n",
              "      <td>0.01</td>\n",
              "      <td>2.857039</td>\n",
              "      <td>0.1</td>\n",
              "    </tr>\n",
              "    <tr>\n",
              "      <th>1454</th>\n",
              "      <td>1</td>\n",
              "      <td>15</td>\n",
              "      <td>3</td>\n",
              "      <td>5.01</td>\n",
              "      <td>45.01</td>\n",
              "      <td>13.01</td>\n",
              "      <td>15.01</td>\n",
              "      <td>2.332912</td>\n",
              "      <td>30.0</td>\n",
              "    </tr>\n",
              "    <tr>\n",
              "      <th>3360</th>\n",
              "      <td>1</td>\n",
              "      <td>9</td>\n",
              "      <td>6</td>\n",
              "      <td>7.01</td>\n",
              "      <td>35.01</td>\n",
              "      <td>12.01</td>\n",
              "      <td>10.01</td>\n",
              "      <td>1.575857</td>\n",
              "      <td>35.0</td>\n",
              "    </tr>\n",
              "    <tr>\n",
              "      <th>3494</th>\n",
              "      <td>0</td>\n",
              "      <td>6</td>\n",
              "      <td>5</td>\n",
              "      <td>8.01</td>\n",
              "      <td>20.01</td>\n",
              "      <td>11.01</td>\n",
              "      <td>20.01</td>\n",
              "      <td>1.215536</td>\n",
              "      <td>0.1</td>\n",
              "    </tr>\n",
              "  </tbody>\n",
              "</table>\n",
              "</div>\n",
              "      <button class=\"colab-df-convert\" onclick=\"convertToInteractive('df-199116f4-690a-4932-a694-10f384ab56a5')\"\n",
              "              title=\"Convert this dataframe to an interactive table.\"\n",
              "              style=\"display:none;\">\n",
              "        \n",
              "  <svg xmlns=\"http://www.w3.org/2000/svg\" height=\"24px\"viewBox=\"0 0 24 24\"\n",
              "       width=\"24px\">\n",
              "    <path d=\"M0 0h24v24H0V0z\" fill=\"none\"/>\n",
              "    <path d=\"M18.56 5.44l.94 2.06.94-2.06 2.06-.94-2.06-.94-.94-2.06-.94 2.06-2.06.94zm-11 1L8.5 8.5l.94-2.06 2.06-.94-2.06-.94L8.5 2.5l-.94 2.06-2.06.94zm10 10l.94 2.06.94-2.06 2.06-.94-2.06-.94-.94-2.06-.94 2.06-2.06.94z\"/><path d=\"M17.41 7.96l-1.37-1.37c-.4-.4-.92-.59-1.43-.59-.52 0-1.04.2-1.43.59L10.3 9.45l-7.72 7.72c-.78.78-.78 2.05 0 2.83L4 21.41c.39.39.9.59 1.41.59.51 0 1.02-.2 1.41-.59l7.78-7.78 2.81-2.81c.8-.78.8-2.07 0-2.86zM5.41 20L4 18.59l7.72-7.72 1.47 1.35L5.41 20z\"/>\n",
              "  </svg>\n",
              "      </button>\n",
              "      \n",
              "  <style>\n",
              "    .colab-df-container {\n",
              "      display:flex;\n",
              "      flex-wrap:wrap;\n",
              "      gap: 12px;\n",
              "    }\n",
              "\n",
              "    .colab-df-convert {\n",
              "      background-color: #E8F0FE;\n",
              "      border: none;\n",
              "      border-radius: 50%;\n",
              "      cursor: pointer;\n",
              "      display: none;\n",
              "      fill: #1967D2;\n",
              "      height: 32px;\n",
              "      padding: 0 0 0 0;\n",
              "      width: 32px;\n",
              "    }\n",
              "\n",
              "    .colab-df-convert:hover {\n",
              "      background-color: #E2EBFA;\n",
              "      box-shadow: 0px 1px 2px rgba(60, 64, 67, 0.3), 0px 1px 3px 1px rgba(60, 64, 67, 0.15);\n",
              "      fill: #174EA6;\n",
              "    }\n",
              "\n",
              "    [theme=dark] .colab-df-convert {\n",
              "      background-color: #3B4455;\n",
              "      fill: #D2E3FC;\n",
              "    }\n",
              "\n",
              "    [theme=dark] .colab-df-convert:hover {\n",
              "      background-color: #434B5C;\n",
              "      box-shadow: 0px 1px 3px 1px rgba(0, 0, 0, 0.15);\n",
              "      filter: drop-shadow(0px 1px 2px rgba(0, 0, 0, 0.3));\n",
              "      fill: #FFFFFF;\n",
              "    }\n",
              "  </style>\n",
              "\n",
              "      <script>\n",
              "        const buttonEl =\n",
              "          document.querySelector('#df-199116f4-690a-4932-a694-10f384ab56a5 button.colab-df-convert');\n",
              "        buttonEl.style.display =\n",
              "          google.colab.kernel.accessAllowed ? 'block' : 'none';\n",
              "\n",
              "        async function convertToInteractive(key) {\n",
              "          const element = document.querySelector('#df-199116f4-690a-4932-a694-10f384ab56a5');\n",
              "          const dataTable =\n",
              "            await google.colab.kernel.invokeFunction('convertToInteractive',\n",
              "                                                     [key], {});\n",
              "          if (!dataTable) return;\n",
              "\n",
              "          const docLinkHtml = 'Like what you see? Visit the ' +\n",
              "            '<a target=\"_blank\" href=https://colab.research.google.com/notebooks/data_table.ipynb>data table notebook</a>'\n",
              "            + ' to learn more about interactive tables.';\n",
              "          element.innerHTML = '';\n",
              "          dataTable['output_type'] = 'display_data';\n",
              "          await google.colab.output.renderOutput(dataTable, element);\n",
              "          const docLink = document.createElement('div');\n",
              "          docLink.innerHTML = docLinkHtml;\n",
              "          element.appendChild(docLink);\n",
              "        }\n",
              "      </script>\n",
              "    </div>\n",
              "  </div>\n",
              "  "
            ]
          },
          "metadata": {},
          "execution_count": 43
        }
      ]
    },
    {
      "cell_type": "code",
      "source": [
        "X_train_num.corr()\n",
        "plt.figure(figsize=(16, 6))\n",
        "heatmap = sns.heatmap(X_train_num.corr(),vmin=-1, vmax=1, annot=True)\n",
        "heatmap.set_title('Correlation Heatmap', fontdict={'fontsize':12}, pad=14);"
      ],
      "metadata": {
        "colab": {
          "base_uri": "https://localhost:8080/",
          "height": 490
        },
        "id": "_IdeH-38kH6s",
        "outputId": "bff2c1d0-54ef-45cf-db69-76e159b6aea0"
      },
      "execution_count": null,
      "outputs": [
        {
          "output_type": "display_data",
          "data": {
            "text/plain": [
              "<Figure size 1152x432 with 2 Axes>"
            ],
            "image/png": "[encoded data removed]"
          },
          "metadata": {
            "needs_background": "light"
          }
        }
      ]
    },
    {
      "cell_type": "markdown",
      "source": [
        "From the Correlation plot, we can visualise that there is a very strong correlation between Total_stops and Duration_hour. Hence, one of them needs to be dropped."
      ],
      "metadata": {
        "id": "4YAK-WiEvU2m"
      }
    },
    {
      "cell_type": "code",
      "source": [
        "# Check multicollinearity using VIF\n",
        "vif = pd.DataFrame()\n",
        "vif['Features'] = X_train_num.columns\n",
        "vif['VIF'] = [variance_inflation_factor(X_train_num.values, i) for i in range(X_train_num.shape[1])]\n",
        "vif['VIF'] = round(vif['VIF'], 2)\n",
        "vif = vif.sort_values(by = 'VIF', ascending = False)\n",
        "vif"
      ],
      "metadata": {
        "colab": {
          "base_uri": "https://localhost:8080/",
          "height": 328
        },
        "id": "QkhjoMlSWBnr",
        "outputId": "d86d63b6-5c7d-4056-b833-0d4109906d58"
      },
      "execution_count": null,
      "outputs": [
        {
          "output_type": "execute_result",
          "data": {
            "text/plain": [
              "              Features    VIF\n",
              "7        Duration_hour  11.71\n",
              "2     month_of_journey   9.80\n",
              "0          Total_Stops   7.85\n",
              "3        Dep_Time_hour   5.29\n",
              "5    Arrival_Time_hour   4.37\n",
              "8      Duration_minute   3.62\n",
              "1       day_of_journey   3.24\n",
              "6  Arrival_Time_minute   3.09\n",
              "4      Dep_Time_minute   2.61"
            ],
            "text/html": [
              "\n",
              "  <div id=\"df-12815eed-1e64-47d5-9f38-9fc1fb45e01e\">\n",
              "    <div class=\"colab-df-container\">\n",
              "      <div>\n",
              "<style scoped>\n",
              "    .dataframe tbody tr th:only-of-type {\n",
              "        vertical-align: middle;\n",
              "    }\n",
              "\n",
              "    .dataframe tbody tr th {\n",
              "        vertical-align: top;\n",
              "    }\n",
              "\n",
              "    .dataframe thead th {\n",
              "        text-align: right;\n",
              "    }\n",
              "</style>\n",
              "<table border=\"1\" class=\"dataframe\">\n",
              "  <thead>\n",
              "    <tr style=\"text-align: right;\">\n",
              "      <th></th>\n",
              "      <th>Features</th>\n",
              "      <th>VIF</th>\n",
              "    </tr>\n",
              "  </thead>\n",
              "  <tbody>\n",
              "    <tr>\n",
              "      <th>7</th>\n",
              "      <td>Duration_hour</td>\n",
              "      <td>11.71</td>\n",
              "    </tr>\n",
              "    <tr>\n",
              "      <th>2</th>\n",
              "      <td>month_of_journey</td>\n",
              "      <td>9.80</td>\n",
              "    </tr>\n",
              "    <tr>\n",
              "      <th>0</th>\n",
              "      <td>Total_Stops</td>\n",
              "      <td>7.85</td>\n",
              "    </tr>\n",
              "    <tr>\n",
              "      <th>3</th>\n",
              "      <td>Dep_Time_hour</td>\n",
              "      <td>5.29</td>\n",
              "    </tr>\n",
              "    <tr>\n",
              "      <th>5</th>\n",
              "      <td>Arrival_Time_hour</td>\n",
              "      <td>4.37</td>\n",
              "    </tr>\n",
              "    <tr>\n",
              "      <th>8</th>\n",
              "      <td>Duration_minute</td>\n",
              "      <td>3.62</td>\n",
              "    </tr>\n",
              "    <tr>\n",
              "      <th>1</th>\n",
              "      <td>day_of_journey</td>\n",
              "      <td>3.24</td>\n",
              "    </tr>\n",
              "    <tr>\n",
              "      <th>6</th>\n",
              "      <td>Arrival_Time_minute</td>\n",
              "      <td>3.09</td>\n",
              "    </tr>\n",
              "    <tr>\n",
              "      <th>4</th>\n",
              "      <td>Dep_Time_minute</td>\n",
              "      <td>2.61</td>\n",
              "    </tr>\n",
              "  </tbody>\n",
              "</table>\n",
              "</div>\n",
              "      <button class=\"colab-df-convert\" onclick=\"convertToInteractive('df-12815eed-1e64-47d5-9f38-9fc1fb45e01e')\"\n",
              "              title=\"Convert this dataframe to an interactive table.\"\n",
              "              style=\"display:none;\">\n",
              "        \n",
              "  <svg xmlns=\"http://www.w3.org/2000/svg\" height=\"24px\"viewBox=\"0 0 24 24\"\n",
              "       width=\"24px\">\n",
              "    <path d=\"M0 0h24v24H0V0z\" fill=\"none\"/>\n",
              "    <path d=\"M18.56 5.44l.94 2.06.94-2.06 2.06-.94-2.06-.94-.94-2.06-.94 2.06-2.06.94zm-11 1L8.5 8.5l.94-2.06 2.06-.94-2.06-.94L8.5 2.5l-.94 2.06-2.06.94zm10 10l.94 2.06.94-2.06 2.06-.94-2.06-.94-.94-2.06-.94 2.06-2.06.94z\"/><path d=\"M17.41 7.96l-1.37-1.37c-.4-.4-.92-.59-1.43-.59-.52 0-1.04.2-1.43.59L10.3 9.45l-7.72 7.72c-.78.78-.78 2.05 0 2.83L4 21.41c.39.39.9.59 1.41.59.51 0 1.02-.2 1.41-.59l7.78-7.78 2.81-2.81c.8-.78.8-2.07 0-2.86zM5.41 20L4 18.59l7.72-7.72 1.47 1.35L5.41 20z\"/>\n",
              "  </svg>\n",
              "      </button>\n",
              "      \n",
              "  <style>\n",
              "    .colab-df-container {\n",
              "      display:flex;\n",
              "      flex-wrap:wrap;\n",
              "      gap: 12px;\n",
              "    }\n",
              "\n",
              "    .colab-df-convert {\n",
              "      background-color: #E8F0FE;\n",
              "      border: none;\n",
              "      border-radius: 50%;\n",
              "      cursor: pointer;\n",
              "      display: none;\n",
              "      fill: #1967D2;\n",
              "      height: 32px;\n",
              "      padding: 0 0 0 0;\n",
              "      width: 32px;\n",
              "    }\n",
              "\n",
              "    .colab-df-convert:hover {\n",
              "      background-color: #E2EBFA;\n",
              "      box-shadow: 0px 1px 2px rgba(60, 64, 67, 0.3), 0px 1px 3px 1px rgba(60, 64, 67, 0.15);\n",
              "      fill: #174EA6;\n",
              "    }\n",
              "\n",
              "    [theme=dark] .colab-df-convert {\n",
              "      background-color: #3B4455;\n",
              "      fill: #D2E3FC;\n",
              "    }\n",
              "\n",
              "    [theme=dark] .colab-df-convert:hover {\n",
              "      background-color: #434B5C;\n",
              "      box-shadow: 0px 1px 3px 1px rgba(0, 0, 0, 0.15);\n",
              "      filter: drop-shadow(0px 1px 2px rgba(0, 0, 0, 0.3));\n",
              "      fill: #FFFFFF;\n",
              "    }\n",
              "  </style>\n",
              "\n",
              "      <script>\n",
              "        const buttonEl =\n",
              "          document.querySelector('#df-12815eed-1e64-47d5-9f38-9fc1fb45e01e button.colab-df-convert');\n",
              "        buttonEl.style.display =\n",
              "          google.colab.kernel.accessAllowed ? 'block' : 'none';\n",
              "\n",
              "        async function convertToInteractive(key) {\n",
              "          const element = document.querySelector('#df-12815eed-1e64-47d5-9f38-9fc1fb45e01e');\n",
              "          const dataTable =\n",
              "            await google.colab.kernel.invokeFunction('convertToInteractive',\n",
              "                                                     [key], {});\n",
              "          if (!dataTable) return;\n",
              "\n",
              "          const docLinkHtml = 'Like what you see? Visit the ' +\n",
              "            '<a target=\"_blank\" href=https://colab.research.google.com/notebooks/data_table.ipynb>data table notebook</a>'\n",
              "            + ' to learn more about interactive tables.';\n",
              "          element.innerHTML = '';\n",
              "          dataTable['output_type'] = 'display_data';\n",
              "          await google.colab.output.renderOutput(dataTable, element);\n",
              "          const docLink = document.createElement('div');\n",
              "          docLink.innerHTML = docLinkHtml;\n",
              "          element.appendChild(docLink);\n",
              "        }\n",
              "      </script>\n",
              "    </div>\n",
              "  </div>\n",
              "  "
            ]
          },
          "metadata": {},
          "execution_count": 45
        }
      ]
    },
    {
      "cell_type": "markdown",
      "source": [
        "On calculating the VIF scores for the numerical data, we can see that there are a few varaibles that have a VIF score greater than 5, indicating autocorrelation. We try and drop Total_stop and month_of_journey. We will re-calculate the VIF to see if the autocorrelation has reduced."
      ],
      "metadata": {
        "id": "og-uwQ7wvfPD"
      }
    },
    {
      "cell_type": "code",
      "source": [
        "X_train_num = X_train_num.drop('Total_Stops', 1,)\n"
      ],
      "metadata": {
        "colab": {
          "base_uri": "https://localhost:8080/"
        },
        "id": "RbWQOM5bXIVd",
        "outputId": "ebac8630-7331-44ed-f0a7-28edbb5c67db"
      },
      "execution_count": null,
      "outputs": [
        {
          "output_type": "stream",
          "name": "stderr",
          "text": [
            "<ipython-input-46-4fd026d1637c>:1: FutureWarning: In a future version of pandas all arguments of DataFrame.drop except for the argument 'labels' will be keyword-only\n",
            "  X_train_num = X_train_num.drop('Total_Stops', 1,)\n"
          ]
        }
      ]
    },
    {
      "cell_type": "code",
      "source": [
        "# Check multicollinearity using VIF\n",
        "vif = pd.DataFrame()\n",
        "vif['Features'] = X_train_num.columns\n",
        "vif['VIF'] = [variance_inflation_factor(X_train_num.values, i) for i in range(X_train_num.shape[1])]\n",
        "vif['VIF'] = round(vif['VIF'], 2)\n",
        "vif = vif.sort_values(by = 'VIF', ascending = False)\n",
        "vif"
      ],
      "metadata": {
        "colab": {
          "base_uri": "https://localhost:8080/",
          "height": 297
        },
        "id": "3ZUabHYP0_S8",
        "outputId": "0823b57e-2a6f-4497-c04f-8a4d92add04e"
      },
      "execution_count": null,
      "outputs": [
        {
          "output_type": "execute_result",
          "data": {
            "text/plain": [
              "              Features   VIF\n",
              "1     month_of_journey  9.79\n",
              "2        Dep_Time_hour  5.22\n",
              "4    Arrival_Time_hour  4.37\n",
              "6        Duration_hour  3.63\n",
              "7      Duration_minute  3.62\n",
              "0       day_of_journey  3.24\n",
              "5  Arrival_Time_minute  3.09\n",
              "3      Dep_Time_minute  2.60"
            ],
            "text/html": [
              "\n",
              "  <div id=\"df-08f5e7a6-1c64-46d5-93b7-3a899cafc648\">\n",
              "    <div class=\"colab-df-container\">\n",
              "      <div>\n",
              "<style scoped>\n",
              "    .dataframe tbody tr th:only-of-type {\n",
              "        vertical-align: middle;\n",
              "    }\n",
              "\n",
              "    .dataframe tbody tr th {\n",
              "        vertical-align: top;\n",
              "    }\n",
              "\n",
              "    .dataframe thead th {\n",
              "        text-align: right;\n",
              "    }\n",
              "</style>\n",
              "<table border=\"1\" class=\"dataframe\">\n",
              "  <thead>\n",
              "    <tr style=\"text-align: right;\">\n",
              "      <th></th>\n",
              "      <th>Features</th>\n",
              "      <th>VIF</th>\n",
              "    </tr>\n",
              "  </thead>\n",
              "  <tbody>\n",
              "    <tr>\n",
              "      <th>1</th>\n",
              "      <td>month_of_journey</td>\n",
              "      <td>9.79</td>\n",
              "    </tr>\n",
              "    <tr>\n",
              "      <th>2</th>\n",
              "      <td>Dep_Time_hour</td>\n",
              "      <td>5.22</td>\n",
              "    </tr>\n",
              "    <tr>\n",
              "      <th>4</th>\n",
              "      <td>Arrival_Time_hour</td>\n",
              "      <td>4.37</td>\n",
              "    </tr>\n",
              "    <tr>\n",
              "      <th>6</th>\n",
              "      <td>Duration_hour</td>\n",
              "      <td>3.63</td>\n",
              "    </tr>\n",
              "    <tr>\n",
              "      <th>7</th>\n",
              "      <td>Duration_minute</td>\n",
              "      <td>3.62</td>\n",
              "    </tr>\n",
              "    <tr>\n",
              "      <th>0</th>\n",
              "      <td>day_of_journey</td>\n",
              "      <td>3.24</td>\n",
              "    </tr>\n",
              "    <tr>\n",
              "      <th>5</th>\n",
              "      <td>Arrival_Time_minute</td>\n",
              "      <td>3.09</td>\n",
              "    </tr>\n",
              "    <tr>\n",
              "      <th>3</th>\n",
              "      <td>Dep_Time_minute</td>\n",
              "      <td>2.60</td>\n",
              "    </tr>\n",
              "  </tbody>\n",
              "</table>\n",
              "</div>\n",
              "      <button class=\"colab-df-convert\" onclick=\"convertToInteractive('df-08f5e7a6-1c64-46d5-93b7-3a899cafc648')\"\n",
              "              title=\"Convert this dataframe to an interactive table.\"\n",
              "              style=\"display:none;\">\n",
              "        \n",
              "  <svg xmlns=\"http://www.w3.org/2000/svg\" height=\"24px\"viewBox=\"0 0 24 24\"\n",
              "       width=\"24px\">\n",
              "    <path d=\"M0 0h24v24H0V0z\" fill=\"none\"/>\n",
              "    <path d=\"M18.56 5.44l.94 2.06.94-2.06 2.06-.94-2.06-.94-.94-2.06-.94 2.06-2.06.94zm-11 1L8.5 8.5l.94-2.06 2.06-.94-2.06-.94L8.5 2.5l-.94 2.06-2.06.94zm10 10l.94 2.06.94-2.06 2.06-.94-2.06-.94-.94-2.06-.94 2.06-2.06.94z\"/><path d=\"M17.41 7.96l-1.37-1.37c-.4-.4-.92-.59-1.43-.59-.52 0-1.04.2-1.43.59L10.3 9.45l-7.72 7.72c-.78.78-.78 2.05 0 2.83L4 21.41c.39.39.9.59 1.41.59.51 0 1.02-.2 1.41-.59l7.78-7.78 2.81-2.81c.8-.78.8-2.07 0-2.86zM5.41 20L4 18.59l7.72-7.72 1.47 1.35L5.41 20z\"/>\n",
              "  </svg>\n",
              "      </button>\n",
              "      \n",
              "  <style>\n",
              "    .colab-df-container {\n",
              "      display:flex;\n",
              "      flex-wrap:wrap;\n",
              "      gap: 12px;\n",
              "    }\n",
              "\n",
              "    .colab-df-convert {\n",
              "      background-color: #E8F0FE;\n",
              "      border: none;\n",
              "      border-radius: 50%;\n",
              "      cursor: pointer;\n",
              "      display: none;\n",
              "      fill: #1967D2;\n",
              "      height: 32px;\n",
              "      padding: 0 0 0 0;\n",
              "      width: 32px;\n",
              "    }\n",
              "\n",
              "    .colab-df-convert:hover {\n",
              "      background-color: #E2EBFA;\n",
              "      box-shadow: 0px 1px 2px rgba(60, 64, 67, 0.3), 0px 1px 3px 1px rgba(60, 64, 67, 0.15);\n",
              "      fill: #174EA6;\n",
              "    }\n",
              "\n",
              "    [theme=dark] .colab-df-convert {\n",
              "      background-color: #3B4455;\n",
              "      fill: #D2E3FC;\n",
              "    }\n",
              "\n",
              "    [theme=dark] .colab-df-convert:hover {\n",
              "      background-color: #434B5C;\n",
              "      box-shadow: 0px 1px 3px 1px rgba(0, 0, 0, 0.15);\n",
              "      filter: drop-shadow(0px 1px 2px rgba(0, 0, 0, 0.3));\n",
              "      fill: #FFFFFF;\n",
              "    }\n",
              "  </style>\n",
              "\n",
              "      <script>\n",
              "        const buttonEl =\n",
              "          document.querySelector('#df-08f5e7a6-1c64-46d5-93b7-3a899cafc648 button.colab-df-convert');\n",
              "        buttonEl.style.display =\n",
              "          google.colab.kernel.accessAllowed ? 'block' : 'none';\n",
              "\n",
              "        async function convertToInteractive(key) {\n",
              "          const element = document.querySelector('#df-08f5e7a6-1c64-46d5-93b7-3a899cafc648');\n",
              "          const dataTable =\n",
              "            await google.colab.kernel.invokeFunction('convertToInteractive',\n",
              "                                                     [key], {});\n",
              "          if (!dataTable) return;\n",
              "\n",
              "          const docLinkHtml = 'Like what you see? Visit the ' +\n",
              "            '<a target=\"_blank\" href=https://colab.research.google.com/notebooks/data_table.ipynb>data table notebook</a>'\n",
              "            + ' to learn more about interactive tables.';\n",
              "          element.innerHTML = '';\n",
              "          dataTable['output_type'] = 'display_data';\n",
              "          await google.colab.output.renderOutput(dataTable, element);\n",
              "          const docLink = document.createElement('div');\n",
              "          docLink.innerHTML = docLinkHtml;\n",
              "          element.appendChild(docLink);\n",
              "        }\n",
              "      </script>\n",
              "    </div>\n",
              "  </div>\n",
              "  "
            ]
          },
          "metadata": {},
          "execution_count": 47
        }
      ]
    },
    {
      "cell_type": "code",
      "source": [
        "X_train_num = X_train_num.drop('month_of_journey', 1,)"
      ],
      "metadata": {
        "colab": {
          "base_uri": "https://localhost:8080/"
        },
        "id": "KkTQExqY0960",
        "outputId": "91f740e7-e950-4484-ccbb-e6f79db0fc45"
      },
      "execution_count": null,
      "outputs": [
        {
          "output_type": "stream",
          "name": "stderr",
          "text": [
            "<ipython-input-48-ba7ac0d906c9>:1: FutureWarning: In a future version of pandas all arguments of DataFrame.drop except for the argument 'labels' will be keyword-only\n",
            "  X_train_num = X_train_num.drop('month_of_journey', 1,)\n"
          ]
        }
      ]
    },
    {
      "cell_type": "code",
      "source": [
        "# Check multicollinearity using VIF\n",
        "vif = pd.DataFrame()\n",
        "vif['Features'] = X_train_num.columns\n",
        "vif['VIF'] = [variance_inflation_factor(X_train_num.values, i) for i in range(X_train_num.shape[1])]\n",
        "vif['VIF'] = round(vif['VIF'], 2)\n",
        "vif = vif.sort_values(by = 'VIF', ascending = False)\n",
        "vif"
      ],
      "metadata": {
        "colab": {
          "base_uri": "https://localhost:8080/",
          "height": 266
        },
        "id": "ZSPlWSwXXYW7",
        "outputId": "efdde6d4-c3d1-4812-f960-1a77f47e4859"
      },
      "execution_count": null,
      "outputs": [
        {
          "output_type": "execute_result",
          "data": {
            "text/plain": [
              "              Features   VIF\n",
              "1        Dep_Time_hour  4.62\n",
              "3    Arrival_Time_hour  3.97\n",
              "6      Duration_minute  3.38\n",
              "5        Duration_hour  3.24\n",
              "0       day_of_journey  3.11\n",
              "4  Arrival_Time_minute  3.01\n",
              "2      Dep_Time_minute  2.57"
            ],
            "text/html": [
              "\n",
              "  <div id=\"df-942600c8-c8dc-4cfe-95ca-c791afc26546\">\n",
              "    <div class=\"colab-df-container\">\n",
              "      <div>\n",
              "<style scoped>\n",
              "    .dataframe tbody tr th:only-of-type {\n",
              "        vertical-align: middle;\n",
              "    }\n",
              "\n",
              "    .dataframe tbody tr th {\n",
              "        vertical-align: top;\n",
              "    }\n",
              "\n",
              "    .dataframe thead th {\n",
              "        text-align: right;\n",
              "    }\n",
              "</style>\n",
              "<table border=\"1\" class=\"dataframe\">\n",
              "  <thead>\n",
              "    <tr style=\"text-align: right;\">\n",
              "      <th></th>\n",
              "      <th>Features</th>\n",
              "      <th>VIF</th>\n",
              "    </tr>\n",
              "  </thead>\n",
              "  <tbody>\n",
              "    <tr>\n",
              "      <th>1</th>\n",
              "      <td>Dep_Time_hour</td>\n",
              "      <td>4.62</td>\n",
              "    </tr>\n",
              "    <tr>\n",
              "      <th>3</th>\n",
              "      <td>Arrival_Time_hour</td>\n",
              "      <td>3.97</td>\n",
              "    </tr>\n",
              "    <tr>\n",
              "      <th>6</th>\n",
              "      <td>Duration_minute</td>\n",
              "      <td>3.38</td>\n",
              "    </tr>\n",
              "    <tr>\n",
              "      <th>5</th>\n",
              "      <td>Duration_hour</td>\n",
              "      <td>3.24</td>\n",
              "    </tr>\n",
              "    <tr>\n",
              "      <th>0</th>\n",
              "      <td>day_of_journey</td>\n",
              "      <td>3.11</td>\n",
              "    </tr>\n",
              "    <tr>\n",
              "      <th>4</th>\n",
              "      <td>Arrival_Time_minute</td>\n",
              "      <td>3.01</td>\n",
              "    </tr>\n",
              "    <tr>\n",
              "      <th>2</th>\n",
              "      <td>Dep_Time_minute</td>\n",
              "      <td>2.57</td>\n",
              "    </tr>\n",
              "  </tbody>\n",
              "</table>\n",
              "</div>\n",
              "      <button class=\"colab-df-convert\" onclick=\"convertToInteractive('df-942600c8-c8dc-4cfe-95ca-c791afc26546')\"\n",
              "              title=\"Convert this dataframe to an interactive table.\"\n",
              "              style=\"display:none;\">\n",
              "        \n",
              "  <svg xmlns=\"http://www.w3.org/2000/svg\" height=\"24px\"viewBox=\"0 0 24 24\"\n",
              "       width=\"24px\">\n",
              "    <path d=\"M0 0h24v24H0V0z\" fill=\"none\"/>\n",
              "    <path d=\"M18.56 5.44l.94 2.06.94-2.06 2.06-.94-2.06-.94-.94-2.06-.94 2.06-2.06.94zm-11 1L8.5 8.5l.94-2.06 2.06-.94-2.06-.94L8.5 2.5l-.94 2.06-2.06.94zm10 10l.94 2.06.94-2.06 2.06-.94-2.06-.94-.94-2.06-.94 2.06-2.06.94z\"/><path d=\"M17.41 7.96l-1.37-1.37c-.4-.4-.92-.59-1.43-.59-.52 0-1.04.2-1.43.59L10.3 9.45l-7.72 7.72c-.78.78-.78 2.05 0 2.83L4 21.41c.39.39.9.59 1.41.59.51 0 1.02-.2 1.41-.59l7.78-7.78 2.81-2.81c.8-.78.8-2.07 0-2.86zM5.41 20L4 18.59l7.72-7.72 1.47 1.35L5.41 20z\"/>\n",
              "  </svg>\n",
              "      </button>\n",
              "      \n",
              "  <style>\n",
              "    .colab-df-container {\n",
              "      display:flex;\n",
              "      flex-wrap:wrap;\n",
              "      gap: 12px;\n",
              "    }\n",
              "\n",
              "    .colab-df-convert {\n",
              "      background-color: #E8F0FE;\n",
              "      border: none;\n",
              "      border-radius: 50%;\n",
              "      cursor: pointer;\n",
              "      display: none;\n",
              "      fill: #1967D2;\n",
              "      height: 32px;\n",
              "      padding: 0 0 0 0;\n",
              "      width: 32px;\n",
              "    }\n",
              "\n",
              "    .colab-df-convert:hover {\n",
              "      background-color: #E2EBFA;\n",
              "      box-shadow: 0px 1px 2px rgba(60, 64, 67, 0.3), 0px 1px 3px 1px rgba(60, 64, 67, 0.15);\n",
              "      fill: #174EA6;\n",
              "    }\n",
              "\n",
              "    [theme=dark] .colab-df-convert {\n",
              "      background-color: #3B4455;\n",
              "      fill: #D2E3FC;\n",
              "    }\n",
              "\n",
              "    [theme=dark] .colab-df-convert:hover {\n",
              "      background-color: #434B5C;\n",
              "      box-shadow: 0px 1px 3px 1px rgba(0, 0, 0, 0.15);\n",
              "      filter: drop-shadow(0px 1px 2px rgba(0, 0, 0, 0.3));\n",
              "      fill: #FFFFFF;\n",
              "    }\n",
              "  </style>\n",
              "\n",
              "      <script>\n",
              "        const buttonEl =\n",
              "          document.querySelector('#df-942600c8-c8dc-4cfe-95ca-c791afc26546 button.colab-df-convert');\n",
              "        buttonEl.style.display =\n",
              "          google.colab.kernel.accessAllowed ? 'block' : 'none';\n",
              "\n",
              "        async function convertToInteractive(key) {\n",
              "          const element = document.querySelector('#df-942600c8-c8dc-4cfe-95ca-c791afc26546');\n",
              "          const dataTable =\n",
              "            await google.colab.kernel.invokeFunction('convertToInteractive',\n",
              "                                                     [key], {});\n",
              "          if (!dataTable) return;\n",
              "\n",
              "          const docLinkHtml = 'Like what you see? Visit the ' +\n",
              "            '<a target=\"_blank\" href=https://colab.research.google.com/notebooks/data_table.ipynb>data table notebook</a>'\n",
              "            + ' to learn more about interactive tables.';\n",
              "          element.innerHTML = '';\n",
              "          dataTable['output_type'] = 'display_data';\n",
              "          await google.colab.output.renderOutput(dataTable, element);\n",
              "          const docLink = document.createElement('div');\n",
              "          docLink.innerHTML = docLinkHtml;\n",
              "          element.appendChild(docLink);\n",
              "        }\n",
              "      </script>\n",
              "    </div>\n",
              "  </div>\n",
              "  "
            ]
          },
          "metadata": {},
          "execution_count": 49
        }
      ]
    },
    {
      "cell_type": "markdown",
      "source": [
        "We are able to see that all the VIF values are less than 5, and hence we can say that the autocorrelation has reduced."
      ],
      "metadata": {
        "id": "2HmBwOmjv5_C"
      }
    },
    {
      "cell_type": "code",
      "source": [
        "X_train = X_train.drop('Total_Stops', 1,)\n",
        "X_train = X_train.drop('month_of_journey', 1,)"
      ],
      "metadata": {
        "colab": {
          "base_uri": "https://localhost:8080/"
        },
        "id": "eaR8y4fPXeEb",
        "outputId": "4c8f85ac-9b2b-4be0-9142-b2681e51bb13"
      },
      "execution_count": null,
      "outputs": [
        {
          "output_type": "stream",
          "name": "stderr",
          "text": [
            "<ipython-input-50-5c377fd397fd>:1: FutureWarning: In a future version of pandas all arguments of DataFrame.drop except for the argument 'labels' will be keyword-only\n",
            "  X_train = X_train.drop('Total_Stops', 1,)\n",
            "<ipython-input-50-5c377fd397fd>:2: FutureWarning: In a future version of pandas all arguments of DataFrame.drop except for the argument 'labels' will be keyword-only\n",
            "  X_train = X_train.drop('month_of_journey', 1,)\n"
          ]
        }
      ]
    },
    {
      "cell_type": "code",
      "source": [
        "modelo = ExtraTreesRegressor(random_state=49)\n",
        "modelo.fit(X_train, Y_train)\n",
        "\n",
        "# Print of Results\n",
        "print(modelo.feature_importances_)"
      ],
      "metadata": {
        "colab": {
          "base_uri": "https://localhost:8080/"
        },
        "id": "-MlKmnbKXgyV",
        "outputId": "46aaca85-a809-4efe-cbc8-8c12c6782a63"
      },
      "execution_count": null,
      "outputs": [
        {
          "output_type": "stream",
          "name": "stdout",
          "text": [
            "[7.76729649e-02 2.98282744e-02 2.75505448e-02 2.53703087e-02\n",
            " 3.01139728e-02 4.41178787e-01 2.86266573e-02 7.54513959e-03\n",
            " 1.36120668e-02 7.14285839e-03 3.65253977e-02 1.50039008e-01\n",
            " 1.86822916e-03 5.63506732e-03 2.36092941e-04 1.49913988e-02\n",
            " 6.34124096e-03 1.84901514e-04 4.59368200e-03 1.32766823e-03\n",
            " 3.53696387e-02 4.61848396e-03 1.02544651e-02 4.47631659e-03\n",
            " 2.01018535e-02 5.52104864e-03 8.08368653e-03 1.19024573e-03]\n"
          ]
        }
      ]
    },
    {
      "cell_type": "code",
      "source": [
        "feat_importances = pd.Series(modelo.feature_importances_, index=X_train.columns)\n",
        "\n",
        "# Most important features\n",
        "feat_importances.sort_values(ascending=False)"
      ],
      "metadata": {
        "colab": {
          "base_uri": "https://localhost:8080/"
        },
        "id": "7AOd3scXXk5s",
        "outputId": "b64a8de3-43a8-4772-9bee-5f11042210ef"
      },
      "execution_count": null,
      "outputs": [
        {
          "output_type": "execute_result",
          "data": {
            "text/plain": [
              "Duration_hour                                 0.441179\n",
              "Airline__Jet Airways                          0.150039\n",
              "day_of_journey                                0.077673\n",
              "Airline__IndiGo                               0.036525\n",
              "Source__Delhi                                 0.035370\n",
              "Arrival_Time_minute                           0.030114\n",
              "Dep_Time_hour                                 0.029828\n",
              "Duration_minute                               0.028627\n",
              "Dep_Time_minute                               0.027551\n",
              "Arrival_Time_hour                             0.025370\n",
              "Destination__Cochin                           0.020102\n",
              "Airline__SpiceJet                             0.014991\n",
              "Airline__Air India                            0.013612\n",
              "Source__Mumbai                                0.010254\n",
              "Destination__Hyderabad                        0.008084\n",
              "Airline__Air Asia                             0.007545\n",
              "Airline__GoAir                                0.007143\n",
              "Airline__Vistara                              0.006341\n",
              "Airline__Multiple carriers                    0.005635\n",
              "Destination__Delhi                            0.005521\n",
              "Source__Kolkata                               0.004618\n",
              "Source__Banglore                              0.004594\n",
              "Destination__Banglore                         0.004476\n",
              "Airline__Jet Airways Business                 0.001868\n",
              "Source__Chennai                               0.001328\n",
              "Destination__Kolkata                          0.001190\n",
              "Airline__Multiple carriers Premium economy    0.000236\n",
              "Airline__Vistara Premium economy              0.000185\n",
              "dtype: float64"
            ]
          },
          "metadata": {},
          "execution_count": 52
        }
      ]
    },
    {
      "cell_type": "markdown",
      "source": [
        "On checking the variable importance, we take the variables that have importance of atleast 0.5%. There are 20 such variables we will be using for predicting the Price."
      ],
      "metadata": {
        "id": "oHxvYb7PxeWe"
      }
    },
    {
      "cell_type": "code",
      "source": [
        "# Graph of the most important variables - ExtraTreesRegressor\n",
        "feat_importances = pd.Series(modelo.feature_importances_, index=X_train.columns)\n",
        "feat_importances.nlargest(19).plot.bar()\n",
        "plt.title('IMPORTANCE OF FEATURES - EXTRA TREE REGRESSOR', fontsize = 10, color ='dimgrey', fontweight = 'bold')\n",
        "plt.show()"
      ],
      "metadata": {
        "colab": {
          "base_uri": "https://localhost:8080/",
          "height": 393
        },
        "id": "XUKIyLJbXq0c",
        "outputId": "7ab91925-b60e-4735-c749-138d64de791a"
      },
      "execution_count": null,
      "outputs": [
        {
          "output_type": "display_data",
          "data": {
            "text/plain": [
              "<Figure size 432x288 with 1 Axes>"
            ],
            "image/png": "[encoded data removed]"
          },
          "metadata": {
            "needs_background": "light"
          }
        }
      ]
    },
    {
      "cell_type": "code",
      "source": [
        "X_train = pd.DataFrame(X_train, \n",
        "             columns=['Duration_hour', \n",
        "                      'Airline__Jet Airways', 'Airline__IndiGo', \n",
        "                      'Airline__SpiceJet', 'Airline__Air India',\n",
        "                      'Airline__Multiple carriers', 'Airline__Air Asia', 'Airline__Vistara', 'Airline__GoAir',\n",
        "                      'Source__Delhi', 'Source__Mumbai', 'Destination__Cochin', \n",
        "                      'Destination__Hyderabad','Destination__Delhi',\n",
        "                      'Dep_Time_hour', 'Dep_Time_minute', 'Duration_minute', 'day_of_journey',\n",
        "                      'Arrival_Time_minute', 'Arrival_Time_hour'])\n"
      ],
      "metadata": {
        "id": "GSPL3ibFXspb"
      },
      "execution_count": null,
      "outputs": []
    },
    {
      "cell_type": "code",
      "source": [
        "X_train.head()"
      ],
      "metadata": {
        "colab": {
          "base_uri": "https://localhost:8080/",
          "height": 285
        },
        "id": "u8LjFLS2abpH",
        "outputId": "652784f8-72f9-434f-cb96-064b6171817b"
      },
      "execution_count": null,
      "outputs": [
        {
          "output_type": "execute_result",
          "data": {
            "text/plain": [
              "      Duration_hour  Airline__Jet Airways  Airline__IndiGo  Airline__SpiceJet  \\\n",
              "5186       3.264776                     0                0                  0   \n",
              "8190       2.857039                     1                0                  0   \n",
              "1454       2.332912                     1                0                  0   \n",
              "3360       1.575857                     0                1                  0   \n",
              "3494       1.215536                     1                0                  0   \n",
              "\n",
              "      Airline__Air India  Airline__Multiple carriers  Airline__Air Asia  \\\n",
              "5186                   0                           1                  0   \n",
              "8190                   0                           0                  0   \n",
              "1454                   0                           0                  0   \n",
              "3360                   0                           0                  0   \n",
              "3494                   0                           0                  0   \n",
              "\n",
              "      Airline__Vistara  Airline__GoAir  Source__Delhi  Source__Mumbai  \\\n",
              "5186                 0               0              1               0   \n",
              "8190                 0               0              1               0   \n",
              "1454                 0               0              0               0   \n",
              "3360                 0               0              1               0   \n",
              "3494                 0               0              0               0   \n",
              "\n",
              "      Destination__Cochin  Destination__Hyderabad  Destination__Delhi  \\\n",
              "5186                    1                       0                   0   \n",
              "8190                    1                       0                   0   \n",
              "1454                    0                       0                   1   \n",
              "3360                    1                       0                   0   \n",
              "3494                    0                       0                   1   \n",
              "\n",
              "      Dep_Time_hour  Dep_Time_minute  Duration_minute  day_of_journey  \\\n",
              "5186           8.01             0.01              0.1               3   \n",
              "8190           9.01             0.01              0.1               6   \n",
              "1454           5.01            45.01             30.0              15   \n",
              "3360           7.01            35.01             35.0               9   \n",
              "3494           8.01            20.01              0.1               6   \n",
              "\n",
              "      Arrival_Time_minute  Arrival_Time_hour  \n",
              "5186                 0.01              21.01  \n",
              "8190                 0.01              19.01  \n",
              "1454                15.01              13.01  \n",
              "3360                10.01              12.01  \n",
              "3494                20.01              11.01  "
            ],
            "text/html": [
              "\n",
              "  <div id=\"df-d7aebf1a-e664-46d7-a0d6-aa91aed4bb40\">\n",
              "    <div class=\"colab-df-container\">\n",
              "      <div>\n",
              "<style scoped>\n",
              "    .dataframe tbody tr th:only-of-type {\n",
              "        vertical-align: middle;\n",
              "    }\n",
              "\n",
              "    .dataframe tbody tr th {\n",
              "        vertical-align: top;\n",
              "    }\n",
              "\n",
              "    .dataframe thead th {\n",
              "        text-align: right;\n",
              "    }\n",
              "</style>\n",
              "<table border=\"1\" class=\"dataframe\">\n",
              "  <thead>\n",
              "    <tr style=\"text-align: right;\">\n",
              "      <th></th>\n",
              "      <th>Duration_hour</th>\n",
              "      <th>Airline__Jet Airways</th>\n",
              "      <th>Airline__IndiGo</th>\n",
              "      <th>Airline__SpiceJet</th>\n",
              "      <th>Airline__Air India</th>\n",
              "      <th>Airline__Multiple carriers</th>\n",
              "      <th>Airline__Air Asia</th>\n",
              "      <th>Airline__Vistara</th>\n",
              "      <th>Airline__GoAir</th>\n",
              "      <th>Source__Delhi</th>\n",
              "      <th>Source__Mumbai</th>\n",
              "      <th>Destination__Cochin</th>\n",
              "      <th>Destination__Hyderabad</th>\n",
              "      <th>Destination__Delhi</th>\n",
              "      <th>Dep_Time_hour</th>\n",
              "      <th>Dep_Time_minute</th>\n",
              "      <th>Duration_minute</th>\n",
              "      <th>day_of_journey</th>\n",
              "      <th>Arrival_Time_minute</th>\n",
              "      <th>Arrival_Time_hour</th>\n",
              "    </tr>\n",
              "  </thead>\n",
              "  <tbody>\n",
              "    <tr>\n",
              "      <th>5186</th>\n",
              "      <td>3.264776</td>\n",
              "      <td>0</td>\n",
              "      <td>0</td>\n",
              "      <td>0</td>\n",
              "      <td>0</td>\n",
              "      <td>1</td>\n",
              "      <td>0</td>\n",
              "      <td>0</td>\n",
              "      <td>0</td>\n",
              "      <td>1</td>\n",
              "      <td>0</td>\n",
              "      <td>1</td>\n",
              "      <td>0</td>\n",
              "      <td>0</td>\n",
              "      <td>8.01</td>\n",
              "      <td>0.01</td>\n",
              "      <td>0.1</td>\n",
              "      <td>3</td>\n",
              "      <td>0.01</td>\n",
              "      <td>21.01</td>\n",
              "    </tr>\n",
              "    <tr>\n",
              "      <th>8190</th>\n",
              "      <td>2.857039</td>\n",
              "      <td>1</td>\n",
              "      <td>0</td>\n",
              "      <td>0</td>\n",
              "      <td>0</td>\n",
              "      <td>0</td>\n",
              "      <td>0</td>\n",
              "      <td>0</td>\n",
              "      <td>0</td>\n",
              "      <td>1</td>\n",
              "      <td>0</td>\n",
              "      <td>1</td>\n",
              "      <td>0</td>\n",
              "      <td>0</td>\n",
              "      <td>9.01</td>\n",
              "      <td>0.01</td>\n",
              "      <td>0.1</td>\n",
              "      <td>6</td>\n",
              "      <td>0.01</td>\n",
              "      <td>19.01</td>\n",
              "    </tr>\n",
              "    <tr>\n",
              "      <th>1454</th>\n",
              "      <td>2.332912</td>\n",
              "      <td>1</td>\n",
              "      <td>0</td>\n",
              "      <td>0</td>\n",
              "      <td>0</td>\n",
              "      <td>0</td>\n",
              "      <td>0</td>\n",
              "      <td>0</td>\n",
              "      <td>0</td>\n",
              "      <td>0</td>\n",
              "      <td>0</td>\n",
              "      <td>0</td>\n",
              "      <td>0</td>\n",
              "      <td>1</td>\n",
              "      <td>5.01</td>\n",
              "      <td>45.01</td>\n",
              "      <td>30.0</td>\n",
              "      <td>15</td>\n",
              "      <td>15.01</td>\n",
              "      <td>13.01</td>\n",
              "    </tr>\n",
              "    <tr>\n",
              "      <th>3360</th>\n",
              "      <td>1.575857</td>\n",
              "      <td>0</td>\n",
              "      <td>1</td>\n",
              "      <td>0</td>\n",
              "      <td>0</td>\n",
              "      <td>0</td>\n",
              "      <td>0</td>\n",
              "      <td>0</td>\n",
              "      <td>0</td>\n",
              "      <td>1</td>\n",
              "      <td>0</td>\n",
              "      <td>1</td>\n",
              "      <td>0</td>\n",
              "      <td>0</td>\n",
              "      <td>7.01</td>\n",
              "      <td>35.01</td>\n",
              "      <td>35.0</td>\n",
              "      <td>9</td>\n",
              "      <td>10.01</td>\n",
              "      <td>12.01</td>\n",
              "    </tr>\n",
              "    <tr>\n",
              "      <th>3494</th>\n",
              "      <td>1.215536</td>\n",
              "      <td>1</td>\n",
              "      <td>0</td>\n",
              "      <td>0</td>\n",
              "      <td>0</td>\n",
              "      <td>0</td>\n",
              "      <td>0</td>\n",
              "      <td>0</td>\n",
              "      <td>0</td>\n",
              "      <td>0</td>\n",
              "      <td>0</td>\n",
              "      <td>0</td>\n",
              "      <td>0</td>\n",
              "      <td>1</td>\n",
              "      <td>8.01</td>\n",
              "      <td>20.01</td>\n",
              "      <td>0.1</td>\n",
              "      <td>6</td>\n",
              "      <td>20.01</td>\n",
              "      <td>11.01</td>\n",
              "    </tr>\n",
              "  </tbody>\n",
              "</table>\n",
              "</div>\n",
              "      <button class=\"colab-df-convert\" onclick=\"convertToInteractive('df-d7aebf1a-e664-46d7-a0d6-aa91aed4bb40')\"\n",
              "              title=\"Convert this dataframe to an interactive table.\"\n",
              "              style=\"display:none;\">\n",
              "        \n",
              "  <svg xmlns=\"http://www.w3.org/2000/svg\" height=\"24px\"viewBox=\"0 0 24 24\"\n",
              "       width=\"24px\">\n",
              "    <path d=\"M0 0h24v24H0V0z\" fill=\"none\"/>\n",
              "    <path d=\"M18.56 5.44l.94 2.06.94-2.06 2.06-.94-2.06-.94-.94-2.06-.94 2.06-2.06.94zm-11 1L8.5 8.5l.94-2.06 2.06-.94-2.06-.94L8.5 2.5l-.94 2.06-2.06.94zm10 10l.94 2.06.94-2.06 2.06-.94-2.06-.94-.94-2.06-.94 2.06-2.06.94z\"/><path d=\"M17.41 7.96l-1.37-1.37c-.4-.4-.92-.59-1.43-.59-.52 0-1.04.2-1.43.59L10.3 9.45l-7.72 7.72c-.78.78-.78 2.05 0 2.83L4 21.41c.39.39.9.59 1.41.59.51 0 1.02-.2 1.41-.59l7.78-7.78 2.81-2.81c.8-.78.8-2.07 0-2.86zM5.41 20L4 18.59l7.72-7.72 1.47 1.35L5.41 20z\"/>\n",
              "  </svg>\n",
              "      </button>\n",
              "      \n",
              "  <style>\n",
              "    .colab-df-container {\n",
              "      display:flex;\n",
              "      flex-wrap:wrap;\n",
              "      gap: 12px;\n",
              "    }\n",
              "\n",
              "    .colab-df-convert {\n",
              "      background-color: #E8F0FE;\n",
              "      border: none;\n",
              "      border-radius: 50%;\n",
              "      cursor: pointer;\n",
              "      display: none;\n",
              "      fill: #1967D2;\n",
              "      height: 32px;\n",
              "      padding: 0 0 0 0;\n",
              "      width: 32px;\n",
              "    }\n",
              "\n",
              "    .colab-df-convert:hover {\n",
              "      background-color: #E2EBFA;\n",
              "      box-shadow: 0px 1px 2px rgba(60, 64, 67, 0.3), 0px 1px 3px 1px rgba(60, 64, 67, 0.15);\n",
              "      fill: #174EA6;\n",
              "    }\n",
              "\n",
              "    [theme=dark] .colab-df-convert {\n",
              "      background-color: #3B4455;\n",
              "      fill: #D2E3FC;\n",
              "    }\n",
              "\n",
              "    [theme=dark] .colab-df-convert:hover {\n",
              "      background-color: #434B5C;\n",
              "      box-shadow: 0px 1px 3px 1px rgba(0, 0, 0, 0.15);\n",
              "      filter: drop-shadow(0px 1px 2px rgba(0, 0, 0, 0.3));\n",
              "      fill: #FFFFFF;\n",
              "    }\n",
              "  </style>\n",
              "\n",
              "      <script>\n",
              "        const buttonEl =\n",
              "          document.querySelector('#df-d7aebf1a-e664-46d7-a0d6-aa91aed4bb40 button.colab-df-convert');\n",
              "        buttonEl.style.display =\n",
              "          google.colab.kernel.accessAllowed ? 'block' : 'none';\n",
              "\n",
              "        async function convertToInteractive(key) {\n",
              "          const element = document.querySelector('#df-d7aebf1a-e664-46d7-a0d6-aa91aed4bb40');\n",
              "          const dataTable =\n",
              "            await google.colab.kernel.invokeFunction('convertToInteractive',\n",
              "                                                     [key], {});\n",
              "          if (!dataTable) return;\n",
              "\n",
              "          const docLinkHtml = 'Like what you see? Visit the ' +\n",
              "            '<a target=\"_blank\" href=https://colab.research.google.com/notebooks/data_table.ipynb>data table notebook</a>'\n",
              "            + ' to learn more about interactive tables.';\n",
              "          element.innerHTML = '';\n",
              "          dataTable['output_type'] = 'display_data';\n",
              "          await google.colab.output.renderOutput(dataTable, element);\n",
              "          const docLink = document.createElement('div');\n",
              "          docLink.innerHTML = docLinkHtml;\n",
              "          element.appendChild(docLink);\n",
              "        }\n",
              "      </script>\n",
              "    </div>\n",
              "  </div>\n",
              "  "
            ]
          },
          "metadata": {},
          "execution_count": 55
        }
      ]
    },
    {
      "cell_type": "markdown",
      "source": [
        "Initially we will evaluate several regression models without any hyperparameter through Cross Validation. The metric chosen for evaluation will be the R-square (R2), a statistical measure that represents the proportion of the variance of a dependent variable that is explained by an independent variable or variables in regression problems. Thus, the larger the R², the more explanatory the linear model is, that is, the better it fits the sample."
      ],
      "metadata": {
        "id": "LfUBHrLDqILG"
      }
    },
    {
      "cell_type": "code",
      "source": [
        "%%time\n",
        "\n",
        "# Predictive Model Selection\n",
        "\n",
        "# Defining values for the number of folds\n",
        "num_folds = 10\n",
        "seed = 49\n",
        "\n",
        "# list of models\n",
        "\n",
        "\n",
        "models = []\n",
        "models.append(('LinearRegression', LinearRegression()))\n",
        "models.append(('KNeighborsRegressor', KNeighborsRegressor()))\n",
        "models.append(('GradientBoostingRegressor', GradientBoostingRegressor()))\n",
        "models.append(('RandomForestRegressor', RandomForestRegressor()))\n",
        "models.append(('SVR', SVR()))\n",
        "models.append(('DecisionTreeRegressor', DecisionTreeRegressor()))\n",
        "models.append(('AdaBoostRegressor', AdaBoostRegressor()))\n",
        "models.append(('LGBMRegressor', ltb.LGBMRegressor()))\n",
        "models.append(('BaggingRegressor', BaggingRegressor()))\n",
        "\n",
        "# Evaluating each model in a loop \n",
        "\n",
        "names = []\n",
        "results = []\n",
        "results_mean = []\n",
        "results_std = []\n",
        "\n",
        "for name, model in models:\n",
        "    kfold = KFold(n_splits = num_folds, random_state = seed, shuffle=True)\n",
        "    cv_results = cross_val_score(model, X_train, Y_train, cv = kfold, scoring='r2')\n",
        "    results.append(cv_results)\n",
        "    results_mean.append(cv_results.mean()*100)\n",
        "    results_std.append(cv_results.std()*100)\n",
        "    names.append(name)\n",
        "\n",
        "model_result = pd.DataFrame({\n",
        "    \"Model\": names,\n",
        "    \"Mean\": results_mean,\n",
        "    \"STD\": results_std})\n",
        "\n",
        "model_result.sort_values('Mean', ascending=False)"
      ],
      "metadata": {
        "colab": {
          "base_uri": "https://localhost:8080/",
          "height": 362
        },
        "id": "n68In395a1aO",
        "outputId": "b4e988c9-6727-4bb6-9a91-b85d4b636ee1"
      },
      "execution_count": null,
      "outputs": [
        {
          "output_type": "stream",
          "name": "stdout",
          "text": [
            "CPU times: user 1min 15s, sys: 2.97 s, total: 1min 18s\n",
            "Wall time: 1min 24s\n"
          ]
        },
        {
          "output_type": "execute_result",
          "data": {
            "text/plain": [
              "                       Model       Mean       STD\n",
              "7              LGBMRegressor  79.659264  1.295719\n",
              "3      RandomForestRegressor  76.753138  1.922077\n",
              "8           BaggingRegressor  75.486745  1.705201\n",
              "2  GradientBoostingRegressor  73.569678  1.313722\n",
              "5      DecisionTreeRegressor  67.773761  2.584497\n",
              "0           LinearRegression  64.001475  1.372407\n",
              "6          AdaBoostRegressor  62.277023  2.285350\n",
              "1        KNeighborsRegressor  58.834693  3.121295\n",
              "4                        SVR  40.056938  0.982849"
            ],
            "text/html": [
              "\n",
              "  <div id=\"df-35d549cf-8310-4bb6-a8a9-f4173413b873\">\n",
              "    <div class=\"colab-df-container\">\n",
              "      <div>\n",
              "<style scoped>\n",
              "    .dataframe tbody tr th:only-of-type {\n",
              "        vertical-align: middle;\n",
              "    }\n",
              "\n",
              "    .dataframe tbody tr th {\n",
              "        vertical-align: top;\n",
              "    }\n",
              "\n",
              "    .dataframe thead th {\n",
              "        text-align: right;\n",
              "    }\n",
              "</style>\n",
              "<table border=\"1\" class=\"dataframe\">\n",
              "  <thead>\n",
              "    <tr style=\"text-align: right;\">\n",
              "      <th></th>\n",
              "      <th>Model</th>\n",
              "      <th>Mean</th>\n",
              "      <th>STD</th>\n",
              "    </tr>\n",
              "  </thead>\n",
              "  <tbody>\n",
              "    <tr>\n",
              "      <th>7</th>\n",
              "      <td>LGBMRegressor</td>\n",
              "      <td>79.659264</td>\n",
              "      <td>1.295719</td>\n",
              "    </tr>\n",
              "    <tr>\n",
              "      <th>3</th>\n",
              "      <td>RandomForestRegressor</td>\n",
              "      <td>76.753138</td>\n",
              "      <td>1.922077</td>\n",
              "    </tr>\n",
              "    <tr>\n",
              "      <th>8</th>\n",
              "      <td>BaggingRegressor</td>\n",
              "      <td>75.486745</td>\n",
              "      <td>1.705201</td>\n",
              "    </tr>\n",
              "    <tr>\n",
              "      <th>2</th>\n",
              "      <td>GradientBoostingRegressor</td>\n",
              "      <td>73.569678</td>\n",
              "      <td>1.313722</td>\n",
              "    </tr>\n",
              "    <tr>\n",
              "      <th>5</th>\n",
              "      <td>DecisionTreeRegressor</td>\n",
              "      <td>67.773761</td>\n",
              "      <td>2.584497</td>\n",
              "    </tr>\n",
              "    <tr>\n",
              "      <th>0</th>\n",
              "      <td>LinearRegression</td>\n",
              "      <td>64.001475</td>\n",
              "      <td>1.372407</td>\n",
              "    </tr>\n",
              "    <tr>\n",
              "      <th>6</th>\n",
              "      <td>AdaBoostRegressor</td>\n",
              "      <td>62.277023</td>\n",
              "      <td>2.285350</td>\n",
              "    </tr>\n",
              "    <tr>\n",
              "      <th>1</th>\n",
              "      <td>KNeighborsRegressor</td>\n",
              "      <td>58.834693</td>\n",
              "      <td>3.121295</td>\n",
              "    </tr>\n",
              "    <tr>\n",
              "      <th>4</th>\n",
              "      <td>SVR</td>\n",
              "      <td>40.056938</td>\n",
              "      <td>0.982849</td>\n",
              "    </tr>\n",
              "  </tbody>\n",
              "</table>\n",
              "</div>\n",
              "      <button class=\"colab-df-convert\" onclick=\"convertToInteractive('df-35d549cf-8310-4bb6-a8a9-f4173413b873')\"\n",
              "              title=\"Convert this dataframe to an interactive table.\"\n",
              "              style=\"display:none;\">\n",
              "        \n",
              "  <svg xmlns=\"http://www.w3.org/2000/svg\" height=\"24px\"viewBox=\"0 0 24 24\"\n",
              "       width=\"24px\">\n",
              "    <path d=\"M0 0h24v24H0V0z\" fill=\"none\"/>\n",
              "    <path d=\"M18.56 5.44l.94 2.06.94-2.06 2.06-.94-2.06-.94-.94-2.06-.94 2.06-2.06.94zm-11 1L8.5 8.5l.94-2.06 2.06-.94-2.06-.94L8.5 2.5l-.94 2.06-2.06.94zm10 10l.94 2.06.94-2.06 2.06-.94-2.06-.94-.94-2.06-.94 2.06-2.06.94z\"/><path d=\"M17.41 7.96l-1.37-1.37c-.4-.4-.92-.59-1.43-.59-.52 0-1.04.2-1.43.59L10.3 9.45l-7.72 7.72c-.78.78-.78 2.05 0 2.83L4 21.41c.39.39.9.59 1.41.59.51 0 1.02-.2 1.41-.59l7.78-7.78 2.81-2.81c.8-.78.8-2.07 0-2.86zM5.41 20L4 18.59l7.72-7.72 1.47 1.35L5.41 20z\"/>\n",
              "  </svg>\n",
              "      </button>\n",
              "      \n",
              "  <style>\n",
              "    .colab-df-container {\n",
              "      display:flex;\n",
              "      flex-wrap:wrap;\n",
              "      gap: 12px;\n",
              "    }\n",
              "\n",
              "    .colab-df-convert {\n",
              "      background-color: #E8F0FE;\n",
              "      border: none;\n",
              "      border-radius: 50%;\n",
              "      cursor: pointer;\n",
              "      display: none;\n",
              "      fill: #1967D2;\n",
              "      height: 32px;\n",
              "      padding: 0 0 0 0;\n",
              "      width: 32px;\n",
              "    }\n",
              "\n",
              "    .colab-df-convert:hover {\n",
              "      background-color: #E2EBFA;\n",
              "      box-shadow: 0px 1px 2px rgba(60, 64, 67, 0.3), 0px 1px 3px 1px rgba(60, 64, 67, 0.15);\n",
              "      fill: #174EA6;\n",
              "    }\n",
              "\n",
              "    [theme=dark] .colab-df-convert {\n",
              "      background-color: #3B4455;\n",
              "      fill: #D2E3FC;\n",
              "    }\n",
              "\n",
              "    [theme=dark] .colab-df-convert:hover {\n",
              "      background-color: #434B5C;\n",
              "      box-shadow: 0px 1px 3px 1px rgba(0, 0, 0, 0.15);\n",
              "      filter: drop-shadow(0px 1px 2px rgba(0, 0, 0, 0.3));\n",
              "      fill: #FFFFFF;\n",
              "    }\n",
              "  </style>\n",
              "\n",
              "      <script>\n",
              "        const buttonEl =\n",
              "          document.querySelector('#df-35d549cf-8310-4bb6-a8a9-f4173413b873 button.colab-df-convert');\n",
              "        buttonEl.style.display =\n",
              "          google.colab.kernel.accessAllowed ? 'block' : 'none';\n",
              "\n",
              "        async function convertToInteractive(key) {\n",
              "          const element = document.querySelector('#df-35d549cf-8310-4bb6-a8a9-f4173413b873');\n",
              "          const dataTable =\n",
              "            await google.colab.kernel.invokeFunction('convertToInteractive',\n",
              "                                                     [key], {});\n",
              "          if (!dataTable) return;\n",
              "\n",
              "          const docLinkHtml = 'Like what you see? Visit the ' +\n",
              "            '<a target=\"_blank\" href=https://colab.research.google.com/notebooks/data_table.ipynb>data table notebook</a>'\n",
              "            + ' to learn more about interactive tables.';\n",
              "          element.innerHTML = '';\n",
              "          dataTable['output_type'] = 'display_data';\n",
              "          await google.colab.output.renderOutput(dataTable, element);\n",
              "          const docLink = document.createElement('div');\n",
              "          docLink.innerHTML = docLinkHtml;\n",
              "          element.appendChild(docLink);\n",
              "        }\n",
              "      </script>\n",
              "    </div>\n",
              "  </div>\n",
              "  "
            ]
          },
          "metadata": {},
          "execution_count": 56
        }
      ]
    },
    {
      "cell_type": "code",
      "source": [
        "# Boxplot to compare the algorithms\n",
        "\n",
        "fig = plt.figure(figsize = (15,6))\n",
        "plt.title('BOXPLOT - COMPARISON OF REGRESSION ALGORITHMS', fontsize = 13, color ='dimgrey', fontweight = 'bold')\n",
        "ax = fig.add_subplot(111)\n",
        "plt.boxplot(results)\n",
        "ax.set_xticklabels(names)\n",
        "plt.xticks(rotation=45, ha='right')\n",
        "plt.show();"
      ],
      "metadata": {
        "id": "YsrSAL3akhOY",
        "colab": {
          "base_uri": "https://localhost:8080/",
          "height": 538
        },
        "outputId": "21284a2f-ac57-48bb-d661-8c9a49ba1e0c"
      },
      "execution_count": null,
      "outputs": [
        {
          "output_type": "stream",
          "name": "stderr",
          "text": [
            "<ipython-input-57-33dc0dedf5de>:5: MatplotlibDeprecationWarning: Adding an axes using the same arguments as a previous axes currently reuses the earlier instance.  In a future version, a new instance will always be created and returned.  Meanwhile, this warning can be suppressed, and the future behavior ensured, by passing a unique label to each axes instance.\n",
            "  ax = fig.add_subplot(111)\n"
          ]
        },
        {
          "output_type": "display_data",
          "data": {
            "text/plain": [
              "<Figure size 1080x432 with 1 Axes>"
            ],
            "image/png": "[encoded data removed]"
          },
          "metadata": {
            "needs_background": "light"
          }
        }
      ]
    },
    {
      "cell_type": "code",
      "source": [
        "X_train_padr = X_train.copy()"
      ],
      "metadata": {
        "id": "x6lsrqnjd3FK"
      },
      "execution_count": null,
      "outputs": []
    },
    {
      "cell_type": "code",
      "source": [
        "standardization = StandardScaler()"
      ],
      "metadata": {
        "id": "MAH_8hmePWNH"
      },
      "execution_count": null,
      "outputs": []
    },
    {
      "cell_type": "code",
      "source": [
        "num_col = ['Duration_hour', 'Dep_Time_hour', 'Dep_Time_minute', 'Duration_minute', 'day_of_journey', 'Arrival_Time_minute', 'Arrival_Time_hour']"
      ],
      "metadata": {
        "id": "Mxew2QGwPjW7"
      },
      "execution_count": null,
      "outputs": []
    },
    {
      "cell_type": "code",
      "source": [
        "X_train_padr[num_col] = standardization.fit_transform(X_train[num_col])"
      ],
      "metadata": {
        "id": "YaqDkZ2TPYyh"
      },
      "execution_count": null,
      "outputs": []
    },
    {
      "cell_type": "code",
      "source": [
        "X_train_padr.describe().T"
      ],
      "metadata": {
        "colab": {
          "base_uri": "https://localhost:8080/",
          "height": 669
        },
        "id": "Gd5RU-s2PadT",
        "outputId": "fbbda114-6c8a-435c-e280-a83025a2f9ca"
      },
      "execution_count": null,
      "outputs": [
        {
          "output_type": "execute_result",
          "data": {
            "text/plain": [
              "                             count          mean       std       min  \\\n",
              "Duration_hour               7476.0  5.429341e-17  1.000067 -1.701456   \n",
              "Airline__Jet Airways        7476.0  3.603531e-01  0.480135  0.000000   \n",
              "Airline__IndiGo             7476.0  1.922151e-01  0.394068  0.000000   \n",
              "Airline__SpiceJet           7476.0  7.664526e-02  0.266046  0.000000   \n",
              "Airline__Air India          7476.0  1.639914e-01  0.370293  0.000000   \n",
              "Airline__Multiple carriers  7476.0  1.119583e-01  0.315336  0.000000   \n",
              "Airline__Air Asia           7476.0  2.982879e-02  0.170126  0.000000   \n",
              "Airline__Vistara            7476.0  4.481006e-02  0.206901  0.000000   \n",
              "Airline__GoAir              7476.0  1.819155e-02  0.133653  0.000000   \n",
              "Source__Delhi               7476.0  4.248261e-01  0.494350  0.000000   \n",
              "Source__Mumbai              7476.0  6.420546e-02  0.245135  0.000000   \n",
              "Destination__Cochin         7476.0  4.248261e-01  0.494350  0.000000   \n",
              "Destination__Hyderabad      7476.0  6.420546e-02  0.245135  0.000000   \n",
              "Destination__Delhi          7476.0  2.071964e-01  0.405325  0.000000   \n",
              "Dep_Time_hour               7476.0  1.235561e-16  1.000067 -2.165516   \n",
              "Dep_Time_minute             7476.0 -1.587221e-16  1.000067 -1.295598   \n",
              "Duration_minute             7476.0 -8.363799e-17  1.000067 -1.648549   \n",
              "day_of_journey              7476.0 -9.361752e-17  1.000067 -1.473351   \n",
              "Arrival_Time_minute         7476.0 -7.746018e-17  1.000067 -1.488288   \n",
              "Arrival_Time_hour           7476.0  2.183617e-16  1.000067 -1.935900   \n",
              "\n",
              "                                 25%       50%       75%       max  \n",
              "Duration_hour              -1.175080  0.098315  0.789870  1.816543  \n",
              "Airline__Jet Airways        0.000000  0.000000  1.000000  1.000000  \n",
              "Airline__IndiGo             0.000000  0.000000  0.000000  1.000000  \n",
              "Airline__SpiceJet           0.000000  0.000000  0.000000  1.000000  \n",
              "Airline__Air India          0.000000  0.000000  0.000000  1.000000  \n",
              "Airline__Multiple carriers  0.000000  0.000000  0.000000  1.000000  \n",
              "Airline__Air Asia           0.000000  0.000000  0.000000  1.000000  \n",
              "Airline__Vistara            0.000000  0.000000  0.000000  1.000000  \n",
              "Airline__GoAir              0.000000  0.000000  0.000000  1.000000  \n",
              "Source__Delhi               0.000000  0.000000  1.000000  1.000000  \n",
              "Source__Mumbai              0.000000  0.000000  0.000000  1.000000  \n",
              "Destination__Cochin         0.000000  0.000000  1.000000  1.000000  \n",
              "Destination__Hyderabad      0.000000  0.000000  0.000000  1.000000  \n",
              "Destination__Delhi          0.000000  0.000000  0.000000  1.000000  \n",
              "Dep_Time_hour              -0.949822 -0.255140  0.960554  1.828907  \n",
              "Dep_Time_minute            -1.029568  0.034553  0.832643  1.630734  \n",
              "Duration_minute            -0.770615  0.113212  0.997038  1.586256  \n",
              "day_of_journey             -0.883335 -0.175316  0.886713  1.594732  \n",
              "Arrival_Time_minute        -0.883360  0.024032  0.628960  1.838816  \n",
              "Arrival_Time_hour          -0.775105  0.095491  0.820987  1.401385  "
            ],
            "text/html": [
              "\n",
              "  <div id=\"df-3b8530ec-672d-4a35-926e-b1beb61863b7\">\n",
              "    <div class=\"colab-df-container\">\n",
              "      <div>\n",
              "<style scoped>\n",
              "    .dataframe tbody tr th:only-of-type {\n",
              "        vertical-align: middle;\n",
              "    }\n",
              "\n",
              "    .dataframe tbody tr th {\n",
              "        vertical-align: top;\n",
              "    }\n",
              "\n",
              "    .dataframe thead th {\n",
              "        text-align: right;\n",
              "    }\n",
              "</style>\n",
              "<table border=\"1\" class=\"dataframe\">\n",
              "  <thead>\n",
              "    <tr style=\"text-align: right;\">\n",
              "      <th></th>\n",
              "      <th>count</th>\n",
              "      <th>mean</th>\n",
              "      <th>std</th>\n",
              "      <th>min</th>\n",
              "      <th>25%</th>\n",
              "      <th>50%</th>\n",
              "      <th>75%</th>\n",
              "      <th>max</th>\n",
              "    </tr>\n",
              "  </thead>\n",
              "  <tbody>\n",
              "    <tr>\n",
              "      <th>Duration_hour</th>\n",
              "      <td>7476.0</td>\n",
              "      <td>5.429341e-17</td>\n",
              "      <td>1.000067</td>\n",
              "      <td>-1.701456</td>\n",
              "      <td>-1.175080</td>\n",
              "      <td>0.098315</td>\n",
              "      <td>0.789870</td>\n",
              "      <td>1.816543</td>\n",
              "    </tr>\n",
              "    <tr>\n",
              "      <th>Airline__Jet Airways</th>\n",
              "      <td>7476.0</td>\n",
              "      <td>3.603531e-01</td>\n",
              "      <td>0.480135</td>\n",
              "      <td>0.000000</td>\n",
              "      <td>0.000000</td>\n",
              "      <td>0.000000</td>\n",
              "      <td>1.000000</td>\n",
              "      <td>1.000000</td>\n",
              "    </tr>\n",
              "    <tr>\n",
              "      <th>Airline__IndiGo</th>\n",
              "      <td>7476.0</td>\n",
              "      <td>1.922151e-01</td>\n",
              "      <td>0.394068</td>\n",
              "      <td>0.000000</td>\n",
              "      <td>0.000000</td>\n",
              "      <td>0.000000</td>\n",
              "      <td>0.000000</td>\n",
              "      <td>1.000000</td>\n",
              "    </tr>\n",
              "    <tr>\n",
              "      <th>Airline__SpiceJet</th>\n",
              "      <td>7476.0</td>\n",
              "      <td>7.664526e-02</td>\n",
              "      <td>0.266046</td>\n",
              "      <td>0.000000</td>\n",
              "      <td>0.000000</td>\n",
              "      <td>0.000000</td>\n",
              "      <td>0.000000</td>\n",
              "      <td>1.000000</td>\n",
              "    </tr>\n",
              "    <tr>\n",
              "      <th>Airline__Air India</th>\n",
              "      <td>7476.0</td>\n",
              "      <td>1.639914e-01</td>\n",
              "      <td>0.370293</td>\n",
              "      <td>0.000000</td>\n",
              "      <td>0.000000</td>\n",
              "      <td>0.000000</td>\n",
              "      <td>0.000000</td>\n",
              "      <td>1.000000</td>\n",
              "    </tr>\n",
              "    <tr>\n",
              "      <th>Airline__Multiple carriers</th>\n",
              "      <td>7476.0</td>\n",
              "      <td>1.119583e-01</td>\n",
              "      <td>0.315336</td>\n",
              "      <td>0.000000</td>\n",
              "      <td>0.000000</td>\n",
              "      <td>0.000000</td>\n",
              "      <td>0.000000</td>\n",
              "      <td>1.000000</td>\n",
              "    </tr>\n",
              "    <tr>\n",
              "      <th>Airline__Air Asia</th>\n",
              "      <td>7476.0</td>\n",
              "      <td>2.982879e-02</td>\n",
              "      <td>0.170126</td>\n",
              "      <td>0.000000</td>\n",
              "      <td>0.000000</td>\n",
              "      <td>0.000000</td>\n",
              "      <td>0.000000</td>\n",
              "      <td>1.000000</td>\n",
              "    </tr>\n",
              "    <tr>\n",
              "      <th>Airline__Vistara</th>\n",
              "      <td>7476.0</td>\n",
              "      <td>4.481006e-02</td>\n",
              "      <td>0.206901</td>\n",
              "      <td>0.000000</td>\n",
              "      <td>0.000000</td>\n",
              "      <td>0.000000</td>\n",
              "      <td>0.000000</td>\n",
              "      <td>1.000000</td>\n",
              "    </tr>\n",
              "    <tr>\n",
              "      <th>Airline__GoAir</th>\n",
              "      <td>7476.0</td>\n",
              "      <td>1.819155e-02</td>\n",
              "      <td>0.133653</td>\n",
              "      <td>0.000000</td>\n",
              "      <td>0.000000</td>\n",
              "      <td>0.000000</td>\n",
              "      <td>0.000000</td>\n",
              "      <td>1.000000</td>\n",
              "    </tr>\n",
              "    <tr>\n",
              "      <th>Source__Delhi</th>\n",
              "      <td>7476.0</td>\n",
              "      <td>4.248261e-01</td>\n",
              "      <td>0.494350</td>\n",
              "      <td>0.000000</td>\n",
              "      <td>0.000000</td>\n",
              "      <td>0.000000</td>\n",
              "      <td>1.000000</td>\n",
              "      <td>1.000000</td>\n",
              "    </tr>\n",
              "    <tr>\n",
              "      <th>Source__Mumbai</th>\n",
              "      <td>7476.0</td>\n",
              "      <td>6.420546e-02</td>\n",
              "      <td>0.245135</td>\n",
              "      <td>0.000000</td>\n",
              "      <td>0.000000</td>\n",
              "      <td>0.000000</td>\n",
              "      <td>0.000000</td>\n",
              "      <td>1.000000</td>\n",
              "    </tr>\n",
              "    <tr>\n",
              "      <th>Destination__Cochin</th>\n",
              "      <td>7476.0</td>\n",
              "      <td>4.248261e-01</td>\n",
              "      <td>0.494350</td>\n",
              "      <td>0.000000</td>\n",
              "      <td>0.000000</td>\n",
              "      <td>0.000000</td>\n",
              "      <td>1.000000</td>\n",
              "      <td>1.000000</td>\n",
              "    </tr>\n",
              "    <tr>\n",
              "      <th>Destination__Hyderabad</th>\n",
              "      <td>7476.0</td>\n",
              "      <td>6.420546e-02</td>\n",
              "      <td>0.245135</td>\n",
              "      <td>0.000000</td>\n",
              "      <td>0.000000</td>\n",
              "      <td>0.000000</td>\n",
              "      <td>0.000000</td>\n",
              "      <td>1.000000</td>\n",
              "    </tr>\n",
              "    <tr>\n",
              "      <th>Destination__Delhi</th>\n",
              "      <td>7476.0</td>\n",
              "      <td>2.071964e-01</td>\n",
              "      <td>0.405325</td>\n",
              "      <td>0.000000</td>\n",
              "      <td>0.000000</td>\n",
              "      <td>0.000000</td>\n",
              "      <td>0.000000</td>\n",
              "      <td>1.000000</td>\n",
              "    </tr>\n",
              "    <tr>\n",
              "      <th>Dep_Time_hour</th>\n",
              "      <td>7476.0</td>\n",
              "      <td>1.235561e-16</td>\n",
              "      <td>1.000067</td>\n",
              "      <td>-2.165516</td>\n",
              "      <td>-0.949822</td>\n",
              "      <td>-0.255140</td>\n",
              "      <td>0.960554</td>\n",
              "      <td>1.828907</td>\n",
              "    </tr>\n",
              "    <tr>\n",
              "      <th>Dep_Time_minute</th>\n",
              "      <td>7476.0</td>\n",
              "      <td>-1.587221e-16</td>\n",
              "      <td>1.000067</td>\n",
              "      <td>-1.295598</td>\n",
              "      <td>-1.029568</td>\n",
              "      <td>0.034553</td>\n",
              "      <td>0.832643</td>\n",
              "      <td>1.630734</td>\n",
              "    </tr>\n",
              "    <tr>\n",
              "      <th>Duration_minute</th>\n",
              "      <td>7476.0</td>\n",
              "      <td>-8.363799e-17</td>\n",
              "      <td>1.000067</td>\n",
              "      <td>-1.648549</td>\n",
              "      <td>-0.770615</td>\n",
              "      <td>0.113212</td>\n",
              "      <td>0.997038</td>\n",
              "      <td>1.586256</td>\n",
              "    </tr>\n",
              "    <tr>\n",
              "      <th>day_of_journey</th>\n",
              "      <td>7476.0</td>\n",
              "      <td>-9.361752e-17</td>\n",
              "      <td>1.000067</td>\n",
              "      <td>-1.473351</td>\n",
              "      <td>-0.883335</td>\n",
              "      <td>-0.175316</td>\n",
              "      <td>0.886713</td>\n",
              "      <td>1.594732</td>\n",
              "    </tr>\n",
              "    <tr>\n",
              "      <th>Arrival_Time_minute</th>\n",
              "      <td>7476.0</td>\n",
              "      <td>-7.746018e-17</td>\n",
              "      <td>1.000067</td>\n",
              "      <td>-1.488288</td>\n",
              "      <td>-0.883360</td>\n",
              "      <td>0.024032</td>\n",
              "      <td>0.628960</td>\n",
              "      <td>1.838816</td>\n",
              "    </tr>\n",
              "    <tr>\n",
              "      <th>Arrival_Time_hour</th>\n",
              "      <td>7476.0</td>\n",
              "      <td>2.183617e-16</td>\n",
              "      <td>1.000067</td>\n",
              "      <td>-1.935900</td>\n",
              "      <td>-0.775105</td>\n",
              "      <td>0.095491</td>\n",
              "      <td>0.820987</td>\n",
              "      <td>1.401385</td>\n",
              "    </tr>\n",
              "  </tbody>\n",
              "</table>\n",
              "</div>\n",
              "      <button class=\"colab-df-convert\" onclick=\"convertToInteractive('df-3b8530ec-672d-4a35-926e-b1beb61863b7')\"\n",
              "              title=\"Convert this dataframe to an interactive table.\"\n",
              "              style=\"display:none;\">\n",
              "        \n",
              "  <svg xmlns=\"http://www.w3.org/2000/svg\" height=\"24px\"viewBox=\"0 0 24 24\"\n",
              "       width=\"24px\">\n",
              "    <path d=\"M0 0h24v24H0V0z\" fill=\"none\"/>\n",
              "    <path d=\"M18.56 5.44l.94 2.06.94-2.06 2.06-.94-2.06-.94-.94-2.06-.94 2.06-2.06.94zm-11 1L8.5 8.5l.94-2.06 2.06-.94-2.06-.94L8.5 2.5l-.94 2.06-2.06.94zm10 10l.94 2.06.94-2.06 2.06-.94-2.06-.94-.94-2.06-.94 2.06-2.06.94z\"/><path d=\"M17.41 7.96l-1.37-1.37c-.4-.4-.92-.59-1.43-.59-.52 0-1.04.2-1.43.59L10.3 9.45l-7.72 7.72c-.78.78-.78 2.05 0 2.83L4 21.41c.39.39.9.59 1.41.59.51 0 1.02-.2 1.41-.59l7.78-7.78 2.81-2.81c.8-.78.8-2.07 0-2.86zM5.41 20L4 18.59l7.72-7.72 1.47 1.35L5.41 20z\"/>\n",
              "  </svg>\n",
              "      </button>\n",
              "      \n",
              "  <style>\n",
              "    .colab-df-container {\n",
              "      display:flex;\n",
              "      flex-wrap:wrap;\n",
              "      gap: 12px;\n",
              "    }\n",
              "\n",
              "    .colab-df-convert {\n",
              "      background-color: #E8F0FE;\n",
              "      border: none;\n",
              "      border-radius: 50%;\n",
              "      cursor: pointer;\n",
              "      display: none;\n",
              "      fill: #1967D2;\n",
              "      height: 32px;\n",
              "      padding: 0 0 0 0;\n",
              "      width: 32px;\n",
              "    }\n",
              "\n",
              "    .colab-df-convert:hover {\n",
              "      background-color: #E2EBFA;\n",
              "      box-shadow: 0px 1px 2px rgba(60, 64, 67, 0.3), 0px 1px 3px 1px rgba(60, 64, 67, 0.15);\n",
              "      fill: #174EA6;\n",
              "    }\n",
              "\n",
              "    [theme=dark] .colab-df-convert {\n",
              "      background-color: #3B4455;\n",
              "      fill: #D2E3FC;\n",
              "    }\n",
              "\n",
              "    [theme=dark] .colab-df-convert:hover {\n",
              "      background-color: #434B5C;\n",
              "      box-shadow: 0px 1px 3px 1px rgba(0, 0, 0, 0.15);\n",
              "      filter: drop-shadow(0px 1px 2px rgba(0, 0, 0, 0.3));\n",
              "      fill: #FFFFFF;\n",
              "    }\n",
              "  </style>\n",
              "\n",
              "      <script>\n",
              "        const buttonEl =\n",
              "          document.querySelector('#df-3b8530ec-672d-4a35-926e-b1beb61863b7 button.colab-df-convert');\n",
              "        buttonEl.style.display =\n",
              "          google.colab.kernel.accessAllowed ? 'block' : 'none';\n",
              "\n",
              "        async function convertToInteractive(key) {\n",
              "          const element = document.querySelector('#df-3b8530ec-672d-4a35-926e-b1beb61863b7');\n",
              "          const dataTable =\n",
              "            await google.colab.kernel.invokeFunction('convertToInteractive',\n",
              "                                                     [key], {});\n",
              "          if (!dataTable) return;\n",
              "\n",
              "          const docLinkHtml = 'Like what you see? Visit the ' +\n",
              "            '<a target=\"_blank\" href=https://colab.research.google.com/notebooks/data_table.ipynb>data table notebook</a>'\n",
              "            + ' to learn more about interactive tables.';\n",
              "          element.innerHTML = '';\n",
              "          dataTable['output_type'] = 'display_data';\n",
              "          await google.colab.output.renderOutput(dataTable, element);\n",
              "          const docLink = document.createElement('div');\n",
              "          docLink.innerHTML = docLinkHtml;\n",
              "          element.appendChild(docLink);\n",
              "        }\n",
              "      </script>\n",
              "    </div>\n",
              "  </div>\n",
              "  "
            ]
          },
          "metadata": {},
          "execution_count": 62
        }
      ]
    },
    {
      "cell_type": "code",
      "source": [
        "plt.figure(figsize=(16,7))\n",
        "ax = sns.boxplot(data=X_train_padr[num_col])\n",
        "plt.xticks(rotation=45, ha='right')\n",
        "plt.title('STANDARDIZED DATA', fontsize = 13, color ='dimgrey', fontweight = 'bold')\n",
        "plt.show();"
      ],
      "metadata": {
        "colab": {
          "base_uri": "https://localhost:8080/",
          "height": 515
        },
        "id": "g29QLbRkPd3l",
        "outputId": "1242a062-e0db-4bcf-df57-a3f026f22e5d"
      },
      "execution_count": null,
      "outputs": [
        {
          "output_type": "display_data",
          "data": {
            "text/plain": [
              "<Figure size 1152x504 with 1 Axes>"
            ],
            "image/png": "[encoded data removed]"
          },
          "metadata": {
            "needs_background": "light"
          }
        }
      ]
    },
    {
      "cell_type": "code",
      "source": [
        "X_train_padr = pd.DataFrame(X_train_padr, \n",
        "             columns=['Duration_hour', \n",
        "                      'Airline__Jet Airways', 'Airline__IndiGo', \n",
        "                      'Airline__SpiceJet', 'Airline__Air India',\n",
        "                      'Airline__Multiple carriers', 'Airline__Air Asia', 'Airline__Vistara', 'Airline__GoAir',\n",
        "                      'Source__Delhi', 'Source__Mumbai', 'Destination__Cochin', \n",
        "                      'Destination__Hyderabad', 'Destination__Delhi',\n",
        "                      'Dep_Time_hour', 'Dep_Time_minute', 'Duration_minute', 'day_of_journey',\n",
        "                      'Arrival_Time_minute', 'Arrival_Time_hour'])"
      ],
      "metadata": {
        "id": "_rv9-yuSQVXj"
      },
      "execution_count": null,
      "outputs": []
    },
    {
      "cell_type": "code",
      "source": [
        "%%time\n",
        "\n",
        "# Predictive Model Selection\n",
        "\n",
        "# Defining values for the number of folds\n",
        "num_folds = 10\n",
        "seed = 18\n",
        "\n",
        "# list of models\n",
        "\n",
        "\n",
        "models = []\n",
        "models.append(('LinearRegression', LinearRegression()))\n",
        "models.append(('KNeighborsRegressor', KNeighborsRegressor()))\n",
        "models.append(('SVR', SVR()))\n",
        "\n",
        "\n",
        "# Evaluating each model in a loop \n",
        "\n",
        "names = []\n",
        "results = []\n",
        "results_mean = []\n",
        "results_std = []\n",
        "\n",
        "for name, model in models:\n",
        "    kfold = KFold(n_splits = num_folds, random_state = seed, shuffle=True)\n",
        "    cv_results = cross_val_score(model, X_train_padr, Y_train, cv = kfold, scoring='r2')\n",
        "    results.append(cv_results)\n",
        "    results_mean.append(cv_results.mean()*100)\n",
        "    results_std.append(cv_results.std()*100)\n",
        "    names.append(name)\n",
        "\n",
        "model_result = pd.DataFrame({\n",
        "    \"Modelo\": names,\n",
        "    \"Mean\": results_mean,\n",
        "    \"STD\": results_std})\n",
        "\n",
        "model_result.sort_values('Mean', ascending=False)"
      ],
      "metadata": {
        "colab": {
          "base_uri": "https://localhost:8080/",
          "height": 176
        },
        "id": "_LGNEoP8Qgzq",
        "outputId": "c77a1379-76d1-4ab9-e050-4ebb223ce818"
      },
      "execution_count": null,
      "outputs": [
        {
          "output_type": "stream",
          "name": "stdout",
          "text": [
            "CPU times: user 33.7 s, sys: 1.99 s, total: 35.7 s\n",
            "Wall time: 35.4 s\n"
          ]
        },
        {
          "output_type": "execute_result",
          "data": {
            "text/plain": [
              "                Modelo       Mean       STD\n",
              "1  KNeighborsRegressor  74.129823  2.237134\n",
              "2                  SVR  69.151594  1.962242\n",
              "0     LinearRegression  63.999466  2.188093"
            ],
            "text/html": [
              "\n",
              "  <div id=\"df-c8ec8048-d9b7-48ba-b873-0be6e9642c33\">\n",
              "    <div class=\"colab-df-container\">\n",
              "      <div>\n",
              "<style scoped>\n",
              "    .dataframe tbody tr th:only-of-type {\n",
              "        vertical-align: middle;\n",
              "    }\n",
              "\n",
              "    .dataframe tbody tr th {\n",
              "        vertical-align: top;\n",
              "    }\n",
              "\n",
              "    .dataframe thead th {\n",
              "        text-align: right;\n",
              "    }\n",
              "</style>\n",
              "<table border=\"1\" class=\"dataframe\">\n",
              "  <thead>\n",
              "    <tr style=\"text-align: right;\">\n",
              "      <th></th>\n",
              "      <th>Modelo</th>\n",
              "      <th>Mean</th>\n",
              "      <th>STD</th>\n",
              "    </tr>\n",
              "  </thead>\n",
              "  <tbody>\n",
              "    <tr>\n",
              "      <th>1</th>\n",
              "      <td>KNeighborsRegressor</td>\n",
              "      <td>74.129823</td>\n",
              "      <td>2.237134</td>\n",
              "    </tr>\n",
              "    <tr>\n",
              "      <th>2</th>\n",
              "      <td>SVR</td>\n",
              "      <td>69.151594</td>\n",
              "      <td>1.962242</td>\n",
              "    </tr>\n",
              "    <tr>\n",
              "      <th>0</th>\n",
              "      <td>LinearRegression</td>\n",
              "      <td>63.999466</td>\n",
              "      <td>2.188093</td>\n",
              "    </tr>\n",
              "  </tbody>\n",
              "</table>\n",
              "</div>\n",
              "      <button class=\"colab-df-convert\" onclick=\"convertToInteractive('df-c8ec8048-d9b7-48ba-b873-0be6e9642c33')\"\n",
              "              title=\"Convert this dataframe to an interactive table.\"\n",
              "              style=\"display:none;\">\n",
              "        \n",
              "  <svg xmlns=\"http://www.w3.org/2000/svg\" height=\"24px\"viewBox=\"0 0 24 24\"\n",
              "       width=\"24px\">\n",
              "    <path d=\"M0 0h24v24H0V0z\" fill=\"none\"/>\n",
              "    <path d=\"M18.56 5.44l.94 2.06.94-2.06 2.06-.94-2.06-.94-.94-2.06-.94 2.06-2.06.94zm-11 1L8.5 8.5l.94-2.06 2.06-.94-2.06-.94L8.5 2.5l-.94 2.06-2.06.94zm10 10l.94 2.06.94-2.06 2.06-.94-2.06-.94-.94-2.06-.94 2.06-2.06.94z\"/><path d=\"M17.41 7.96l-1.37-1.37c-.4-.4-.92-.59-1.43-.59-.52 0-1.04.2-1.43.59L10.3 9.45l-7.72 7.72c-.78.78-.78 2.05 0 2.83L4 21.41c.39.39.9.59 1.41.59.51 0 1.02-.2 1.41-.59l7.78-7.78 2.81-2.81c.8-.78.8-2.07 0-2.86zM5.41 20L4 18.59l7.72-7.72 1.47 1.35L5.41 20z\"/>\n",
              "  </svg>\n",
              "      </button>\n",
              "      \n",
              "  <style>\n",
              "    .colab-df-container {\n",
              "      display:flex;\n",
              "      flex-wrap:wrap;\n",
              "      gap: 12px;\n",
              "    }\n",
              "\n",
              "    .colab-df-convert {\n",
              "      background-color: #E8F0FE;\n",
              "      border: none;\n",
              "      border-radius: 50%;\n",
              "      cursor: pointer;\n",
              "      display: none;\n",
              "      fill: #1967D2;\n",
              "      height: 32px;\n",
              "      padding: 0 0 0 0;\n",
              "      width: 32px;\n",
              "    }\n",
              "\n",
              "    .colab-df-convert:hover {\n",
              "      background-color: #E2EBFA;\n",
              "      box-shadow: 0px 1px 2px rgba(60, 64, 67, 0.3), 0px 1px 3px 1px rgba(60, 64, 67, 0.15);\n",
              "      fill: #174EA6;\n",
              "    }\n",
              "\n",
              "    [theme=dark] .colab-df-convert {\n",
              "      background-color: #3B4455;\n",
              "      fill: #D2E3FC;\n",
              "    }\n",
              "\n",
              "    [theme=dark] .colab-df-convert:hover {\n",
              "      background-color: #434B5C;\n",
              "      box-shadow: 0px 1px 3px 1px rgba(0, 0, 0, 0.15);\n",
              "      filter: drop-shadow(0px 1px 2px rgba(0, 0, 0, 0.3));\n",
              "      fill: #FFFFFF;\n",
              "    }\n",
              "  </style>\n",
              "\n",
              "      <script>\n",
              "        const buttonEl =\n",
              "          document.querySelector('#df-c8ec8048-d9b7-48ba-b873-0be6e9642c33 button.colab-df-convert');\n",
              "        buttonEl.style.display =\n",
              "          google.colab.kernel.accessAllowed ? 'block' : 'none';\n",
              "\n",
              "        async function convertToInteractive(key) {\n",
              "          const element = document.querySelector('#df-c8ec8048-d9b7-48ba-b873-0be6e9642c33');\n",
              "          const dataTable =\n",
              "            await google.colab.kernel.invokeFunction('convertToInteractive',\n",
              "                                                     [key], {});\n",
              "          if (!dataTable) return;\n",
              "\n",
              "          const docLinkHtml = 'Like what you see? Visit the ' +\n",
              "            '<a target=\"_blank\" href=https://colab.research.google.com/notebooks/data_table.ipynb>data table notebook</a>'\n",
              "            + ' to learn more about interactive tables.';\n",
              "          element.innerHTML = '';\n",
              "          dataTable['output_type'] = 'display_data';\n",
              "          await google.colab.output.renderOutput(dataTable, element);\n",
              "          const docLink = document.createElement('div');\n",
              "          docLink.innerHTML = docLinkHtml;\n",
              "          element.appendChild(docLink);\n",
              "        }\n",
              "      </script>\n",
              "    </div>\n",
              "  </div>\n",
              "  "
            ]
          },
          "metadata": {},
          "execution_count": 65
        }
      ]
    },
    {
      "cell_type": "markdown",
      "source": [
        "We tested algorithms that are not based on trees like KNeighborsRegressor, LinearRegression and SVR on normalized and standardized data and obtained an improvement in the results in both cases. However, tree-based models still showed the best results.\n"
      ],
      "metadata": {
        "id": "7JXQnA-GRAw6"
      }
    },
    {
      "cell_type": "markdown",
      "source": [
        "We will choose the three best models evaluated through Cross Validation to apply hyperparameter tuning.\n"
      ],
      "metadata": {
        "id": "yFAbm2VZRPoz"
      }
    },
    {
      "cell_type": "code",
      "source": [
        "X_train.shape, X_test.shape"
      ],
      "metadata": {
        "colab": {
          "base_uri": "https://localhost:8080/"
        },
        "id": "C9oUNXfJT1jG",
        "outputId": "526a45b0-b19c-4f2c-aa8c-ebce5dbbeed7"
      },
      "execution_count": null,
      "outputs": [
        {
          "output_type": "execute_result",
          "data": {
            "text/plain": [
              "((7476, 20), (3205, 30))"
            ]
          },
          "metadata": {},
          "execution_count": 66
        }
      ]
    },
    {
      "cell_type": "code",
      "source": [
        "X_test = pd.DataFrame(X_test, \n",
        "             columns=['Duration_hour', \n",
        "                      'Airline__Jet Airways', 'Airline__IndiGo', \n",
        "                      'Airline__SpiceJet', 'Airline__Air India',\n",
        "                      'Airline__Multiple carriers', 'Airline__Air Asia', 'Airline__Vistara', 'Airline__GoAir',\n",
        "                      'Source__Delhi', 'Source__Mumbai', 'Destination__Cochin',\n",
        "                      'Destination__Hyderabad', 'Destination__Delhi',\n",
        "                      'Dep_Time_hour', 'Dep_Time_minute', 'Duration_minute', 'day_of_journey',\n",
        "                      'Arrival_Time_minute', 'Arrival_Time_hour'])"
      ],
      "metadata": {
        "id": "upE8HS9gT1tZ"
      },
      "execution_count": null,
      "outputs": []
    },
    {
      "cell_type": "code",
      "source": [
        "%%time\n",
        "\n",
        "# Evaluation of Predictive Models\n",
        "\n",
        "# Metrics\n",
        "\n",
        "RSquared1 = []\n",
        "MAE1 = []\n",
        "MSE1 = []\n",
        "RMSE1 = []\n",
        "MAPE1 = []\n",
        "\n",
        "# List of models\n",
        "\n",
        "models = []\n",
        "models.append(('GradientBoostingRegressor', GradientBoostingRegressor()))\n",
        "models.append(('RandomForestRegressor', RandomForestRegressor()))\n",
        "models.append(('LGBMRegressor', ltb.LGBMRegressor()))\n",
        "models.append(('BaggingRegressor', BaggingRegressor()))\n",
        "# Evaluating each model in a loop\n",
        "\n",
        "names = []\n",
        "\n",
        "for name, model in models:\n",
        "\n",
        "    model.fit(X_train, Y_train)\n",
        "    \n",
        "    pred = model.predict(X_test)\n",
        "\n",
        "    RSquared1.append(metrics.r2_score(Y_test, pred)*100)\n",
        "    MAE1.append(metrics.mean_absolute_error(Y_test, pred))\n",
        "    MSE1.append(metrics.mean_squared_error(Y_test, pred))\n",
        "    RMSE1.append(np.sqrt(metrics.mean_squared_error(Y_test, pred)))\n",
        "    MAPE1.append(metrics.mean_absolute_percentage_error(Y_test, pred)*100)\n",
        "    names.append(name)\n",
        "    \n",
        "# Results\n",
        "    \n",
        "model_resul = pd.DataFrame({\n",
        "    'Model': names,\n",
        "    'R-Squared': RSquared1,\n",
        "    'MAE': MAE1,\n",
        "    'MSE': MSE1,\n",
        "    'RMSE': RMSE1,\n",
        "    'MAPE': MAPE1})\n",
        "\n",
        "model_resul.sort_values('R-Squared', ascending=False)"
      ],
      "metadata": {
        "colab": {
          "base_uri": "https://localhost:8080/",
          "height": 207
        },
        "id": "UYUlt4e5UDFE",
        "outputId": "6db8012e-dcf6-4dd4-c450-70df3f44c37d"
      },
      "execution_count": null,
      "outputs": [
        {
          "output_type": "stream",
          "name": "stdout",
          "text": [
            "CPU times: user 3.54 s, sys: 30.7 ms, total: 3.57 s\n",
            "Wall time: 3.44 s\n"
          ]
        },
        {
          "output_type": "execute_result",
          "data": {
            "text/plain": [
              "                       Model  R-Squared       MAE        MSE      RMSE  \\\n",
              "2              LGBMRegressor  80.444833  3.023479  16.193636  4.024132   \n",
              "1      RandomForestRegressor  76.295438  3.070802  19.629750  4.430547   \n",
              "3           BaggingRegressor  75.424637  3.137796  20.350861  4.511193   \n",
              "0  GradientBoostingRegressor  73.523433  3.624488  21.925248  4.682440   \n",
              "\n",
              "       MAPE  \n",
              "2  5.649549  \n",
              "1  5.748362  \n",
              "3  5.865102  \n",
              "0  6.730544  "
            ],
            "text/html": [
              "\n",
              "  <div id=\"df-6a44cef9-4463-4c35-8771-35edabb53c2a\">\n",
              "    <div class=\"colab-df-container\">\n",
              "      <div>\n",
              "<style scoped>\n",
              "    .dataframe tbody tr th:only-of-type {\n",
              "        vertical-align: middle;\n",
              "    }\n",
              "\n",
              "    .dataframe tbody tr th {\n",
              "        vertical-align: top;\n",
              "    }\n",
              "\n",
              "    .dataframe thead th {\n",
              "        text-align: right;\n",
              "    }\n",
              "</style>\n",
              "<table border=\"1\" class=\"dataframe\">\n",
              "  <thead>\n",
              "    <tr style=\"text-align: right;\">\n",
              "      <th></th>\n",
              "      <th>Model</th>\n",
              "      <th>R-Squared</th>\n",
              "      <th>MAE</th>\n",
              "      <th>MSE</th>\n",
              "      <th>RMSE</th>\n",
              "      <th>MAPE</th>\n",
              "    </tr>\n",
              "  </thead>\n",
              "  <tbody>\n",
              "    <tr>\n",
              "      <th>2</th>\n",
              "      <td>LGBMRegressor</td>\n",
              "      <td>80.444833</td>\n",
              "      <td>3.023479</td>\n",
              "      <td>16.193636</td>\n",
              "      <td>4.024132</td>\n",
              "      <td>5.649549</td>\n",
              "    </tr>\n",
              "    <tr>\n",
              "      <th>1</th>\n",
              "      <td>RandomForestRegressor</td>\n",
              "      <td>76.295438</td>\n",
              "      <td>3.070802</td>\n",
              "      <td>19.629750</td>\n",
              "      <td>4.430547</td>\n",
              "      <td>5.748362</td>\n",
              "    </tr>\n",
              "    <tr>\n",
              "      <th>3</th>\n",
              "      <td>BaggingRegressor</td>\n",
              "      <td>75.424637</td>\n",
              "      <td>3.137796</td>\n",
              "      <td>20.350861</td>\n",
              "      <td>4.511193</td>\n",
              "      <td>5.865102</td>\n",
              "    </tr>\n",
              "    <tr>\n",
              "      <th>0</th>\n",
              "      <td>GradientBoostingRegressor</td>\n",
              "      <td>73.523433</td>\n",
              "      <td>3.624488</td>\n",
              "      <td>21.925248</td>\n",
              "      <td>4.682440</td>\n",
              "      <td>6.730544</td>\n",
              "    </tr>\n",
              "  </tbody>\n",
              "</table>\n",
              "</div>\n",
              "      <button class=\"colab-df-convert\" onclick=\"convertToInteractive('df-6a44cef9-4463-4c35-8771-35edabb53c2a')\"\n",
              "              title=\"Convert this dataframe to an interactive table.\"\n",
              "              style=\"display:none;\">\n",
              "        \n",
              "  <svg xmlns=\"http://www.w3.org/2000/svg\" height=\"24px\"viewBox=\"0 0 24 24\"\n",
              "       width=\"24px\">\n",
              "    <path d=\"M0 0h24v24H0V0z\" fill=\"none\"/>\n",
              "    <path d=\"M18.56 5.44l.94 2.06.94-2.06 2.06-.94-2.06-.94-.94-2.06-.94 2.06-2.06.94zm-11 1L8.5 8.5l.94-2.06 2.06-.94-2.06-.94L8.5 2.5l-.94 2.06-2.06.94zm10 10l.94 2.06.94-2.06 2.06-.94-2.06-.94-.94-2.06-.94 2.06-2.06.94z\"/><path d=\"M17.41 7.96l-1.37-1.37c-.4-.4-.92-.59-1.43-.59-.52 0-1.04.2-1.43.59L10.3 9.45l-7.72 7.72c-.78.78-.78 2.05 0 2.83L4 21.41c.39.39.9.59 1.41.59.51 0 1.02-.2 1.41-.59l7.78-7.78 2.81-2.81c.8-.78.8-2.07 0-2.86zM5.41 20L4 18.59l7.72-7.72 1.47 1.35L5.41 20z\"/>\n",
              "  </svg>\n",
              "      </button>\n",
              "      \n",
              "  <style>\n",
              "    .colab-df-container {\n",
              "      display:flex;\n",
              "      flex-wrap:wrap;\n",
              "      gap: 12px;\n",
              "    }\n",
              "\n",
              "    .colab-df-convert {\n",
              "      background-color: #E8F0FE;\n",
              "      border: none;\n",
              "      border-radius: 50%;\n",
              "      cursor: pointer;\n",
              "      display: none;\n",
              "      fill: #1967D2;\n",
              "      height: 32px;\n",
              "      padding: 0 0 0 0;\n",
              "      width: 32px;\n",
              "    }\n",
              "\n",
              "    .colab-df-convert:hover {\n",
              "      background-color: #E2EBFA;\n",
              "      box-shadow: 0px 1px 2px rgba(60, 64, 67, 0.3), 0px 1px 3px 1px rgba(60, 64, 67, 0.15);\n",
              "      fill: #174EA6;\n",
              "    }\n",
              "\n",
              "    [theme=dark] .colab-df-convert {\n",
              "      background-color: #3B4455;\n",
              "      fill: #D2E3FC;\n",
              "    }\n",
              "\n",
              "    [theme=dark] .colab-df-convert:hover {\n",
              "      background-color: #434B5C;\n",
              "      box-shadow: 0px 1px 3px 1px rgba(0, 0, 0, 0.15);\n",
              "      filter: drop-shadow(0px 1px 2px rgba(0, 0, 0, 0.3));\n",
              "      fill: #FFFFFF;\n",
              "    }\n",
              "  </style>\n",
              "\n",
              "      <script>\n",
              "        const buttonEl =\n",
              "          document.querySelector('#df-6a44cef9-4463-4c35-8771-35edabb53c2a button.colab-df-convert');\n",
              "        buttonEl.style.display =\n",
              "          google.colab.kernel.accessAllowed ? 'block' : 'none';\n",
              "\n",
              "        async function convertToInteractive(key) {\n",
              "          const element = document.querySelector('#df-6a44cef9-4463-4c35-8771-35edabb53c2a');\n",
              "          const dataTable =\n",
              "            await google.colab.kernel.invokeFunction('convertToInteractive',\n",
              "                                                     [key], {});\n",
              "          if (!dataTable) return;\n",
              "\n",
              "          const docLinkHtml = 'Like what you see? Visit the ' +\n",
              "            '<a target=\"_blank\" href=https://colab.research.google.com/notebooks/data_table.ipynb>data table notebook</a>'\n",
              "            + ' to learn more about interactive tables.';\n",
              "          element.innerHTML = '';\n",
              "          dataTable['output_type'] = 'display_data';\n",
              "          await google.colab.output.renderOutput(dataTable, element);\n",
              "          const docLink = document.createElement('div');\n",
              "          docLink.innerHTML = docLinkHtml;\n",
              "          element.appendChild(docLink);\n",
              "        }\n",
              "      </script>\n",
              "    </div>\n",
              "  </div>\n",
              "  "
            ]
          },
          "metadata": {},
          "execution_count": 68
        }
      ]
    }
  ]
}